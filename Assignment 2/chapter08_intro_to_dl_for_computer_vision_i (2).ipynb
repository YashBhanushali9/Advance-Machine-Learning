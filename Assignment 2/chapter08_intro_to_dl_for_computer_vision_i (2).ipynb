{
  "cells": [
    {
      "cell_type": "markdown",
      "metadata": {
        "id": "wozxk6QEEI4Q"
      },
      "source": [
        "This is a companion notebook for the book [Deep Learning with Python, Second Edition](https://www.manning.com/books/deep-learning-with-python-second-edition?a_aid=keras&a_bid=76564dff). For readability, it only contains runnable code blocks and section titles, and omits everything else in the book: text paragraphs, figures, and pseudocode.\n",
        "\n",
        "**If you want to be able to follow what's going on, I recommend reading the notebook side by side with your copy of the book.**\n",
        "\n",
        "This notebook was generated for TensorFlow 2.6."
      ]
    },
    {
      "cell_type": "markdown",
      "metadata": {
        "id": "O8KI-8erEI4W"
      },
      "source": [
        "# Introduction to deep learning for computer vision"
      ]
    },
    {
      "cell_type": "markdown",
      "metadata": {
        "id": "e7p2OfIAEI4X"
      },
      "source": [
        "## Introduction to convnets"
      ]
    },
    {
      "cell_type": "markdown",
      "metadata": {
        "id": "rsry0p45EI4X"
      },
      "source": [
        "**Instantiating a small convnet**"
      ]
    },
    {
      "cell_type": "code",
      "execution_count": 14,
      "metadata": {
        "id": "7FNobmFaEI4Y"
      },
      "outputs": [],
      "source": [
        "from tensorflow import keras\n",
        "from tensorflow.keras import layers\n",
        "inputs = keras.Input(shape=(28, 28, 1))\n",
        "x = layers.Conv2D(filters=32, kernel_size=3, activation=\"relu\")(inputs)\n",
        "x = layers.MaxPooling2D(pool_size=2)(x)\n",
        "x = layers.Conv2D(filters=64, kernel_size=3, activation=\"relu\")(x)\n",
        "x = layers.MaxPooling2D(pool_size=2)(x)\n",
        "x = layers.Conv2D(filters=128, kernel_size=3, activation=\"relu\")(x)\n",
        "x = layers.Flatten()(x)\n",
        "outputs = layers.Dense(10, activation=\"softmax\")(x)\n",
        "model = keras.Model(inputs=inputs, outputs=outputs)"
      ]
    },
    {
      "cell_type": "markdown",
      "metadata": {
        "id": "vdhQrmeiEI4Z"
      },
      "source": [
        "**Displaying the model's summary**"
      ]
    },
    {
      "cell_type": "code",
      "execution_count": 2,
      "metadata": {
        "colab": {
          "base_uri": "https://localhost:8080/"
        },
        "id": "QxLvVpbzEI4a",
        "outputId": "1a1af77d-942d-4d71-ffe8-361823d2aea0"
      },
      "outputs": [
        {
          "output_type": "stream",
          "name": "stdout",
          "text": [
            "Model: \"model\"\n",
            "_________________________________________________________________\n",
            " Layer (type)                Output Shape              Param #   \n",
            "=================================================================\n",
            " input_1 (InputLayer)        [(None, 28, 28, 1)]       0         \n",
            "                                                                 \n",
            " conv2d (Conv2D)             (None, 26, 26, 32)        320       \n",
            "                                                                 \n",
            " max_pooling2d (MaxPooling2D  (None, 13, 13, 32)       0         \n",
            " )                                                               \n",
            "                                                                 \n",
            " conv2d_1 (Conv2D)           (None, 11, 11, 64)        18496     \n",
            "                                                                 \n",
            " max_pooling2d_1 (MaxPooling  (None, 5, 5, 64)         0         \n",
            " 2D)                                                             \n",
            "                                                                 \n",
            " conv2d_2 (Conv2D)           (None, 3, 3, 128)         73856     \n",
            "                                                                 \n",
            " flatten (Flatten)           (None, 1152)              0         \n",
            "                                                                 \n",
            " dense (Dense)               (None, 10)                11530     \n",
            "                                                                 \n",
            "=================================================================\n",
            "Total params: 104,202\n",
            "Trainable params: 104,202\n",
            "Non-trainable params: 0\n",
            "_________________________________________________________________\n"
          ]
        }
      ],
      "source": [
        "model.summary()"
      ]
    },
    {
      "cell_type": "markdown",
      "metadata": {
        "id": "QoiYHzRcEI4a"
      },
      "source": [
        "**Training the convnet on MNIST images**"
      ]
    },
    {
      "cell_type": "code",
      "execution_count": 15,
      "metadata": {
        "colab": {
          "base_uri": "https://localhost:8080/"
        },
        "id": "nKOqLP4BEI4b",
        "outputId": "f3b92df8-ba93-42e7-af4f-b2e3923d5742"
      },
      "outputs": [
        {
          "output_type": "stream",
          "name": "stdout",
          "text": [
            "Epoch 1/5\n",
            "938/938 [==============================] - 4s 4ms/step - loss: 0.1575 - accuracy: 0.9504\n",
            "Epoch 2/5\n",
            "938/938 [==============================] - 3s 4ms/step - loss: 0.0436 - accuracy: 0.9866\n",
            "Epoch 3/5\n",
            "938/938 [==============================] - 3s 4ms/step - loss: 0.0296 - accuracy: 0.9905\n",
            "Epoch 4/5\n",
            "938/938 [==============================] - 3s 4ms/step - loss: 0.0230 - accuracy: 0.9934\n",
            "Epoch 5/5\n",
            "938/938 [==============================] - 3s 4ms/step - loss: 0.0176 - accuracy: 0.9951\n"
          ]
        },
        {
          "output_type": "execute_result",
          "data": {
            "text/plain": [
              "<keras.callbacks.History at 0x7f47c7fe3790>"
            ]
          },
          "metadata": {},
          "execution_count": 15
        }
      ],
      "source": [
        "from tensorflow.keras.datasets import mnist\n",
        "\n",
        "(train_images, train_labels), (test_images, test_labels) = mnist.load_data()\n",
        "train_images = train_images.reshape((60000, 28, 28, 1))\n",
        "train_images = train_images.astype(\"float32\") / 255\n",
        "test_images = test_images.reshape((10000, 28, 28, 1))\n",
        "test_images = test_images.astype(\"float32\") / 255\n",
        "model.compile(optimizer=\"rmsprop\",\n",
        "    loss=\"sparse_categorical_crossentropy\",\n",
        "    metrics=[\"accuracy\"])\n",
        "model.fit(train_images, train_labels, epochs=5, batch_size=64)"
      ]
    },
    {
      "cell_type": "markdown",
      "metadata": {
        "id": "A-lAg-gCEI4c"
      },
      "source": [
        "**Evaluating the convnet**"
      ]
    },
    {
      "cell_type": "code",
      "execution_count": 16,
      "metadata": {
        "colab": {
          "base_uri": "https://localhost:8080/"
        },
        "id": "U-F2vu08EI4c",
        "outputId": "da29a93b-56d7-4376-ce81-c23623dbb3a8"
      },
      "outputs": [
        {
          "output_type": "stream",
          "name": "stdout",
          "text": [
            "313/313 [==============================] - 1s 2ms/step - loss: 0.0375 - accuracy: 0.9889\n",
            "Test accuracy: 0.989\n"
          ]
        }
      ],
      "source": [
        "test_loss, test_acc = model.evaluate(test_images, test_labels)\n",
        "print(f\"Test accuracy: {test_acc:.3f}\")"
      ]
    },
    {
      "cell_type": "markdown",
      "metadata": {
        "id": "eK02CmdjEI4c"
      },
      "source": [
        "### The convolution operation"
      ]
    },
    {
      "cell_type": "markdown",
      "metadata": {
        "id": "RmpS2UrZEI4d"
      },
      "source": [
        "#### Understanding border effects and padding"
      ]
    },
    {
      "cell_type": "markdown",
      "metadata": {
        "id": "a5ytwQdAEI4d"
      },
      "source": [
        "#### Understanding convolution strides"
      ]
    },
    {
      "cell_type": "markdown",
      "metadata": {
        "id": "GW6wZPy0EI4e"
      },
      "source": [
        "### The max-pooling operation"
      ]
    },
    {
      "cell_type": "markdown",
      "metadata": {
        "id": "a_tkSGBCEI4e"
      },
      "source": [
        "**An incorrectly structured convnet missing its max-pooling layers**"
      ]
    },
    {
      "cell_type": "code",
      "execution_count": 17,
      "metadata": {
        "id": "fyeFOlrIEI4e"
      },
      "outputs": [],
      "source": [
        "inputs = keras.Input(shape=(28, 28, 1))\n",
        "x = layers.Conv2D(filters=32, kernel_size=3, activation=\"relu\")(inputs)\n",
        "x = layers.Conv2D(filters=64, kernel_size=3, activation=\"relu\")(x)\n",
        "x = layers.Conv2D(filters=128, kernel_size=3, activation=\"relu\")(x)\n",
        "x = layers.Flatten()(x)\n",
        "outputs = layers.Dense(10, activation=\"softmax\")(x)\n",
        "model_no_max_pool = keras.Model(inputs=inputs, outputs=outputs)"
      ]
    },
    {
      "cell_type": "code",
      "execution_count": 18,
      "metadata": {
        "colab": {
          "base_uri": "https://localhost:8080/"
        },
        "id": "e_3nO34MEI4f",
        "outputId": "ecc37460-93b4-4bb9-8f29-196d5ad4d0a5"
      },
      "outputs": [
        {
          "output_type": "stream",
          "name": "stdout",
          "text": [
            "Model: \"model_3\"\n",
            "_________________________________________________________________\n",
            " Layer (type)                Output Shape              Param #   \n",
            "=================================================================\n",
            " input_4 (InputLayer)        [(None, 28, 28, 1)]       0         \n",
            "                                                                 \n",
            " conv2d_9 (Conv2D)           (None, 26, 26, 32)        320       \n",
            "                                                                 \n",
            " conv2d_10 (Conv2D)          (None, 24, 24, 64)        18496     \n",
            "                                                                 \n",
            " conv2d_11 (Conv2D)          (None, 22, 22, 128)       73856     \n",
            "                                                                 \n",
            " flatten_3 (Flatten)         (None, 61952)             0         \n",
            "                                                                 \n",
            " dense_3 (Dense)             (None, 10)                619530    \n",
            "                                                                 \n",
            "=================================================================\n",
            "Total params: 712,202\n",
            "Trainable params: 712,202\n",
            "Non-trainable params: 0\n",
            "_________________________________________________________________\n"
          ]
        }
      ],
      "source": [
        "model_no_max_pool.summary()"
      ]
    },
    {
      "cell_type": "markdown",
      "metadata": {
        "id": "KDLjFf-XEI4f"
      },
      "source": [
        "## Training a convnet from scratch on a small dataset"
      ]
    },
    {
      "cell_type": "markdown",
      "metadata": {
        "id": "tDCdHKfQEI4f"
      },
      "source": [
        "### The relevance of deep learning for small-data problems"
      ]
    },
    {
      "cell_type": "markdown",
      "metadata": {
        "id": "LlwppZy0EI4f"
      },
      "source": [
        "### Downloading the data"
      ]
    },
    {
      "cell_type": "code",
      "execution_count": 19,
      "metadata": {
        "colab": {
          "base_uri": "https://localhost:8080/",
          "height": 92
        },
        "id": "YqtT_RnVEI4g",
        "outputId": "17a2b963-36ce-4253-9a96-3cf57f74f89f"
      },
      "outputs": [
        {
          "output_type": "display_data",
          "data": {
            "text/plain": [
              "<IPython.core.display.HTML object>"
            ],
            "text/html": [
              "\n",
              "     <input type=\"file\" id=\"files-505c2fcd-d694-4f6c-8c3c-7cd72d716e87\" name=\"files[]\" multiple disabled\n",
              "        style=\"border:none\" />\n",
              "     <output id=\"result-505c2fcd-d694-4f6c-8c3c-7cd72d716e87\">\n",
              "      Upload widget is only available when the cell has been executed in the\n",
              "      current browser session. Please rerun this cell to enable.\n",
              "      </output>\n",
              "      <script>// Copyright 2017 Google LLC\n",
              "//\n",
              "// Licensed under the Apache License, Version 2.0 (the \"License\");\n",
              "// you may not use this file except in compliance with the License.\n",
              "// You may obtain a copy of the License at\n",
              "//\n",
              "//      http://www.apache.org/licenses/LICENSE-2.0\n",
              "//\n",
              "// Unless required by applicable law or agreed to in writing, software\n",
              "// distributed under the License is distributed on an \"AS IS\" BASIS,\n",
              "// WITHOUT WARRANTIES OR CONDITIONS OF ANY KIND, either express or implied.\n",
              "// See the License for the specific language governing permissions and\n",
              "// limitations under the License.\n",
              "\n",
              "/**\n",
              " * @fileoverview Helpers for google.colab Python module.\n",
              " */\n",
              "(function(scope) {\n",
              "function span(text, styleAttributes = {}) {\n",
              "  const element = document.createElement('span');\n",
              "  element.textContent = text;\n",
              "  for (const key of Object.keys(styleAttributes)) {\n",
              "    element.style[key] = styleAttributes[key];\n",
              "  }\n",
              "  return element;\n",
              "}\n",
              "\n",
              "// Max number of bytes which will be uploaded at a time.\n",
              "const MAX_PAYLOAD_SIZE = 100 * 1024;\n",
              "\n",
              "function _uploadFiles(inputId, outputId) {\n",
              "  const steps = uploadFilesStep(inputId, outputId);\n",
              "  const outputElement = document.getElementById(outputId);\n",
              "  // Cache steps on the outputElement to make it available for the next call\n",
              "  // to uploadFilesContinue from Python.\n",
              "  outputElement.steps = steps;\n",
              "\n",
              "  return _uploadFilesContinue(outputId);\n",
              "}\n",
              "\n",
              "// This is roughly an async generator (not supported in the browser yet),\n",
              "// where there are multiple asynchronous steps and the Python side is going\n",
              "// to poll for completion of each step.\n",
              "// This uses a Promise to block the python side on completion of each step,\n",
              "// then passes the result of the previous step as the input to the next step.\n",
              "function _uploadFilesContinue(outputId) {\n",
              "  const outputElement = document.getElementById(outputId);\n",
              "  const steps = outputElement.steps;\n",
              "\n",
              "  const next = steps.next(outputElement.lastPromiseValue);\n",
              "  return Promise.resolve(next.value.promise).then((value) => {\n",
              "    // Cache the last promise value to make it available to the next\n",
              "    // step of the generator.\n",
              "    outputElement.lastPromiseValue = value;\n",
              "    return next.value.response;\n",
              "  });\n",
              "}\n",
              "\n",
              "/**\n",
              " * Generator function which is called between each async step of the upload\n",
              " * process.\n",
              " * @param {string} inputId Element ID of the input file picker element.\n",
              " * @param {string} outputId Element ID of the output display.\n",
              " * @return {!Iterable<!Object>} Iterable of next steps.\n",
              " */\n",
              "function* uploadFilesStep(inputId, outputId) {\n",
              "  const inputElement = document.getElementById(inputId);\n",
              "  inputElement.disabled = false;\n",
              "\n",
              "  const outputElement = document.getElementById(outputId);\n",
              "  outputElement.innerHTML = '';\n",
              "\n",
              "  const pickedPromise = new Promise((resolve) => {\n",
              "    inputElement.addEventListener('change', (e) => {\n",
              "      resolve(e.target.files);\n",
              "    });\n",
              "  });\n",
              "\n",
              "  const cancel = document.createElement('button');\n",
              "  inputElement.parentElement.appendChild(cancel);\n",
              "  cancel.textContent = 'Cancel upload';\n",
              "  const cancelPromise = new Promise((resolve) => {\n",
              "    cancel.onclick = () => {\n",
              "      resolve(null);\n",
              "    };\n",
              "  });\n",
              "\n",
              "  // Wait for the user to pick the files.\n",
              "  const files = yield {\n",
              "    promise: Promise.race([pickedPromise, cancelPromise]),\n",
              "    response: {\n",
              "      action: 'starting',\n",
              "    }\n",
              "  };\n",
              "\n",
              "  cancel.remove();\n",
              "\n",
              "  // Disable the input element since further picks are not allowed.\n",
              "  inputElement.disabled = true;\n",
              "\n",
              "  if (!files) {\n",
              "    return {\n",
              "      response: {\n",
              "        action: 'complete',\n",
              "      }\n",
              "    };\n",
              "  }\n",
              "\n",
              "  for (const file of files) {\n",
              "    const li = document.createElement('li');\n",
              "    li.append(span(file.name, {fontWeight: 'bold'}));\n",
              "    li.append(span(\n",
              "        `(${file.type || 'n/a'}) - ${file.size} bytes, ` +\n",
              "        `last modified: ${\n",
              "            file.lastModifiedDate ? file.lastModifiedDate.toLocaleDateString() :\n",
              "                                    'n/a'} - `));\n",
              "    const percent = span('0% done');\n",
              "    li.appendChild(percent);\n",
              "\n",
              "    outputElement.appendChild(li);\n",
              "\n",
              "    const fileDataPromise = new Promise((resolve) => {\n",
              "      const reader = new FileReader();\n",
              "      reader.onload = (e) => {\n",
              "        resolve(e.target.result);\n",
              "      };\n",
              "      reader.readAsArrayBuffer(file);\n",
              "    });\n",
              "    // Wait for the data to be ready.\n",
              "    let fileData = yield {\n",
              "      promise: fileDataPromise,\n",
              "      response: {\n",
              "        action: 'continue',\n",
              "      }\n",
              "    };\n",
              "\n",
              "    // Use a chunked sending to avoid message size limits. See b/62115660.\n",
              "    let position = 0;\n",
              "    do {\n",
              "      const length = Math.min(fileData.byteLength - position, MAX_PAYLOAD_SIZE);\n",
              "      const chunk = new Uint8Array(fileData, position, length);\n",
              "      position += length;\n",
              "\n",
              "      const base64 = btoa(String.fromCharCode.apply(null, chunk));\n",
              "      yield {\n",
              "        response: {\n",
              "          action: 'append',\n",
              "          file: file.name,\n",
              "          data: base64,\n",
              "        },\n",
              "      };\n",
              "\n",
              "      let percentDone = fileData.byteLength === 0 ?\n",
              "          100 :\n",
              "          Math.round((position / fileData.byteLength) * 100);\n",
              "      percent.textContent = `${percentDone}% done`;\n",
              "\n",
              "    } while (position < fileData.byteLength);\n",
              "  }\n",
              "\n",
              "  // All done.\n",
              "  yield {\n",
              "    response: {\n",
              "      action: 'complete',\n",
              "    }\n",
              "  };\n",
              "}\n",
              "\n",
              "scope.google = scope.google || {};\n",
              "scope.google.colab = scope.google.colab || {};\n",
              "scope.google.colab._files = {\n",
              "  _uploadFiles,\n",
              "  _uploadFilesContinue,\n",
              "};\n",
              "})(self);\n",
              "</script> "
            ]
          },
          "metadata": {}
        },
        {
          "output_type": "stream",
          "name": "stdout",
          "text": [
            "Saving dogs-vs-cats.zip to dogs-vs-cats.zip\n"
          ]
        }
      ],
      "source": [
        "from google.colab import files\n",
        "files.upload()"
      ]
    },
    {
      "cell_type": "code",
      "execution_count": 63,
      "metadata": {
        "colab": {
          "base_uri": "https://localhost:8080/"
        },
        "id": "9fHORyRiEI4g",
        "outputId": "f4825e86-c298-4e9a-972a-88868f0c7693"
      },
      "outputs": [
        {
          "output_type": "stream",
          "name": "stdout",
          "text": [
            "replace sampleSubmission.csv? [y]es, [n]o, [A]ll, [N]one, [r]ename: replace train/cat.0.jpg? [y]es, [n]o, [A]ll, [N]one, [r]ename: replace test1/1.jpg? [y]es, [n]o, [A]ll, [N]one, [r]ename: "
          ]
        }
      ],
      "source": [
        "!unzip -qq dogs-vs-cats.zip\n",
        "!unzip -qq train.zip\n",
        "!unzip -qq test1.zip"
      ]
    },
    {
      "cell_type": "markdown",
      "metadata": {
        "id": "wH0bpDp4EI4g"
      },
      "source": [
        "**Copying images to training, validation, and test directories**"
      ]
    },
    {
      "cell_type": "code",
      "execution_count": 393,
      "metadata": {
        "id": "w77WPlkAEI4g"
      },
      "outputs": [],
      "source": [
        "import os, shutil, pathlib\n",
        "\n",
        "original_dir = pathlib.Path(\"train\")\n",
        "new_base_dir = pathlib.Path(\"cats_vs_dogs_small\")\n",
        "\n",
        "def make_subset(subset_name, start_index, end_index):\n",
        "    for category in (\"cat\", \"dog\"):\n",
        "        dir = new_base_dir / subset_name / category\n",
        "\n",
        "        fnames = [f\"{category}.{i}.jpg\" for i in range(start_index, end_index)]\n",
        "        for fname in fnames:\n",
        "            shutil.copyfile(src=original_dir / fname,\n",
        "                            dst=dir / fname)\n",
        "\n",
        "make_subset(\"train\", start_index=0, end_index=1000)\n",
        "make_subset(\"validation\", start_index=1000, end_index=1500)\n",
        "make_subset(\"test\", start_index=1500, end_index=2500)"
      ]
    },
    {
      "cell_type": "markdown",
      "metadata": {
        "id": "FmsUfnz9EI4h"
      },
      "source": [
        "### Building the model"
      ]
    },
    {
      "cell_type": "markdown",
      "metadata": {
        "id": "fwaZkv5rEI4h"
      },
      "source": [
        "**Instantiating a small convnet for dogs vs. cats classification**"
      ]
    },
    {
      "cell_type": "code",
      "execution_count": 357,
      "metadata": {
        "id": "6obpJltiEI4h"
      },
      "outputs": [],
      "source": [
        "from tensorflow import keras\n",
        "from tensorflow.keras import layers\n",
        "\n",
        "inputs = keras.Input(shape=(180, 180, 3))\n",
        "x = layers.Rescaling(1./255)(inputs)\n",
        "x = layers.Conv2D(filters=32, kernel_size=3, activation=\"sigmoid\")(x)\n",
        "x = layers.MaxPooling2D(pool_size=2)(x)\n",
        "x = layers.Conv2D(filters=64, kernel_size=3, activation=\"sigmoid\")(x)\n",
        "x = layers.MaxPooling2D(pool_size=2)(x)\n",
        "x = layers.Conv2D(filters=128, kernel_size=3, activation=\"sigmoid\")(x)\n",
        "x = layers.MaxPooling2D(pool_size=2)(x)\n",
        "x = layers.Conv2D(filters=256, kernel_size=3, activation=\"sigmoid\")(x)\n",
        "x = layers.MaxPooling2D(pool_size=2)(x)\n",
        "x = layers.Conv2D(filters=512, kernel_size=3, activation=\"sigmoid\")(x)\n",
        "x = layers.Flatten()(x)\n",
        "outputs = layers.Dense(1, activation=\"relu\")(x)\n",
        "model = keras.Model(inputs=inputs, outputs=outputs)"
      ]
    },
    {
      "cell_type": "code",
      "execution_count": 358,
      "metadata": {
        "colab": {
          "base_uri": "https://localhost:8080/"
        },
        "id": "_Is0ASvLEI4h",
        "outputId": "361bed5c-410a-49d3-92a3-6d8dd19e8e26"
      },
      "outputs": [
        {
          "output_type": "stream",
          "name": "stdout",
          "text": [
            "Model: \"model_46\"\n",
            "_________________________________________________________________\n",
            " Layer (type)                Output Shape              Param #   \n",
            "=================================================================\n",
            " input_65 (InputLayer)       [(None, 180, 180, 3)]     0         \n",
            "                                                                 \n",
            " rescaling_22 (Rescaling)    (None, 180, 180, 3)       0         \n",
            "                                                                 \n",
            " conv2d_122 (Conv2D)         (None, 178, 178, 32)      896       \n",
            "                                                                 \n",
            " max_pooling2d_92 (MaxPoolin  (None, 89, 89, 32)       0         \n",
            " g2D)                                                            \n",
            "                                                                 \n",
            " conv2d_123 (Conv2D)         (None, 87, 87, 64)        18496     \n",
            "                                                                 \n",
            " max_pooling2d_93 (MaxPoolin  (None, 43, 43, 64)       0         \n",
            " g2D)                                                            \n",
            "                                                                 \n",
            " conv2d_124 (Conv2D)         (None, 41, 41, 128)       73856     \n",
            "                                                                 \n",
            " max_pooling2d_94 (MaxPoolin  (None, 20, 20, 128)      0         \n",
            " g2D)                                                            \n",
            "                                                                 \n",
            " conv2d_125 (Conv2D)         (None, 18, 18, 256)       295168    \n",
            "                                                                 \n",
            " max_pooling2d_95 (MaxPoolin  (None, 9, 9, 256)        0         \n",
            " g2D)                                                            \n",
            "                                                                 \n",
            " conv2d_126 (Conv2D)         (None, 7, 7, 512)         1180160   \n",
            "                                                                 \n",
            " flatten_46 (Flatten)        (None, 25088)             0         \n",
            "                                                                 \n",
            " dense_66 (Dense)            (None, 1)                 25089     \n",
            "                                                                 \n",
            "=================================================================\n",
            "Total params: 1,593,665\n",
            "Trainable params: 1,593,665\n",
            "Non-trainable params: 0\n",
            "_________________________________________________________________\n"
          ]
        }
      ],
      "source": [
        "model.summary()"
      ]
    },
    {
      "cell_type": "markdown",
      "metadata": {
        "id": "LmLBsZiFEI4h"
      },
      "source": [
        "**Configuring the model for training**"
      ]
    },
    {
      "cell_type": "code",
      "execution_count": 359,
      "metadata": {
        "id": "KxVwOCTBEI4i"
      },
      "outputs": [],
      "source": [
        "model.compile(loss=\"binary_crossentropy\",\n",
        "              optimizer=\"rmsprop\",\n",
        "              metrics=[\"accuracy\"])"
      ]
    },
    {
      "cell_type": "markdown",
      "metadata": {
        "id": "zSMbQetgEI4i"
      },
      "source": [
        "### Data preprocessing"
      ]
    },
    {
      "cell_type": "markdown",
      "metadata": {
        "id": "vQD99lnrEI4i"
      },
      "source": [
        "**Using `image_dataset_from_directory` to read images**"
      ]
    },
    {
      "cell_type": "code",
      "execution_count": 360,
      "metadata": {
        "colab": {
          "base_uri": "https://localhost:8080/"
        },
        "id": "TGDvbQg9EI4i",
        "outputId": "8b051193-d8a1-477b-ecd6-2c2142b4b08f"
      },
      "outputs": [
        {
          "output_type": "stream",
          "name": "stdout",
          "text": [
            "Found 2000 files belonging to 2 classes.\n",
            "Found 1000 files belonging to 2 classes.\n",
            "Found 2000 files belonging to 2 classes.\n"
          ]
        }
      ],
      "source": [
        "from tensorflow.keras.utils import image_dataset_from_directory\n",
        "\n",
        "train_dataset = image_dataset_from_directory(\n",
        "    new_base_dir / \"train\",\n",
        "    image_size=(180, 180),\n",
        "    batch_size=64)\n",
        "validation_dataset = image_dataset_from_directory(\n",
        "    new_base_dir / \"validation\",\n",
        "    image_size=(180, 180),\n",
        "    batch_size=64)\n",
        "test_dataset = image_dataset_from_directory(\n",
        "    new_base_dir / \"test\",\n",
        "    image_size=(180, 180),\n",
        "    batch_size=64)"
      ]
    },
    {
      "cell_type": "code",
      "execution_count": 361,
      "metadata": {
        "id": "KFalVzGdEI4i"
      },
      "outputs": [],
      "source": [
        "import numpy as np\n",
        "import tensorflow as tf\n",
        "random_numbers = np.random.normal(size=(1000, 16))\n",
        "dataset = tf.data.Dataset.from_tensor_slices(random_numbers)"
      ]
    },
    {
      "cell_type": "code",
      "execution_count": 362,
      "metadata": {
        "colab": {
          "base_uri": "https://localhost:8080/"
        },
        "id": "PM601YIbEI4i",
        "outputId": "959e8e02-b14d-41b0-816e-d95f18a5d731"
      },
      "outputs": [
        {
          "output_type": "stream",
          "name": "stdout",
          "text": [
            "(16,)\n",
            "(16,)\n",
            "(16,)\n"
          ]
        }
      ],
      "source": [
        "for i, element in enumerate(dataset):\n",
        "    print(element.shape)\n",
        "    if i >= 2:\n",
        "        break"
      ]
    },
    {
      "cell_type": "code",
      "execution_count": 363,
      "metadata": {
        "colab": {
          "base_uri": "https://localhost:8080/"
        },
        "id": "GBUF3PTCEI4j",
        "outputId": "5f9b0b81-6a4a-4b9a-dd1e-afa36a080f41"
      },
      "outputs": [
        {
          "output_type": "stream",
          "name": "stdout",
          "text": [
            "(16, 16)\n",
            "(16, 16)\n",
            "(16, 16)\n"
          ]
        }
      ],
      "source": [
        "batched_dataset = dataset.batch(16)\n",
        "for i, element in enumerate(batched_dataset):\n",
        "    print(element.shape)\n",
        "    if i >= 2:\n",
        "        break"
      ]
    },
    {
      "cell_type": "code",
      "execution_count": 364,
      "metadata": {
        "colab": {
          "base_uri": "https://localhost:8080/"
        },
        "id": "jRboDJc9EI4j",
        "outputId": "71abf608-d770-4e98-dbd3-16e280dfd147"
      },
      "outputs": [
        {
          "output_type": "stream",
          "name": "stdout",
          "text": [
            "(4, 4)\n",
            "(4, 4)\n",
            "(4, 4)\n"
          ]
        }
      ],
      "source": [
        "reshaped_dataset = dataset.map(lambda x: tf.reshape(x, (4, 4)))\n",
        "for i, element in enumerate(reshaped_dataset):\n",
        "    print(element.shape)\n",
        "    if i >= 2:\n",
        "        break"
      ]
    },
    {
      "cell_type": "markdown",
      "metadata": {
        "id": "dcAHZKzVEI4j"
      },
      "source": [
        "**Displaying the shapes of the data and labels yielded by the `Dataset`**"
      ]
    },
    {
      "cell_type": "code",
      "execution_count": 365,
      "metadata": {
        "colab": {
          "base_uri": "https://localhost:8080/"
        },
        "id": "zetqdIP9EI4j",
        "outputId": "ff01feea-2b47-456d-d27f-06b298179379"
      },
      "outputs": [
        {
          "output_type": "stream",
          "name": "stdout",
          "text": [
            "data batch shape: (64, 180, 180, 3)\n",
            "labels batch shape: (64,)\n"
          ]
        }
      ],
      "source": [
        "for data_batch, labels_batch in train_dataset:\n",
        "    print(\"data batch shape:\", data_batch.shape)\n",
        "    print(\"labels batch shape:\", labels_batch.shape)\n",
        "    break"
      ]
    },
    {
      "cell_type": "markdown",
      "metadata": {
        "id": "e5WMB5zsEI4j"
      },
      "source": [
        "**Fitting the model using a `Dataset`**"
      ]
    },
    {
      "cell_type": "code",
      "execution_count": 366,
      "metadata": {
        "colab": {
          "base_uri": "https://localhost:8080/"
        },
        "id": "TKynUCrxEI4j",
        "outputId": "5b3a62af-67cc-403b-8ccc-21aea10bafcc"
      },
      "outputs": [
        {
          "output_type": "stream",
          "name": "stdout",
          "text": [
            "Epoch 1/45\n",
            "32/32 [==============================] - 3s 45ms/step - loss: 7.7125 - accuracy: 0.5000 - val_loss: 7.7125 - val_accuracy: 0.5000\n",
            "Epoch 2/45\n",
            "32/32 [==============================] - 1s 38ms/step - loss: 7.7125 - accuracy: 0.5000 - val_loss: 7.7125 - val_accuracy: 0.5000\n",
            "Epoch 3/45\n",
            "32/32 [==============================] - 1s 37ms/step - loss: 7.7125 - accuracy: 0.5000 - val_loss: 7.7125 - val_accuracy: 0.5000\n",
            "Epoch 4/45\n",
            "32/32 [==============================] - 1s 36ms/step - loss: 7.7125 - accuracy: 0.5000 - val_loss: 7.7125 - val_accuracy: 0.5000\n",
            "Epoch 5/45\n",
            "32/32 [==============================] - 1s 36ms/step - loss: 7.7125 - accuracy: 0.5000 - val_loss: 7.7125 - val_accuracy: 0.5000\n",
            "Epoch 6/45\n",
            "32/32 [==============================] - 1s 36ms/step - loss: 7.7125 - accuracy: 0.5000 - val_loss: 7.7125 - val_accuracy: 0.5000\n",
            "Epoch 7/45\n",
            "32/32 [==============================] - 1s 37ms/step - loss: 7.7125 - accuracy: 0.5000 - val_loss: 7.7125 - val_accuracy: 0.5000\n",
            "Epoch 8/45\n",
            "32/32 [==============================] - 1s 36ms/step - loss: 7.7125 - accuracy: 0.5000 - val_loss: 7.7125 - val_accuracy: 0.5000\n",
            "Epoch 9/45\n",
            "32/32 [==============================] - 1s 35ms/step - loss: 7.7125 - accuracy: 0.5000 - val_loss: 7.7125 - val_accuracy: 0.5000\n",
            "Epoch 10/45\n",
            "32/32 [==============================] - 1s 36ms/step - loss: 7.7125 - accuracy: 0.5000 - val_loss: 7.7125 - val_accuracy: 0.5000\n",
            "Epoch 11/45\n",
            "32/32 [==============================] - 1s 37ms/step - loss: 7.7125 - accuracy: 0.5000 - val_loss: 7.7125 - val_accuracy: 0.5000\n",
            "Epoch 12/45\n",
            "32/32 [==============================] - 1s 36ms/step - loss: 7.7125 - accuracy: 0.5000 - val_loss: 7.7125 - val_accuracy: 0.5000\n",
            "Epoch 13/45\n",
            "32/32 [==============================] - 1s 36ms/step - loss: 7.7125 - accuracy: 0.5000 - val_loss: 7.7125 - val_accuracy: 0.5000\n",
            "Epoch 14/45\n",
            "32/32 [==============================] - 1s 36ms/step - loss: 7.7125 - accuracy: 0.5000 - val_loss: 7.7125 - val_accuracy: 0.5000\n",
            "Epoch 15/45\n",
            "32/32 [==============================] - 1s 36ms/step - loss: 7.7125 - accuracy: 0.5000 - val_loss: 7.7125 - val_accuracy: 0.5000\n",
            "Epoch 16/45\n",
            "32/32 [==============================] - 1s 35ms/step - loss: 7.7125 - accuracy: 0.5000 - val_loss: 7.7125 - val_accuracy: 0.5000\n",
            "Epoch 17/45\n",
            "32/32 [==============================] - 1s 36ms/step - loss: 7.7125 - accuracy: 0.5000 - val_loss: 7.7125 - val_accuracy: 0.5000\n",
            "Epoch 18/45\n",
            "32/32 [==============================] - 1s 36ms/step - loss: 7.7125 - accuracy: 0.5000 - val_loss: 7.7125 - val_accuracy: 0.5000\n",
            "Epoch 19/45\n",
            "32/32 [==============================] - 1s 36ms/step - loss: 7.7125 - accuracy: 0.5000 - val_loss: 7.7125 - val_accuracy: 0.5000\n",
            "Epoch 20/45\n",
            "32/32 [==============================] - 1s 36ms/step - loss: 7.7125 - accuracy: 0.5000 - val_loss: 7.7125 - val_accuracy: 0.5000\n",
            "Epoch 21/45\n",
            "32/32 [==============================] - 1s 36ms/step - loss: 7.7125 - accuracy: 0.5000 - val_loss: 7.7125 - val_accuracy: 0.5000\n",
            "Epoch 22/45\n",
            "32/32 [==============================] - 1s 36ms/step - loss: 7.7125 - accuracy: 0.5000 - val_loss: 7.7125 - val_accuracy: 0.5000\n",
            "Epoch 23/45\n",
            "32/32 [==============================] - 1s 36ms/step - loss: 7.7125 - accuracy: 0.5000 - val_loss: 7.7125 - val_accuracy: 0.5000\n",
            "Epoch 24/45\n",
            "32/32 [==============================] - 1s 36ms/step - loss: 7.7125 - accuracy: 0.5000 - val_loss: 7.7125 - val_accuracy: 0.5000\n",
            "Epoch 25/45\n",
            "32/32 [==============================] - 1s 36ms/step - loss: 7.7125 - accuracy: 0.5000 - val_loss: 7.7125 - val_accuracy: 0.5000\n",
            "Epoch 26/45\n",
            "32/32 [==============================] - 1s 36ms/step - loss: 7.7125 - accuracy: 0.5000 - val_loss: 7.7125 - val_accuracy: 0.5000\n",
            "Epoch 27/45\n",
            "32/32 [==============================] - 1s 36ms/step - loss: 7.7125 - accuracy: 0.5000 - val_loss: 7.7125 - val_accuracy: 0.5000\n",
            "Epoch 28/45\n",
            "32/32 [==============================] - 1s 37ms/step - loss: 7.7125 - accuracy: 0.5000 - val_loss: 7.7125 - val_accuracy: 0.5000\n",
            "Epoch 29/45\n",
            "32/32 [==============================] - 1s 37ms/step - loss: 7.7125 - accuracy: 0.5000 - val_loss: 7.7125 - val_accuracy: 0.5000\n",
            "Epoch 30/45\n",
            "32/32 [==============================] - 1s 36ms/step - loss: 7.7125 - accuracy: 0.5000 - val_loss: 7.7125 - val_accuracy: 0.5000\n",
            "Epoch 31/45\n",
            "32/32 [==============================] - 1s 36ms/step - loss: 7.7125 - accuracy: 0.5000 - val_loss: 7.7125 - val_accuracy: 0.5000\n",
            "Epoch 32/45\n",
            "32/32 [==============================] - 1s 36ms/step - loss: 7.7125 - accuracy: 0.5000 - val_loss: 7.7125 - val_accuracy: 0.5000\n",
            "Epoch 33/45\n",
            "32/32 [==============================] - 1s 36ms/step - loss: 7.7125 - accuracy: 0.5000 - val_loss: 7.7125 - val_accuracy: 0.5000\n",
            "Epoch 34/45\n",
            "32/32 [==============================] - 1s 36ms/step - loss: 7.7125 - accuracy: 0.5000 - val_loss: 7.7125 - val_accuracy: 0.5000\n",
            "Epoch 35/45\n",
            "32/32 [==============================] - 1s 36ms/step - loss: 7.7125 - accuracy: 0.5000 - val_loss: 7.7125 - val_accuracy: 0.5000\n",
            "Epoch 36/45\n",
            "32/32 [==============================] - 1s 36ms/step - loss: 7.7125 - accuracy: 0.5000 - val_loss: 7.7125 - val_accuracy: 0.5000\n",
            "Epoch 37/45\n",
            "32/32 [==============================] - 1s 37ms/step - loss: 7.7125 - accuracy: 0.5000 - val_loss: 7.7125 - val_accuracy: 0.5000\n",
            "Epoch 38/45\n",
            "32/32 [==============================] - 1s 36ms/step - loss: 7.7125 - accuracy: 0.5000 - val_loss: 7.7125 - val_accuracy: 0.5000\n",
            "Epoch 39/45\n",
            "32/32 [==============================] - 1s 36ms/step - loss: 7.7125 - accuracy: 0.5000 - val_loss: 7.7125 - val_accuracy: 0.5000\n",
            "Epoch 40/45\n",
            "32/32 [==============================] - 1s 36ms/step - loss: 7.7125 - accuracy: 0.5000 - val_loss: 7.7125 - val_accuracy: 0.5000\n",
            "Epoch 41/45\n",
            "32/32 [==============================] - 1s 36ms/step - loss: 7.7125 - accuracy: 0.5000 - val_loss: 7.7125 - val_accuracy: 0.5000\n",
            "Epoch 42/45\n",
            "32/32 [==============================] - 1s 36ms/step - loss: 7.7125 - accuracy: 0.5000 - val_loss: 7.7125 - val_accuracy: 0.5000\n",
            "Epoch 43/45\n",
            "32/32 [==============================] - 1s 36ms/step - loss: 7.7125 - accuracy: 0.5000 - val_loss: 7.7125 - val_accuracy: 0.5000\n",
            "Epoch 44/45\n",
            "32/32 [==============================] - 1s 36ms/step - loss: 7.7125 - accuracy: 0.5000 - val_loss: 7.7125 - val_accuracy: 0.5000\n",
            "Epoch 45/45\n",
            "32/32 [==============================] - 1s 36ms/step - loss: 7.7125 - accuracy: 0.5000 - val_loss: 7.7125 - val_accuracy: 0.5000\n"
          ]
        }
      ],
      "source": [
        "callbacks = [\n",
        "    keras.callbacks.ModelCheckpoint(\n",
        "        filepath=\"convnet_from_scratch.keras\",\n",
        "        save_best_only=True,\n",
        "        monitor=\"val_loss\")\n",
        "]\n",
        "history = model.fit(\n",
        "    train_dataset,\n",
        "    epochs=45,\n",
        "    validation_data=validation_dataset,\n",
        "    callbacks=callbacks)"
      ]
    },
    {
      "cell_type": "markdown",
      "metadata": {
        "id": "s41FFIxMEI4j"
      },
      "source": [
        "**Displaying curves of loss and accuracy during training**"
      ]
    },
    {
      "cell_type": "code",
      "execution_count": 367,
      "metadata": {
        "colab": {
          "base_uri": "https://localhost:8080/",
          "height": 545
        },
        "id": "ZES_aykmEI4j",
        "outputId": "3a7f4fa4-adce-426f-f516-0f48b540bbf7"
      },
      "outputs": [
        {
          "output_type": "display_data",
          "data": {
            "text/plain": [
              "<Figure size 432x288 with 1 Axes>"
            ],
            "image/png": "[encoded data removed]"
          },
          "metadata": {
            "needs_background": "light"
          }
        },
        {
          "output_type": "display_data",
          "data": {
            "text/plain": [
              "<Figure size 432x288 with 1 Axes>"
            ],
            "image/png": "[encoded data removed]"
          },
          "metadata": {
            "needs_background": "light"
          }
        }
      ],
      "source": [
        "import matplotlib.pyplot as plt\n",
        "accuracy = history.history[\"accuracy\"]\n",
        "val_accuracy = history.history[\"val_accuracy\"]\n",
        "loss = history.history[\"loss\"]\n",
        "val_loss = history.history[\"val_loss\"]\n",
        "epochs = range(1, len(accuracy) + 1)\n",
        "plt.plot(epochs, accuracy, \"bo\", label=\"Training accuracy\")\n",
        "plt.plot(epochs, val_accuracy, \"b\", label=\"Validation accuracy\")\n",
        "plt.title(\"Training and validation accuracy\")\n",
        "plt.legend()\n",
        "plt.figure()\n",
        "plt.plot(epochs, loss, \"bo\", label=\"Training loss\")\n",
        "plt.plot(epochs, val_loss, \"b\", label=\"Validation loss\")\n",
        "plt.title(\"Training and validation loss\")\n",
        "plt.legend()\n",
        "plt.show()"
      ]
    },
    {
      "cell_type": "markdown",
      "metadata": {
        "id": "AhXi919aEI4j"
      },
      "source": [
        "**Evaluating the model on the test set**"
      ]
    },
    {
      "cell_type": "code",
      "execution_count": 368,
      "metadata": {
        "colab": {
          "base_uri": "https://localhost:8080/"
        },
        "id": "eyJJlI_fEI4k",
        "outputId": "ff83384e-ae48-474f-9ff3-ef87ec17287c"
      },
      "outputs": [
        {
          "output_type": "stream",
          "name": "stdout",
          "text": [
            "32/32 [==============================] - 1s 16ms/step - loss: 7.7125 - accuracy: 0.5000\n",
            "Test accuracy: 0.500\n"
          ]
        }
      ],
      "source": [
        "test_model = keras.models.load_model(\"convnet_from_scratch.keras\")\n",
        "test_loss, test_acc = test_model.evaluate(test_dataset)\n",
        "print(f\"Test accuracy: {test_acc:.3f}\")"
      ]
    },
    {
      "cell_type": "markdown",
      "metadata": {
        "id": "KyLD2xQUEI4k"
      },
      "source": [
        "### Using data augmentation"
      ]
    },
    {
      "cell_type": "markdown",
      "metadata": {
        "id": "tt7LvopJEI4k"
      },
      "source": [
        "**Define a data augmentation stage to add to an image model**"
      ]
    },
    {
      "cell_type": "code",
      "execution_count": 369,
      "metadata": {
        "id": "bMEXEsoaEI4k"
      },
      "outputs": [],
      "source": [
        "data_augmentation = keras.Sequential(\n",
        "    [\n",
        "        layers.RandomFlip(\"horizontal\"),\n",
        "        layers.RandomRotation(0.1),\n",
        "        layers.RandomZoom(0.2),\n",
        "    ]\n",
        ")"
      ]
    },
    {
      "cell_type": "markdown",
      "metadata": {
        "id": "sFa55enNEI4k"
      },
      "source": [
        "**Displaying some randomly augmented training images**"
      ]
    },
    {
      "cell_type": "code",
      "execution_count": 370,
      "metadata": {
        "colab": {
          "base_uri": "https://localhost:8080/",
          "height": 575
        },
        "id": "RYbmZA-VEI4k",
        "outputId": "1a8f9099-0a0a-4309-c636-3f176cd606d7"
      },
      "outputs": [
        {
          "output_type": "display_data",
          "data": {
            "text/plain": [
              "<Figure size 720x720 with 9 Axes>"
            ],
            "image/png": "[encoded data removed]"
          },
          "metadata": {
            "needs_background": "light"
          }
        }
      ],
      "source": [
        "plt.figure(figsize=(10, 10))\n",
        "for images, _ in train_dataset.take(1):\n",
        "    for i in range(9):\n",
        "        augmented_images = data_augmentation(images)\n",
        "        ax = plt.subplot(3, 3, i + 1)\n",
        "        plt.imshow(augmented_images[0].numpy().astype(\"uint8\"))\n",
        "        plt.axis(\"off\")"
      ]
    },
    {
      "cell_type": "markdown",
      "metadata": {
        "id": "8PfSOWybEI4k"
      },
      "source": [
        "**Defining a new convnet that includes image augmentation and dropout**"
      ]
    },
    {
      "cell_type": "code",
      "execution_count": 371,
      "metadata": {
        "id": "Du5HTObyEI4k"
      },
      "outputs": [],
      "source": [
        "inputs = keras.Input(shape=(180, 180, 3))\n",
        "x = data_augmentation(inputs)\n",
        "x = layers.Rescaling(1./255)(x)\n",
        "x = layers.Conv2D(filters=64, kernel_size=3, activation=\"relu\")(x)\n",
        "x = layers.MaxPooling2D(pool_size=2)(x)\n",
        "x = layers.Conv2D(filters=64, kernel_size=3, activation=\"relu\")(x)\n",
        "x = layers.MaxPooling2D(pool_size=2)(x)\n",
        "x = layers.Conv2D(filters=256, kernel_size=3, activation=\"relu\")(x)\n",
        "x = layers.MaxPooling2D(pool_size=2)(x)\n",
        "x = layers.Conv2D(filters=512, kernel_size=3, activation=\"relu\")(x)\n",
        "x = layers.MaxPooling2D(pool_size=2)(x)\n",
        "x = layers.Conv2D(filters=512, kernel_size=3, activation=\"relu\")(x)\n",
        "x = layers.Flatten()(x)\n",
        "x = layers.Dropout(0.5)(x)\n",
        "outputs = layers.Dense(1, activation=\"sigmoid\")(x)\n",
        "model = keras.Model(inputs=inputs, outputs=outputs)\n",
        "\n",
        "model.compile(loss=\"binary_crossentropy\",\n",
        "              optimizer=\"rmsprop\",\n",
        "              metrics=[\"accuracy\"])"
      ]
    },
    {
      "cell_type": "markdown",
      "metadata": {
        "id": "ZeiOFgtVEI4k"
      },
      "source": [
        "**Training the regularized convnet**"
      ]
    },
    {
      "cell_type": "code",
      "execution_count": 372,
      "metadata": {
        "colab": {
          "base_uri": "https://localhost:8080/"
        },
        "id": "90A_cvZiEI4l",
        "outputId": "36ec31b2-00b2-4556-c1e8-39a92ba921b2"
      },
      "outputs": [
        {
          "output_type": "stream",
          "name": "stdout",
          "text": [
            "Epoch 1/45\n",
            "32/32 [==============================] - 5s 82ms/step - loss: 0.8479 - accuracy: 0.5070 - val_loss: 0.6921 - val_accuracy: 0.5200\n",
            "Epoch 2/45\n",
            "32/32 [==============================] - 2s 72ms/step - loss: 0.7039 - accuracy: 0.4900 - val_loss: 0.6931 - val_accuracy: 0.4920\n",
            "Epoch 3/45\n",
            "32/32 [==============================] - 2s 70ms/step - loss: 0.7312 - accuracy: 0.5150 - val_loss: 0.8881 - val_accuracy: 0.5000\n",
            "Epoch 4/45\n",
            "32/32 [==============================] - 2s 72ms/step - loss: 0.6973 - accuracy: 0.5200 - val_loss: 0.6876 - val_accuracy: 0.5440\n",
            "Epoch 5/45\n",
            "32/32 [==============================] - 2s 73ms/step - loss: 0.7058 - accuracy: 0.5410 - val_loss: 0.6820 - val_accuracy: 0.5630\n",
            "Epoch 6/45\n",
            "32/32 [==============================] - 2s 70ms/step - loss: 0.6945 - accuracy: 0.5455 - val_loss: 0.6849 - val_accuracy: 0.5150\n",
            "Epoch 7/45\n",
            "32/32 [==============================] - 2s 70ms/step - loss: 0.7222 - accuracy: 0.5175 - val_loss: 0.6826 - val_accuracy: 0.5550\n",
            "Epoch 8/45\n",
            "32/32 [==============================] - 2s 71ms/step - loss: 0.7024 - accuracy: 0.5685 - val_loss: 0.7181 - val_accuracy: 0.5180\n",
            "Epoch 9/45\n",
            "32/32 [==============================] - 2s 70ms/step - loss: 0.6841 - accuracy: 0.6130 - val_loss: 0.6928 - val_accuracy: 0.5520\n",
            "Epoch 10/45\n",
            "32/32 [==============================] - 2s 71ms/step - loss: 0.6628 - accuracy: 0.6270 - val_loss: 0.7185 - val_accuracy: 0.5670\n",
            "Epoch 11/45\n",
            "32/32 [==============================] - 2s 74ms/step - loss: 0.6523 - accuracy: 0.6455 - val_loss: 0.6663 - val_accuracy: 0.6170\n",
            "Epoch 12/45\n",
            "32/32 [==============================] - 2s 74ms/step - loss: 0.6377 - accuracy: 0.6560 - val_loss: 0.6506 - val_accuracy: 0.6170\n",
            "Epoch 13/45\n",
            "32/32 [==============================] - 2s 70ms/step - loss: 0.6113 - accuracy: 0.6775 - val_loss: 0.6514 - val_accuracy: 0.6130\n",
            "Epoch 14/45\n",
            "32/32 [==============================] - 2s 73ms/step - loss: 0.6375 - accuracy: 0.6665 - val_loss: 0.6300 - val_accuracy: 0.6390\n",
            "Epoch 15/45\n",
            "32/32 [==============================] - 2s 70ms/step - loss: 0.6192 - accuracy: 0.6975 - val_loss: 0.6526 - val_accuracy: 0.5970\n",
            "Epoch 16/45\n",
            "32/32 [==============================] - 2s 71ms/step - loss: 0.5955 - accuracy: 0.6900 - val_loss: 0.7380 - val_accuracy: 0.6410\n",
            "Epoch 17/45\n",
            "32/32 [==============================] - 2s 70ms/step - loss: 0.5784 - accuracy: 0.6940 - val_loss: 0.6354 - val_accuracy: 0.6520\n",
            "Epoch 18/45\n",
            "32/32 [==============================] - 2s 73ms/step - loss: 0.5885 - accuracy: 0.7000 - val_loss: 0.5721 - val_accuracy: 0.6950\n",
            "Epoch 19/45\n",
            "32/32 [==============================] - 2s 71ms/step - loss: 0.5611 - accuracy: 0.7030 - val_loss: 0.5914 - val_accuracy: 0.7060\n",
            "Epoch 20/45\n",
            "32/32 [==============================] - 3s 79ms/step - loss: 0.5557 - accuracy: 0.7125 - val_loss: 0.5754 - val_accuracy: 0.7260\n",
            "Epoch 21/45\n",
            "32/32 [==============================] - 2s 74ms/step - loss: 0.5729 - accuracy: 0.7035 - val_loss: 0.5323 - val_accuracy: 0.7320\n",
            "Epoch 22/45\n",
            "32/32 [==============================] - 2s 71ms/step - loss: 0.5234 - accuracy: 0.7385 - val_loss: 0.5352 - val_accuracy: 0.7330\n",
            "Epoch 23/45\n",
            "32/32 [==============================] - 2s 70ms/step - loss: 0.5145 - accuracy: 0.7485 - val_loss: 0.7866 - val_accuracy: 0.6550\n",
            "Epoch 24/45\n",
            "32/32 [==============================] - 2s 70ms/step - loss: 0.5344 - accuracy: 0.7440 - val_loss: 0.5480 - val_accuracy: 0.7070\n",
            "Epoch 25/45\n",
            "32/32 [==============================] - 2s 71ms/step - loss: 0.4992 - accuracy: 0.7565 - val_loss: 0.6997 - val_accuracy: 0.6800\n",
            "Epoch 26/45\n",
            "32/32 [==============================] - 2s 73ms/step - loss: 0.5057 - accuracy: 0.7545 - val_loss: 0.4557 - val_accuracy: 0.7810\n",
            "Epoch 27/45\n",
            "32/32 [==============================] - 2s 70ms/step - loss: 0.4858 - accuracy: 0.7660 - val_loss: 0.7396 - val_accuracy: 0.6690\n",
            "Epoch 28/45\n",
            "32/32 [==============================] - 2s 69ms/step - loss: 0.4811 - accuracy: 0.7795 - val_loss: 0.5914 - val_accuracy: 0.7200\n",
            "Epoch 29/45\n",
            "32/32 [==============================] - 3s 79ms/step - loss: 0.4784 - accuracy: 0.7735 - val_loss: 0.5480 - val_accuracy: 0.7350\n",
            "Epoch 30/45\n",
            "32/32 [==============================] - 2s 70ms/step - loss: 0.4540 - accuracy: 0.7875 - val_loss: 0.6666 - val_accuracy: 0.6730\n",
            "Epoch 31/45\n",
            "32/32 [==============================] - 2s 70ms/step - loss: 0.4546 - accuracy: 0.7880 - val_loss: 0.5900 - val_accuracy: 0.7380\n",
            "Epoch 32/45\n",
            "32/32 [==============================] - 2s 71ms/step - loss: 0.4579 - accuracy: 0.7840 - val_loss: 0.5489 - val_accuracy: 0.7670\n",
            "Epoch 33/45\n",
            "32/32 [==============================] - 2s 71ms/step - loss: 0.4417 - accuracy: 0.7980 - val_loss: 0.5050 - val_accuracy: 0.7650\n",
            "Epoch 34/45\n",
            "32/32 [==============================] - 2s 71ms/step - loss: 0.4347 - accuracy: 0.8015 - val_loss: 0.4752 - val_accuracy: 0.7800\n",
            "Epoch 35/45\n",
            "32/32 [==============================] - 2s 70ms/step - loss: 0.4548 - accuracy: 0.7920 - val_loss: 0.4829 - val_accuracy: 0.8040\n",
            "Epoch 36/45\n",
            "32/32 [==============================] - 2s 70ms/step - loss: 0.4214 - accuracy: 0.8015 - val_loss: 0.4640 - val_accuracy: 0.7870\n",
            "Epoch 37/45\n",
            "32/32 [==============================] - 2s 70ms/step - loss: 0.4029 - accuracy: 0.8235 - val_loss: 0.4749 - val_accuracy: 0.7790\n",
            "Epoch 38/45\n",
            "32/32 [==============================] - 2s 70ms/step - loss: 0.3876 - accuracy: 0.8255 - val_loss: 0.6409 - val_accuracy: 0.7410\n",
            "Epoch 39/45\n",
            "32/32 [==============================] - 2s 70ms/step - loss: 0.4101 - accuracy: 0.8185 - val_loss: 0.4914 - val_accuracy: 0.7760\n",
            "Epoch 40/45\n",
            "32/32 [==============================] - 2s 73ms/step - loss: 0.4187 - accuracy: 0.8160 - val_loss: 0.4345 - val_accuracy: 0.8060\n",
            "Epoch 41/45\n",
            "32/32 [==============================] - 2s 70ms/step - loss: 0.3693 - accuracy: 0.8330 - val_loss: 0.4950 - val_accuracy: 0.7640\n",
            "Epoch 42/45\n",
            "32/32 [==============================] - 2s 70ms/step - loss: 0.3733 - accuracy: 0.8335 - val_loss: 0.4630 - val_accuracy: 0.8000\n",
            "Epoch 43/45\n",
            "32/32 [==============================] - 2s 71ms/step - loss: 0.3627 - accuracy: 0.8445 - val_loss: 0.4790 - val_accuracy: 0.7630\n",
            "Epoch 44/45\n",
            "32/32 [==============================] - 2s 70ms/step - loss: 0.3498 - accuracy: 0.8450 - val_loss: 0.4762 - val_accuracy: 0.8050\n",
            "Epoch 45/45\n",
            "32/32 [==============================] - 2s 69ms/step - loss: 0.3655 - accuracy: 0.8455 - val_loss: 0.5797 - val_accuracy: 0.7730\n"
          ]
        }
      ],
      "source": [
        "callbacks = [\n",
        "    keras.callbacks.ModelCheckpoint(\n",
        "        filepath=\"convnet_from_scratch_with_augmentation.keras\",\n",
        "        save_best_only=True,\n",
        "        monitor=\"val_loss\")\n",
        "]\n",
        "history = model.fit(\n",
        "    train_dataset,\n",
        "    epochs=45,\n",
        "    validation_data=validation_dataset,\n",
        "    callbacks=callbacks)"
      ]
    },
    {
      "cell_type": "markdown",
      "metadata": {
        "id": "vhFMmsqpEI4l"
      },
      "source": [
        "**Evaluating the model on the test set**"
      ]
    },
    {
      "cell_type": "code",
      "execution_count": 373,
      "metadata": {
        "colab": {
          "base_uri": "https://localhost:8080/"
        },
        "id": "lHr3rssZEI4l",
        "outputId": "92d44e7b-1d8e-4522-e375-42418b1e4325"
      },
      "outputs": [
        {
          "output_type": "stream",
          "name": "stdout",
          "text": [
            "32/32 [==============================] - 1s 19ms/step - loss: 0.4707 - accuracy: 0.7845\n",
            "Test accuracy: 0.785\n"
          ]
        }
      ],
      "source": [
        "test_model = keras.models.load_model(\n",
        "    \"convnet_from_scratch_with_augmentation.keras\")\n",
        "test_loss, test_acc = test_model.evaluate(test_dataset)\n",
        "print(f\"Test accuracy: {test_acc:.3f}\")"
      ]
    },
    {
      "cell_type": "markdown",
      "metadata": {
        "id": "O477yb73EI4l"
      },
      "source": [
        "## Leveraging a pretrained model"
      ]
    },
    {
      "cell_type": "markdown",
      "metadata": {
        "id": "wYEw7o4WEI4l"
      },
      "source": [
        "### Feature extraction with a pretrained model"
      ]
    },
    {
      "cell_type": "markdown",
      "metadata": {
        "id": "_OOipWR5EI4l"
      },
      "source": [
        "**Instantiating the VGG16 convolutional base**"
      ]
    },
    {
      "cell_type": "code",
      "execution_count": 374,
      "metadata": {
        "id": "vNZuLahgEI4l"
      },
      "outputs": [],
      "source": [
        "conv_base = keras.applications.vgg16.VGG16(\n",
        "    weights=\"imagenet\",\n",
        "    include_top=False,\n",
        "    input_shape=(180, 180, 3))"
      ]
    },
    {
      "cell_type": "code",
      "execution_count": 375,
      "metadata": {
        "colab": {
          "base_uri": "https://localhost:8080/"
        },
        "id": "yeyjgXLoEI4l",
        "outputId": "a0bd0e5b-a932-4eca-d40b-5cac0b029b4a"
      },
      "outputs": [
        {
          "output_type": "stream",
          "name": "stdout",
          "text": [
            "Model: \"vgg16\"\n",
            "_________________________________________________________________\n",
            " Layer (type)                Output Shape              Param #   \n",
            "=================================================================\n",
            " input_67 (InputLayer)       [(None, 180, 180, 3)]     0         \n",
            "                                                                 \n",
            " block1_conv1 (Conv2D)       (None, 180, 180, 64)      1792      \n",
            "                                                                 \n",
            " block1_conv2 (Conv2D)       (None, 180, 180, 64)      36928     \n",
            "                                                                 \n",
            " block1_pool (MaxPooling2D)  (None, 90, 90, 64)        0         \n",
            "                                                                 \n",
            " block2_conv1 (Conv2D)       (None, 90, 90, 128)       73856     \n",
            "                                                                 \n",
            " block2_conv2 (Conv2D)       (None, 90, 90, 128)       147584    \n",
            "                                                                 \n",
            " block2_pool (MaxPooling2D)  (None, 45, 45, 128)       0         \n",
            "                                                                 \n",
            " block3_conv1 (Conv2D)       (None, 45, 45, 256)       295168    \n",
            "                                                                 \n",
            " block3_conv2 (Conv2D)       (None, 45, 45, 256)       590080    \n",
            "                                                                 \n",
            " block3_conv3 (Conv2D)       (None, 45, 45, 256)       590080    \n",
            "                                                                 \n",
            " block3_pool (MaxPooling2D)  (None, 22, 22, 256)       0         \n",
            "                                                                 \n",
            " block4_conv1 (Conv2D)       (None, 22, 22, 512)       1180160   \n",
            "                                                                 \n",
            " block4_conv2 (Conv2D)       (None, 22, 22, 512)       2359808   \n",
            "                                                                 \n",
            " block4_conv3 (Conv2D)       (None, 22, 22, 512)       2359808   \n",
            "                                                                 \n",
            " block4_pool (MaxPooling2D)  (None, 11, 11, 512)       0         \n",
            "                                                                 \n",
            " block5_conv1 (Conv2D)       (None, 11, 11, 512)       2359808   \n",
            "                                                                 \n",
            " block5_conv2 (Conv2D)       (None, 11, 11, 512)       2359808   \n",
            "                                                                 \n",
            " block5_conv3 (Conv2D)       (None, 11, 11, 512)       2359808   \n",
            "                                                                 \n",
            " block5_pool (MaxPooling2D)  (None, 5, 5, 512)         0         \n",
            "                                                                 \n",
            "=================================================================\n",
            "Total params: 14,714,688\n",
            "Trainable params: 14,714,688\n",
            "Non-trainable params: 0\n",
            "_________________________________________________________________\n"
          ]
        }
      ],
      "source": [
        "conv_base.summary()"
      ]
    },
    {
      "cell_type": "markdown",
      "metadata": {
        "id": "TV_PFY3_EI4l"
      },
      "source": [
        "#### Fast feature extraction without data augmentation"
      ]
    },
    {
      "cell_type": "markdown",
      "metadata": {
        "id": "A7TcUiroEI4l"
      },
      "source": [
        "**Extracting the VGG16 features and corresponding labels**"
      ]
    },
    {
      "cell_type": "code",
      "execution_count": 376,
      "metadata": {
        "colab": {
          "base_uri": "https://localhost:8080/"
        },
        "id": "LrZ1PZsWEI4m",
        "outputId": "7178c326-c081-4601-b3e7-086ff5844294"
      },
      "outputs": [
        {
          "output_type": "stream",
          "name": "stdout",
          "text": [
            "2/2 [==============================] - 0s 16ms/step\n",
            "2/2 [==============================] - 0s 17ms/step\n",
            "2/2 [==============================] - 0s 16ms/step\n",
            "2/2 [==============================] - 0s 17ms/step\n",
            "2/2 [==============================] - 0s 16ms/step\n",
            "2/2 [==============================] - 0s 17ms/step\n",
            "2/2 [==============================] - 0s 16ms/step\n",
            "2/2 [==============================] - 0s 17ms/step\n",
            "2/2 [==============================] - 0s 16ms/step\n",
            "2/2 [==============================] - 0s 17ms/step\n",
            "2/2 [==============================] - 0s 18ms/step\n",
            "2/2 [==============================] - 0s 17ms/step\n",
            "2/2 [==============================] - 0s 17ms/step\n",
            "2/2 [==============================] - 0s 17ms/step\n",
            "2/2 [==============================] - 0s 17ms/step\n",
            "2/2 [==============================] - 0s 16ms/step\n",
            "2/2 [==============================] - 0s 17ms/step\n",
            "2/2 [==============================] - 0s 16ms/step\n",
            "2/2 [==============================] - 0s 17ms/step\n",
            "2/2 [==============================] - 0s 17ms/step\n",
            "2/2 [==============================] - 0s 16ms/step\n",
            "2/2 [==============================] - 0s 17ms/step\n",
            "2/2 [==============================] - 0s 17ms/step\n",
            "2/2 [==============================] - 0s 16ms/step\n",
            "2/2 [==============================] - 0s 17ms/step\n",
            "2/2 [==============================] - 0s 17ms/step\n",
            "2/2 [==============================] - 0s 17ms/step\n",
            "2/2 [==============================] - 0s 17ms/step\n",
            "2/2 [==============================] - 0s 17ms/step\n",
            "2/2 [==============================] - 0s 16ms/step\n",
            "2/2 [==============================] - 0s 16ms/step\n",
            "1/1 [==============================] - 0s 123ms/step\n",
            "2/2 [==============================] - 0s 16ms/step\n",
            "2/2 [==============================] - 0s 16ms/step\n",
            "2/2 [==============================] - 0s 16ms/step\n",
            "2/2 [==============================] - 0s 16ms/step\n",
            "2/2 [==============================] - 0s 16ms/step\n",
            "2/2 [==============================] - 0s 16ms/step\n",
            "2/2 [==============================] - 0s 16ms/step\n",
            "2/2 [==============================] - 0s 16ms/step\n",
            "2/2 [==============================] - 0s 16ms/step\n",
            "2/2 [==============================] - 0s 16ms/step\n",
            "2/2 [==============================] - 0s 16ms/step\n",
            "2/2 [==============================] - 0s 16ms/step\n",
            "2/2 [==============================] - 0s 16ms/step\n",
            "2/2 [==============================] - 0s 16ms/step\n",
            "2/2 [==============================] - 0s 16ms/step\n",
            "2/2 [==============================] - 0s 14ms/step\n",
            "2/2 [==============================] - 0s 16ms/step\n",
            "2/2 [==============================] - 0s 16ms/step\n",
            "2/2 [==============================] - 0s 16ms/step\n",
            "2/2 [==============================] - 0s 16ms/step\n",
            "2/2 [==============================] - 0s 15ms/step\n",
            "2/2 [==============================] - 0s 16ms/step\n",
            "2/2 [==============================] - 0s 16ms/step\n",
            "2/2 [==============================] - 0s 15ms/step\n",
            "2/2 [==============================] - 0s 15ms/step\n",
            "2/2 [==============================] - 0s 15ms/step\n",
            "2/2 [==============================] - 0s 15ms/step\n",
            "2/2 [==============================] - 0s 15ms/step\n",
            "2/2 [==============================] - 0s 15ms/step\n",
            "2/2 [==============================] - 0s 15ms/step\n",
            "2/2 [==============================] - 0s 15ms/step\n",
            "2/2 [==============================] - 0s 15ms/step\n",
            "2/2 [==============================] - 0s 16ms/step\n",
            "2/2 [==============================] - 0s 15ms/step\n",
            "2/2 [==============================] - 0s 15ms/step\n",
            "2/2 [==============================] - 0s 15ms/step\n",
            "2/2 [==============================] - 0s 15ms/step\n",
            "2/2 [==============================] - 0s 15ms/step\n",
            "2/2 [==============================] - 0s 15ms/step\n",
            "2/2 [==============================] - 0s 15ms/step\n",
            "2/2 [==============================] - 0s 15ms/step\n",
            "2/2 [==============================] - 0s 15ms/step\n",
            "2/2 [==============================] - 0s 16ms/step\n",
            "2/2 [==============================] - 0s 15ms/step\n",
            "2/2 [==============================] - 0s 15ms/step\n",
            "2/2 [==============================] - 0s 15ms/step\n",
            "2/2 [==============================] - 0s 15ms/step\n",
            "1/1 [==============================] - 0s 20ms/step\n"
          ]
        }
      ],
      "source": [
        "import numpy as np\n",
        "\n",
        "def get_features_and_labels(dataset):\n",
        "    all_features = []\n",
        "    all_labels = []\n",
        "    for images, labels in dataset:\n",
        "        preprocessed_images = keras.applications.vgg16.preprocess_input(images)\n",
        "        features = conv_base.predict(preprocessed_images)\n",
        "        all_features.append(features)\n",
        "        all_labels.append(labels)\n",
        "    return np.concatenate(all_features), np.concatenate(all_labels)\n",
        "\n",
        "train_features, train_labels =  get_features_and_labels(train_dataset)\n",
        "val_features, val_labels =  get_features_and_labels(validation_dataset)\n",
        "test_features, test_labels =  get_features_and_labels(test_dataset)"
      ]
    },
    {
      "cell_type": "code",
      "execution_count": 377,
      "metadata": {
        "colab": {
          "base_uri": "https://localhost:8080/"
        },
        "id": "NdBT3QBuEI4m",
        "outputId": "f371f9d8-667b-4f20-a223-76621fdc1af1"
      },
      "outputs": [
        {
          "output_type": "execute_result",
          "data": {
            "text/plain": [
              "(2000, 5, 5, 512)"
            ]
          },
          "metadata": {},
          "execution_count": 377
        }
      ],
      "source": [
        "train_features.shape"
      ]
    },
    {
      "cell_type": "markdown",
      "metadata": {
        "id": "OaA61lm0EI4m"
      },
      "source": [
        "**Defining and training the densely connected classifier**"
      ]
    },
    {
      "cell_type": "code",
      "execution_count": 379,
      "metadata": {
        "colab": {
          "base_uri": "https://localhost:8080/"
        },
        "id": "cUl_Gq5PEI4m",
        "outputId": "8d083ff1-cb38-45b2-ea90-e1cf670e39d6"
      },
      "outputs": [
        {
          "output_type": "stream",
          "name": "stdout",
          "text": [
            "Epoch 1/45\n",
            "63/63 [==============================] - 1s 8ms/step - loss: 11.5893 - accuracy: 0.9295 - val_loss: 3.8445 - val_accuracy: 0.9690\n",
            "Epoch 2/45\n",
            "63/63 [==============================] - 0s 4ms/step - loss: 3.1523 - accuracy: 0.9790 - val_loss: 4.1860 - val_accuracy: 0.9720\n",
            "Epoch 3/45\n",
            "63/63 [==============================] - 0s 4ms/step - loss: 3.0666 - accuracy: 0.9820 - val_loss: 5.6354 - val_accuracy: 0.9700\n",
            "Epoch 4/45\n",
            "63/63 [==============================] - 0s 4ms/step - loss: 1.2416 - accuracy: 0.9875 - val_loss: 5.4346 - val_accuracy: 0.9630\n",
            "Epoch 5/45\n",
            "63/63 [==============================] - 0s 4ms/step - loss: 2.1401 - accuracy: 0.9860 - val_loss: 5.7536 - val_accuracy: 0.9740\n",
            "Epoch 6/45\n",
            "63/63 [==============================] - 0s 4ms/step - loss: 1.8836 - accuracy: 0.9910 - val_loss: 9.4878 - val_accuracy: 0.9690\n",
            "Epoch 7/45\n",
            "63/63 [==============================] - 0s 4ms/step - loss: 0.5002 - accuracy: 0.9970 - val_loss: 6.2986 - val_accuracy: 0.9700\n",
            "Epoch 8/45\n",
            "63/63 [==============================] - 0s 4ms/step - loss: 0.2934 - accuracy: 0.9965 - val_loss: 8.0805 - val_accuracy: 0.9720\n",
            "Epoch 9/45\n",
            "63/63 [==============================] - 0s 4ms/step - loss: 0.1717 - accuracy: 0.9980 - val_loss: 7.1307 - val_accuracy: 0.9680\n",
            "Epoch 10/45\n",
            "63/63 [==============================] - 0s 4ms/step - loss: 0.3083 - accuracy: 0.9975 - val_loss: 6.3241 - val_accuracy: 0.9720\n",
            "Epoch 11/45\n",
            "63/63 [==============================] - 0s 4ms/step - loss: 0.1252 - accuracy: 0.9990 - val_loss: 6.0961 - val_accuracy: 0.9740\n",
            "Epoch 12/45\n",
            "63/63 [==============================] - 0s 4ms/step - loss: 0.1198 - accuracy: 0.9980 - val_loss: 6.9637 - val_accuracy: 0.9690\n",
            "Epoch 13/45\n",
            "63/63 [==============================] - 0s 4ms/step - loss: 0.1155 - accuracy: 0.9990 - val_loss: 5.9562 - val_accuracy: 0.9750\n",
            "Epoch 14/45\n",
            "63/63 [==============================] - 0s 4ms/step - loss: 0.3838 - accuracy: 0.9970 - val_loss: 5.2863 - val_accuracy: 0.9780\n",
            "Epoch 15/45\n",
            "63/63 [==============================] - 0s 4ms/step - loss: 0.0762 - accuracy: 0.9990 - val_loss: 6.0257 - val_accuracy: 0.9730\n",
            "Epoch 16/45\n",
            "63/63 [==============================] - 0s 4ms/step - loss: 0.1740 - accuracy: 0.9985 - val_loss: 6.6640 - val_accuracy: 0.9720\n",
            "Epoch 17/45\n",
            "63/63 [==============================] - 0s 4ms/step - loss: 0.1250 - accuracy: 0.9970 - val_loss: 6.5008 - val_accuracy: 0.9710\n",
            "Epoch 18/45\n",
            "63/63 [==============================] - 0s 4ms/step - loss: 0.0643 - accuracy: 0.9985 - val_loss: 8.2562 - val_accuracy: 0.9720\n",
            "Epoch 19/45\n",
            "63/63 [==============================] - 0s 4ms/step - loss: 0.1969 - accuracy: 0.9985 - val_loss: 5.7358 - val_accuracy: 0.9750\n",
            "Epoch 20/45\n",
            "63/63 [==============================] - 0s 4ms/step - loss: 0.0593 - accuracy: 0.9985 - val_loss: 8.4876 - val_accuracy: 0.9720\n",
            "Epoch 21/45\n",
            "63/63 [==============================] - 0s 4ms/step - loss: 0.0491 - accuracy: 0.9990 - val_loss: 7.8441 - val_accuracy: 0.9720\n",
            "Epoch 22/45\n",
            "63/63 [==============================] - 0s 4ms/step - loss: 0.0040 - accuracy: 0.9995 - val_loss: 6.4547 - val_accuracy: 0.9730\n",
            "Epoch 23/45\n",
            "63/63 [==============================] - 0s 4ms/step - loss: 2.5860e-36 - accuracy: 1.0000 - val_loss: 6.4547 - val_accuracy: 0.9730\n",
            "Epoch 24/45\n",
            "63/63 [==============================] - 0s 4ms/step - loss: 0.0335 - accuracy: 0.9990 - val_loss: 7.3505 - val_accuracy: 0.9710\n",
            "Epoch 25/45\n",
            "63/63 [==============================] - 0s 4ms/step - loss: 0.0623 - accuracy: 0.9990 - val_loss: 5.9244 - val_accuracy: 0.9760\n",
            "Epoch 26/45\n",
            "63/63 [==============================] - 0s 4ms/step - loss: 0.0076 - accuracy: 0.9995 - val_loss: 5.7271 - val_accuracy: 0.9750\n",
            "Epoch 27/45\n",
            "63/63 [==============================] - 0s 4ms/step - loss: 2.2981e-04 - accuracy: 1.0000 - val_loss: 8.3736 - val_accuracy: 0.9740\n",
            "Epoch 28/45\n",
            "63/63 [==============================] - 0s 4ms/step - loss: 0.0326 - accuracy: 0.9990 - val_loss: 7.6826 - val_accuracy: 0.9730\n",
            "Epoch 29/45\n",
            "63/63 [==============================] - 0s 5ms/step - loss: 0.0000e+00 - accuracy: 1.0000 - val_loss: 7.6826 - val_accuracy: 0.9730\n",
            "Epoch 30/45\n",
            "63/63 [==============================] - 0s 5ms/step - loss: 0.0914 - accuracy: 0.9990 - val_loss: 7.5185 - val_accuracy: 0.9730\n",
            "Epoch 31/45\n",
            "63/63 [==============================] - 0s 4ms/step - loss: 0.0000e+00 - accuracy: 1.0000 - val_loss: 7.5185 - val_accuracy: 0.9730\n",
            "Epoch 32/45\n",
            "63/63 [==============================] - 0s 4ms/step - loss: 1.7417e-28 - accuracy: 1.0000 - val_loss: 7.5185 - val_accuracy: 0.9730\n",
            "Epoch 33/45\n",
            "63/63 [==============================] - 0s 4ms/step - loss: 0.0000e+00 - accuracy: 1.0000 - val_loss: 7.5185 - val_accuracy: 0.9730\n",
            "Epoch 34/45\n",
            "63/63 [==============================] - 0s 4ms/step - loss: 0.0000e+00 - accuracy: 1.0000 - val_loss: 7.5185 - val_accuracy: 0.9730\n",
            "Epoch 35/45\n",
            "63/63 [==============================] - 0s 4ms/step - loss: 0.0000e+00 - accuracy: 1.0000 - val_loss: 7.5185 - val_accuracy: 0.9730\n",
            "Epoch 36/45\n",
            "63/63 [==============================] - 0s 4ms/step - loss: 0.0000e+00 - accuracy: 1.0000 - val_loss: 7.5185 - val_accuracy: 0.9730\n",
            "Epoch 37/45\n",
            "63/63 [==============================] - 0s 4ms/step - loss: 0.0794 - accuracy: 0.9990 - val_loss: 6.8218 - val_accuracy: 0.9760\n",
            "Epoch 38/45\n",
            "63/63 [==============================] - 0s 4ms/step - loss: 8.2162e-13 - accuracy: 1.0000 - val_loss: 6.8218 - val_accuracy: 0.9760\n",
            "Epoch 39/45\n",
            "63/63 [==============================] - 0s 4ms/step - loss: 0.0000e+00 - accuracy: 1.0000 - val_loss: 6.8218 - val_accuracy: 0.9760\n",
            "Epoch 40/45\n",
            "63/63 [==============================] - 0s 5ms/step - loss: 1.1976e-08 - accuracy: 1.0000 - val_loss: 7.1289 - val_accuracy: 0.9760\n",
            "Epoch 41/45\n",
            "63/63 [==============================] - 0s 4ms/step - loss: 0.0000e+00 - accuracy: 1.0000 - val_loss: 7.1289 - val_accuracy: 0.9760\n",
            "Epoch 42/45\n",
            "63/63 [==============================] - 0s 4ms/step - loss: 4.8730e-30 - accuracy: 1.0000 - val_loss: 7.1289 - val_accuracy: 0.9760\n",
            "Epoch 43/45\n",
            "63/63 [==============================] - 0s 4ms/step - loss: 2.8812e-05 - accuracy: 1.0000 - val_loss: 7.7834 - val_accuracy: 0.9730\n",
            "Epoch 44/45\n",
            "63/63 [==============================] - 0s 4ms/step - loss: 0.0371 - accuracy: 0.9995 - val_loss: 8.3869 - val_accuracy: 0.9750\n",
            "Epoch 45/45\n",
            "63/63 [==============================] - 0s 4ms/step - loss: 0.0148 - accuracy: 0.9995 - val_loss: 7.3278 - val_accuracy: 0.9740\n"
          ]
        }
      ],
      "source": [
        "inputs = keras.Input(shape=(5, 5, 512))\n",
        "x = layers.Flatten()(inputs)\n",
        "x = layers.Dense(256)(x)\n",
        "x = layers.Dropout(0.5)(x)\n",
        "outputs = layers.Dense(1, activation=\"sigmoid\")(x)\n",
        "model = keras.Model(inputs, outputs)\n",
        "model.compile(loss=\"binary_crossentropy\",\n",
        "              optimizer=\"rmsprop\",\n",
        "              metrics=[\"accuracy\"])\n",
        "\n",
        "callbacks = [\n",
        "    keras.callbacks.ModelCheckpoint(\n",
        "      filepath=\"feature_extraction.keras\",\n",
        "      save_best_only=True,\n",
        "      monitor=\"val_loss\")\n",
        "]\n",
        "history = model.fit(\n",
        "    train_features, train_labels,\n",
        "    epochs=45,\n",
        "    validation_data=(val_features, val_labels),\n",
        "    callbacks=callbacks)"
      ]
    },
    {
      "cell_type": "markdown",
      "metadata": {
        "id": "lmClbOByEI4m"
      },
      "source": [
        "**Plotting the results**"
      ]
    },
    {
      "cell_type": "code",
      "execution_count": 380,
      "metadata": {
        "colab": {
          "base_uri": "https://localhost:8080/",
          "height": 545
        },
        "id": "B_eiPRV_EI4m",
        "outputId": "3ce7e604-4d37-45ba-b901-d8f324fe3064"
      },
      "outputs": [
        {
          "output_type": "display_data",
          "data": {
            "text/plain": [
              "<Figure size 432x288 with 1 Axes>"
            ],
            "image/png": "[encoded data removed]"
          },
          "metadata": {
            "needs_background": "light"
          }
        },
        {
          "output_type": "display_data",
          "data": {
            "text/plain": [
              "<Figure size 432x288 with 1 Axes>"
            ],
            "image/png": "[encoded data removed]"
          },
          "metadata": {
            "needs_background": "light"
          }
        }
      ],
      "source": [
        "import matplotlib.pyplot as plt\n",
        "acc = history.history[\"accuracy\"]\n",
        "val_acc = history.history[\"val_accuracy\"]\n",
        "loss = history.history[\"loss\"]\n",
        "val_loss = history.history[\"val_loss\"]\n",
        "epochs = range(1, len(acc) + 1)\n",
        "plt.plot(epochs, acc, \"bo\", label=\"Training accuracy\")\n",
        "plt.plot(epochs, val_acc, \"b\", label=\"Validation accuracy\")\n",
        "plt.title(\"Training and validation accuracy\")\n",
        "plt.legend()\n",
        "plt.figure()\n",
        "plt.plot(epochs, loss, \"bo\", label=\"Training loss\")\n",
        "plt.plot(epochs, val_loss, \"b\", label=\"Validation loss\")\n",
        "plt.title(\"Training and validation loss\")\n",
        "plt.legend()\n",
        "plt.show()"
      ]
    },
    {
      "cell_type": "markdown",
      "metadata": {
        "id": "JLnJaDVAEI4m"
      },
      "source": [
        "#### Feature extraction together with data augmentation"
      ]
    },
    {
      "cell_type": "markdown",
      "metadata": {
        "id": "mlKv-VK8EI4m"
      },
      "source": [
        "**Instantiating and freezing the VGG16 convolutional base**"
      ]
    },
    {
      "cell_type": "code",
      "execution_count": 381,
      "metadata": {
        "id": "DVJ7VLujEI4m"
      },
      "outputs": [],
      "source": [
        "conv_base  = keras.applications.vgg16.VGG16(\n",
        "    weights=\"imagenet\",\n",
        "    include_top=False)\n",
        "conv_base.trainable = False"
      ]
    },
    {
      "cell_type": "markdown",
      "metadata": {
        "id": "aiaoMbHGEI4m"
      },
      "source": [
        "**Printing the list of trainable weights before and after freezing**"
      ]
    },
    {
      "cell_type": "code",
      "execution_count": 382,
      "metadata": {
        "colab": {
          "base_uri": "https://localhost:8080/"
        },
        "id": "XgZjlLJ7EI4n",
        "outputId": "13e35233-f638-40ce-c15f-85717bb85670"
      },
      "outputs": [
        {
          "output_type": "stream",
          "name": "stdout",
          "text": [
            "This is the number of trainable weights before freezing the conv base: 26\n"
          ]
        }
      ],
      "source": [
        "conv_base.trainable = True\n",
        "print(\"This is the number of trainable weights \"\n",
        "      \"before freezing the conv base:\", len(conv_base.trainable_weights))"
      ]
    },
    {
      "cell_type": "code",
      "execution_count": 383,
      "metadata": {
        "colab": {
          "base_uri": "https://localhost:8080/"
        },
        "id": "w8Z11UzqEI4n",
        "outputId": "a6261f00-d459-4b5f-91ad-bb4d6cdb94dd"
      },
      "outputs": [
        {
          "output_type": "stream",
          "name": "stdout",
          "text": [
            "This is the number of trainable weights after freezing the conv base: 0\n"
          ]
        }
      ],
      "source": [
        "conv_base.trainable = False\n",
        "print(\"This is the number of trainable weights \"\n",
        "      \"after freezing the conv base:\", len(conv_base.trainable_weights))"
      ]
    },
    {
      "cell_type": "markdown",
      "metadata": {
        "id": "D-2C1kQfEI4n"
      },
      "source": [
        "**Adding a data augmentation stage and a classifier to the convolutional base**"
      ]
    },
    {
      "cell_type": "code",
      "execution_count": 384,
      "metadata": {
        "id": "e8jMxbZ0EI4n"
      },
      "outputs": [],
      "source": [
        "data_augmentation = keras.Sequential(\n",
        "    [\n",
        "        layers.RandomFlip(\"horizontal\"),\n",
        "        layers.RandomRotation(0.1),\n",
        "        layers.RandomZoom(0.2),\n",
        "    ]\n",
        ")\n",
        "\n",
        "inputs = keras.Input(shape=(180, 180, 3))\n",
        "x = data_augmentation(inputs)\n",
        "x = keras.applications.vgg16.preprocess_input(x)\n",
        "x = conv_base(x)\n",
        "x = layers.Flatten()(x)\n",
        "x = layers.Dense(256)(x)\n",
        "x = layers.Dropout(0.5)(x)\n",
        "outputs = layers.Dense(1, activation=\"sigmoid\")(x)\n",
        "model = keras.Model(inputs, outputs)\n",
        "model.compile(loss=\"binary_crossentropy\",\n",
        "              optimizer=\"rmsprop\",\n",
        "              metrics=[\"accuracy\"])"
      ]
    },
    {
      "cell_type": "code",
      "execution_count": 385,
      "metadata": {
        "colab": {
          "base_uri": "https://localhost:8080/"
        },
        "id": "d6jG54ouEI4n",
        "outputId": "fe1a55e4-ac6f-42ef-fa0b-7b2c1f06fef6"
      },
      "outputs": [
        {
          "output_type": "stream",
          "name": "stdout",
          "text": [
            "Epoch 1/45\n",
            "32/32 [==============================] - 6s 115ms/step - loss: 36.8246 - accuracy: 0.8615 - val_loss: 4.5302 - val_accuracy: 0.9640\n",
            "Epoch 2/45\n",
            "32/32 [==============================] - 3s 92ms/step - loss: 7.1535 - accuracy: 0.9425 - val_loss: 4.0782 - val_accuracy: 0.9710\n",
            "Epoch 3/45\n",
            "32/32 [==============================] - 3s 93ms/step - loss: 5.5413 - accuracy: 0.9515 - val_loss: 3.2040 - val_accuracy: 0.9740\n",
            "Epoch 4/45\n",
            "32/32 [==============================] - 3s 93ms/step - loss: 4.8565 - accuracy: 0.9530 - val_loss: 3.0375 - val_accuracy: 0.9740\n",
            "Epoch 5/45\n",
            "32/32 [==============================] - 3s 93ms/step - loss: 4.4037 - accuracy: 0.9625 - val_loss: 2.4422 - val_accuracy: 0.9780\n",
            "Epoch 6/45\n",
            "32/32 [==============================] - 3s 86ms/step - loss: 3.6234 - accuracy: 0.9660 - val_loss: 4.7465 - val_accuracy: 0.9610\n",
            "Epoch 7/45\n",
            "32/32 [==============================] - 3s 93ms/step - loss: 3.8797 - accuracy: 0.9645 - val_loss: 1.5400 - val_accuracy: 0.9810\n",
            "Epoch 8/45\n",
            "32/32 [==============================] - 3s 86ms/step - loss: 1.7132 - accuracy: 0.9795 - val_loss: 2.4787 - val_accuracy: 0.9780\n",
            "Epoch 9/45\n",
            "32/32 [==============================] - 3s 92ms/step - loss: 2.5049 - accuracy: 0.9755 - val_loss: 1.4159 - val_accuracy: 0.9820\n",
            "Epoch 10/45\n",
            "32/32 [==============================] - 3s 87ms/step - loss: 3.2302 - accuracy: 0.9675 - val_loss: 5.1426 - val_accuracy: 0.9700\n",
            "Epoch 11/45\n",
            "32/32 [==============================] - 3s 86ms/step - loss: 3.7051 - accuracy: 0.9670 - val_loss: 2.1995 - val_accuracy: 0.9830\n",
            "Epoch 12/45\n",
            "32/32 [==============================] - 3s 87ms/step - loss: 1.6893 - accuracy: 0.9805 - val_loss: 5.3535 - val_accuracy: 0.9650\n",
            "Epoch 13/45\n",
            "32/32 [==============================] - 3s 86ms/step - loss: 2.4134 - accuracy: 0.9775 - val_loss: 2.5596 - val_accuracy: 0.9810\n",
            "Epoch 14/45\n",
            "32/32 [==============================] - 3s 88ms/step - loss: 1.9669 - accuracy: 0.9745 - val_loss: 2.5126 - val_accuracy: 0.9810\n",
            "Epoch 15/45\n",
            "32/32 [==============================] - 3s 87ms/step - loss: 1.3880 - accuracy: 0.9825 - val_loss: 4.4294 - val_accuracy: 0.9710\n",
            "Epoch 16/45\n",
            "32/32 [==============================] - 3s 86ms/step - loss: 1.3331 - accuracy: 0.9850 - val_loss: 4.4439 - val_accuracy: 0.9670\n",
            "Epoch 17/45\n",
            "32/32 [==============================] - 3s 87ms/step - loss: 1.9595 - accuracy: 0.9790 - val_loss: 2.8183 - val_accuracy: 0.9790\n",
            "Epoch 18/45\n",
            "32/32 [==============================] - 3s 87ms/step - loss: 1.6085 - accuracy: 0.9825 - val_loss: 2.6289 - val_accuracy: 0.9790\n",
            "Epoch 19/45\n",
            "32/32 [==============================] - 3s 86ms/step - loss: 1.1600 - accuracy: 0.9830 - val_loss: 2.1110 - val_accuracy: 0.9810\n",
            "Epoch 20/45\n",
            "32/32 [==============================] - 3s 86ms/step - loss: 1.5627 - accuracy: 0.9800 - val_loss: 2.1746 - val_accuracy: 0.9810\n",
            "Epoch 21/45\n",
            "32/32 [==============================] - 3s 86ms/step - loss: 1.1086 - accuracy: 0.9875 - val_loss: 2.8651 - val_accuracy: 0.9790\n",
            "Epoch 22/45\n",
            "32/32 [==============================] - 3s 87ms/step - loss: 1.1190 - accuracy: 0.9845 - val_loss: 5.8661 - val_accuracy: 0.9690\n",
            "Epoch 23/45\n",
            "32/32 [==============================] - 3s 86ms/step - loss: 1.2777 - accuracy: 0.9875 - val_loss: 3.7350 - val_accuracy: 0.9770\n",
            "Epoch 24/45\n",
            "32/32 [==============================] - 3s 86ms/step - loss: 1.0083 - accuracy: 0.9830 - val_loss: 2.9883 - val_accuracy: 0.9760\n",
            "Epoch 25/45\n",
            "32/32 [==============================] - 3s 87ms/step - loss: 0.9835 - accuracy: 0.9865 - val_loss: 2.2892 - val_accuracy: 0.9820\n",
            "Epoch 26/45\n",
            "32/32 [==============================] - 3s 86ms/step - loss: 0.6723 - accuracy: 0.9885 - val_loss: 3.7739 - val_accuracy: 0.9760\n",
            "Epoch 27/45\n",
            "32/32 [==============================] - 3s 86ms/step - loss: 1.2732 - accuracy: 0.9885 - val_loss: 2.3386 - val_accuracy: 0.9830\n",
            "Epoch 28/45\n",
            "32/32 [==============================] - 3s 86ms/step - loss: 0.8978 - accuracy: 0.9845 - val_loss: 2.0347 - val_accuracy: 0.9870\n",
            "Epoch 29/45\n",
            "32/32 [==============================] - 3s 86ms/step - loss: 0.9113 - accuracy: 0.9865 - val_loss: 2.3615 - val_accuracy: 0.9840\n",
            "Epoch 30/45\n",
            "32/32 [==============================] - 3s 87ms/step - loss: 0.8615 - accuracy: 0.9880 - val_loss: 1.8716 - val_accuracy: 0.9840\n",
            "Epoch 31/45\n",
            "32/32 [==============================] - 3s 87ms/step - loss: 0.6952 - accuracy: 0.9900 - val_loss: 1.8814 - val_accuracy: 0.9830\n",
            "Epoch 32/45\n",
            "32/32 [==============================] - 3s 86ms/step - loss: 0.9413 - accuracy: 0.9830 - val_loss: 2.0928 - val_accuracy: 0.9810\n",
            "Epoch 33/45\n",
            "32/32 [==============================] - 3s 87ms/step - loss: 0.8115 - accuracy: 0.9865 - val_loss: 2.7073 - val_accuracy: 0.9760\n",
            "Epoch 34/45\n",
            "32/32 [==============================] - 3s 86ms/step - loss: 0.7837 - accuracy: 0.9865 - val_loss: 2.3444 - val_accuracy: 0.9820\n",
            "Epoch 35/45\n",
            "32/32 [==============================] - 3s 86ms/step - loss: 0.7980 - accuracy: 0.9895 - val_loss: 2.5811 - val_accuracy: 0.9760\n",
            "Epoch 36/45\n",
            "32/32 [==============================] - 3s 86ms/step - loss: 0.7754 - accuracy: 0.9870 - val_loss: 2.1384 - val_accuracy: 0.9800\n",
            "Epoch 37/45\n",
            "32/32 [==============================] - 3s 87ms/step - loss: 0.5657 - accuracy: 0.9895 - val_loss: 2.3053 - val_accuracy: 0.9780\n",
            "Epoch 38/45\n",
            "32/32 [==============================] - 3s 86ms/step - loss: 0.9356 - accuracy: 0.9865 - val_loss: 4.6317 - val_accuracy: 0.9700\n",
            "Epoch 39/45\n",
            "32/32 [==============================] - 3s 86ms/step - loss: 0.4603 - accuracy: 0.9900 - val_loss: 2.6735 - val_accuracy: 0.9800\n",
            "Epoch 40/45\n",
            "32/32 [==============================] - 3s 86ms/step - loss: 0.6625 - accuracy: 0.9865 - val_loss: 2.4351 - val_accuracy: 0.9780\n",
            "Epoch 41/45\n",
            "32/32 [==============================] - 3s 87ms/step - loss: 0.5269 - accuracy: 0.9910 - val_loss: 2.6184 - val_accuracy: 0.9780\n",
            "Epoch 42/45\n",
            "32/32 [==============================] - 3s 87ms/step - loss: 0.7716 - accuracy: 0.9875 - val_loss: 3.4559 - val_accuracy: 0.9740\n",
            "Epoch 43/45\n",
            "32/32 [==============================] - 3s 87ms/step - loss: 0.6525 - accuracy: 0.9890 - val_loss: 2.3974 - val_accuracy: 0.9770\n",
            "Epoch 44/45\n",
            "32/32 [==============================] - 3s 86ms/step - loss: 0.3287 - accuracy: 0.9940 - val_loss: 2.7341 - val_accuracy: 0.9810\n",
            "Epoch 45/45\n",
            "32/32 [==============================] - 3s 87ms/step - loss: 0.6016 - accuracy: 0.9875 - val_loss: 2.6776 - val_accuracy: 0.9750\n"
          ]
        }
      ],
      "source": [
        "callbacks = [\n",
        "    keras.callbacks.ModelCheckpoint(\n",
        "        filepath=\"feature_extraction_with_data_augmentation.keras\",\n",
        "        save_best_only=True,\n",
        "        monitor=\"val_loss\")\n",
        "]\n",
        "history = model.fit(\n",
        "    train_dataset,\n",
        "    epochs=45,\n",
        "    validation_data=validation_dataset,\n",
        "    callbacks=callbacks)"
      ]
    },
    {
      "cell_type": "markdown",
      "metadata": {
        "id": "0Kul7fvZEI4n"
      },
      "source": [
        "**Evaluating the model on the test set**"
      ]
    },
    {
      "cell_type": "code",
      "execution_count": 386,
      "metadata": {
        "colab": {
          "base_uri": "https://localhost:8080/"
        },
        "id": "eGdCtoUjEI4n",
        "outputId": "cf7bc54a-a71e-4d7f-f8c8-5fd0f25a52ec"
      },
      "outputs": [
        {
          "output_type": "stream",
          "name": "stdout",
          "text": [
            "32/32 [==============================] - 2s 36ms/step - loss: 4.2798 - accuracy: 0.9740\n",
            "Test accuracy: 0.974\n"
          ]
        }
      ],
      "source": [
        "test_model = keras.models.load_model(\n",
        "    \"feature_extraction_with_data_augmentation.keras\")\n",
        "test_loss, test_acc = test_model.evaluate(test_dataset)\n",
        "print(f\"Test accuracy: {test_acc:.3f}\")"
      ]
    },
    {
      "cell_type": "markdown",
      "metadata": {
        "id": "NfKzB7SlEI4o"
      },
      "source": [
        "### Fine-tuning a pretrained model"
      ]
    },
    {
      "cell_type": "code",
      "execution_count": 387,
      "metadata": {
        "colab": {
          "base_uri": "https://localhost:8080/"
        },
        "id": "0szo7Z5ZEI4o",
        "outputId": "a4e8e64d-d855-46e3-f62a-1f09347354d0"
      },
      "outputs": [
        {
          "output_type": "stream",
          "name": "stdout",
          "text": [
            "Model: \"vgg16\"\n",
            "_________________________________________________________________\n",
            " Layer (type)                Output Shape              Param #   \n",
            "=================================================================\n",
            " input_70 (InputLayer)       [(None, None, None, 3)]   0         \n",
            "                                                                 \n",
            " block1_conv1 (Conv2D)       (None, None, None, 64)    1792      \n",
            "                                                                 \n",
            " block1_conv2 (Conv2D)       (None, None, None, 64)    36928     \n",
            "                                                                 \n",
            " block1_pool (MaxPooling2D)  (None, None, None, 64)    0         \n",
            "                                                                 \n",
            " block2_conv1 (Conv2D)       (None, None, None, 128)   73856     \n",
            "                                                                 \n",
            " block2_conv2 (Conv2D)       (None, None, None, 128)   147584    \n",
            "                                                                 \n",
            " block2_pool (MaxPooling2D)  (None, None, None, 128)   0         \n",
            "                                                                 \n",
            " block3_conv1 (Conv2D)       (None, None, None, 256)   295168    \n",
            "                                                                 \n",
            " block3_conv2 (Conv2D)       (None, None, None, 256)   590080    \n",
            "                                                                 \n",
            " block3_conv3 (Conv2D)       (None, None, None, 256)   590080    \n",
            "                                                                 \n",
            " block3_pool (MaxPooling2D)  (None, None, None, 256)   0         \n",
            "                                                                 \n",
            " block4_conv1 (Conv2D)       (None, None, None, 512)   1180160   \n",
            "                                                                 \n",
            " block4_conv2 (Conv2D)       (None, None, None, 512)   2359808   \n",
            "                                                                 \n",
            " block4_conv3 (Conv2D)       (None, None, None, 512)   2359808   \n",
            "                                                                 \n",
            " block4_pool (MaxPooling2D)  (None, None, None, 512)   0         \n",
            "                                                                 \n",
            " block5_conv1 (Conv2D)       (None, None, None, 512)   2359808   \n",
            "                                                                 \n",
            " block5_conv2 (Conv2D)       (None, None, None, 512)   2359808   \n",
            "                                                                 \n",
            " block5_conv3 (Conv2D)       (None, None, None, 512)   2359808   \n",
            "                                                                 \n",
            " block5_pool (MaxPooling2D)  (None, None, None, 512)   0         \n",
            "                                                                 \n",
            "=================================================================\n",
            "Total params: 14,714,688\n",
            "Trainable params: 0\n",
            "Non-trainable params: 14,714,688\n",
            "_________________________________________________________________\n"
          ]
        }
      ],
      "source": [
        "conv_base.summary()"
      ]
    },
    {
      "cell_type": "markdown",
      "metadata": {
        "id": "61MKYjL7EI4o"
      },
      "source": [
        "**Freezing all layers until the fourth from the last**"
      ]
    },
    {
      "cell_type": "code",
      "execution_count": 388,
      "metadata": {
        "id": "URh6xMYnEI4o"
      },
      "outputs": [],
      "source": [
        "conv_base.trainable = True\n",
        "for layer in conv_base.layers[:-4]:\n",
        "    layer.trainable = False"
      ]
    },
    {
      "cell_type": "markdown",
      "metadata": {
        "id": "kjelWYi0EI4o"
      },
      "source": [
        "**Fine-tuning the model**"
      ]
    },
    {
      "cell_type": "code",
      "execution_count": 391,
      "metadata": {
        "colab": {
          "base_uri": "https://localhost:8080/"
        },
        "id": "yBdjSbmFEI4o",
        "outputId": "a4bdbc01-5191-401c-b984-6984cf2e3d9c"
      },
      "outputs": [
        {
          "output_type": "stream",
          "name": "stdout",
          "text": [
            "Epoch 1/45\n",
            "32/32 [==============================] - 5s 105ms/step - loss: 0.0696 - accuracy: 0.9960 - val_loss: 1.3467 - val_accuracy: 0.9840\n",
            "Epoch 2/45\n",
            "32/32 [==============================] - 3s 88ms/step - loss: 0.1673 - accuracy: 0.9945 - val_loss: 1.5509 - val_accuracy: 0.9830\n",
            "Epoch 3/45\n",
            "32/32 [==============================] - 3s 90ms/step - loss: 0.2822 - accuracy: 0.9930 - val_loss: 1.4027 - val_accuracy: 0.9780\n",
            "Epoch 4/45\n",
            "32/32 [==============================] - 3s 90ms/step - loss: 0.1625 - accuracy: 0.9970 - val_loss: 1.6039 - val_accuracy: 0.9830\n",
            "Epoch 5/45\n",
            "32/32 [==============================] - 3s 89ms/step - loss: 0.0824 - accuracy: 0.9965 - val_loss: 1.5301 - val_accuracy: 0.9830\n",
            "Epoch 6/45\n",
            "32/32 [==============================] - 3s 89ms/step - loss: 0.3193 - accuracy: 0.9935 - val_loss: 1.5280 - val_accuracy: 0.9790\n",
            "Epoch 7/45\n",
            "32/32 [==============================] - 3s 89ms/step - loss: 0.2301 - accuracy: 0.9950 - val_loss: 1.6800 - val_accuracy: 0.9820\n",
            "Epoch 8/45\n",
            "32/32 [==============================] - 3s 90ms/step - loss: 0.0741 - accuracy: 0.9970 - val_loss: 1.5416 - val_accuracy: 0.9830\n",
            "Epoch 9/45\n",
            "32/32 [==============================] - 3s 89ms/step - loss: 0.2822 - accuracy: 0.9930 - val_loss: 1.5584 - val_accuracy: 0.9830\n",
            "Epoch 10/45\n",
            "32/32 [==============================] - 3s 89ms/step - loss: 0.1415 - accuracy: 0.9960 - val_loss: 1.6489 - val_accuracy: 0.9770\n",
            "Epoch 11/45\n",
            "32/32 [==============================] - 3s 89ms/step - loss: 0.1853 - accuracy: 0.9955 - val_loss: 1.5368 - val_accuracy: 0.9840\n",
            "Epoch 12/45\n",
            "32/32 [==============================] - 3s 89ms/step - loss: 0.1772 - accuracy: 0.9955 - val_loss: 2.0040 - val_accuracy: 0.9790\n",
            "Epoch 13/45\n",
            "32/32 [==============================] - 3s 89ms/step - loss: 0.1088 - accuracy: 0.9965 - val_loss: 1.7468 - val_accuracy: 0.9860\n",
            "Epoch 14/45\n",
            "32/32 [==============================] - 3s 88ms/step - loss: 0.0584 - accuracy: 0.9970 - val_loss: 1.7579 - val_accuracy: 0.9830\n",
            "Epoch 15/45\n",
            "32/32 [==============================] - 3s 89ms/step - loss: 0.0871 - accuracy: 0.9965 - val_loss: 2.0649 - val_accuracy: 0.9800\n",
            "Epoch 16/45\n",
            "32/32 [==============================] - 3s 89ms/step - loss: 0.0473 - accuracy: 0.9965 - val_loss: 2.1919 - val_accuracy: 0.9800\n",
            "Epoch 17/45\n",
            "32/32 [==============================] - 3s 89ms/step - loss: 0.0440 - accuracy: 0.9970 - val_loss: 1.8687 - val_accuracy: 0.9800\n",
            "Epoch 18/45\n",
            "32/32 [==============================] - 3s 89ms/step - loss: 0.1390 - accuracy: 0.9950 - val_loss: 1.9996 - val_accuracy: 0.9800\n",
            "Epoch 19/45\n",
            "32/32 [==============================] - 3s 89ms/step - loss: 0.0751 - accuracy: 0.9975 - val_loss: 1.9392 - val_accuracy: 0.9810\n",
            "Epoch 20/45\n",
            "32/32 [==============================] - 3s 89ms/step - loss: 0.1126 - accuracy: 0.9975 - val_loss: 1.6564 - val_accuracy: 0.9820\n",
            "Epoch 21/45\n",
            "32/32 [==============================] - 3s 89ms/step - loss: 0.3324 - accuracy: 0.9930 - val_loss: 1.5675 - val_accuracy: 0.9820\n",
            "Epoch 22/45\n",
            "32/32 [==============================] - 3s 89ms/step - loss: 0.1994 - accuracy: 0.9950 - val_loss: 1.6829 - val_accuracy: 0.9830\n",
            "Epoch 23/45\n",
            "32/32 [==============================] - 3s 90ms/step - loss: 0.0717 - accuracy: 0.9960 - val_loss: 1.5890 - val_accuracy: 0.9830\n",
            "Epoch 24/45\n",
            "32/32 [==============================] - 3s 90ms/step - loss: 0.1077 - accuracy: 0.9975 - val_loss: 1.5493 - val_accuracy: 0.9850\n",
            "Epoch 25/45\n",
            "32/32 [==============================] - 3s 89ms/step - loss: 0.1867 - accuracy: 0.9955 - val_loss: 1.4367 - val_accuracy: 0.9820\n",
            "Epoch 26/45\n",
            "32/32 [==============================] - 3s 89ms/step - loss: 0.0179 - accuracy: 0.9985 - val_loss: 1.5164 - val_accuracy: 0.9860\n",
            "Epoch 27/45\n",
            "32/32 [==============================] - 3s 90ms/step - loss: 0.0179 - accuracy: 0.9980 - val_loss: 2.0644 - val_accuracy: 0.9760\n",
            "Epoch 28/45\n",
            "32/32 [==============================] - 3s 89ms/step - loss: 0.2022 - accuracy: 0.9970 - val_loss: 1.4051 - val_accuracy: 0.9870\n",
            "Epoch 29/45\n",
            "32/32 [==============================] - 3s 89ms/step - loss: 0.0472 - accuracy: 0.9965 - val_loss: 1.4164 - val_accuracy: 0.9830\n",
            "Epoch 30/45\n",
            "32/32 [==============================] - 3s 89ms/step - loss: 0.1066 - accuracy: 0.9965 - val_loss: 1.4972 - val_accuracy: 0.9880\n",
            "Epoch 31/45\n",
            "32/32 [==============================] - 3s 88ms/step - loss: 0.0189 - accuracy: 0.9990 - val_loss: 1.4503 - val_accuracy: 0.9840\n",
            "Epoch 32/45\n",
            "32/32 [==============================] - 3s 89ms/step - loss: 0.0282 - accuracy: 0.9980 - val_loss: 2.1432 - val_accuracy: 0.9790\n",
            "Epoch 33/45\n",
            "32/32 [==============================] - 3s 89ms/step - loss: 0.0531 - accuracy: 0.9975 - val_loss: 1.7951 - val_accuracy: 0.9810\n",
            "Epoch 34/45\n",
            "32/32 [==============================] - 3s 90ms/step - loss: 0.1815 - accuracy: 0.9970 - val_loss: 1.4195 - val_accuracy: 0.9840\n",
            "Epoch 35/45\n",
            "32/32 [==============================] - 3s 89ms/step - loss: 0.0229 - accuracy: 0.9975 - val_loss: 1.4086 - val_accuracy: 0.9850\n",
            "Epoch 36/45\n",
            "32/32 [==============================] - 3s 89ms/step - loss: 0.0885 - accuracy: 0.9960 - val_loss: 1.5378 - val_accuracy: 0.9840\n",
            "Epoch 37/45\n",
            "32/32 [==============================] - 3s 89ms/step - loss: 0.1058 - accuracy: 0.9980 - val_loss: 1.6075 - val_accuracy: 0.9820\n",
            "Epoch 38/45\n",
            "32/32 [==============================] - 3s 90ms/step - loss: 0.1392 - accuracy: 0.9955 - val_loss: 1.5539 - val_accuracy: 0.9840\n",
            "Epoch 39/45\n",
            "32/32 [==============================] - 3s 89ms/step - loss: 0.0572 - accuracy: 0.9985 - val_loss: 1.9704 - val_accuracy: 0.9790\n",
            "Epoch 40/45\n",
            "32/32 [==============================] - 3s 89ms/step - loss: 0.1029 - accuracy: 0.9965 - val_loss: 1.6548 - val_accuracy: 0.9810\n",
            "Epoch 41/45\n",
            "32/32 [==============================] - 3s 89ms/step - loss: 0.0765 - accuracy: 0.9975 - val_loss: 1.6715 - val_accuracy: 0.9850\n",
            "Epoch 42/45\n",
            "32/32 [==============================] - 3s 89ms/step - loss: 0.0679 - accuracy: 0.9975 - val_loss: 1.5681 - val_accuracy: 0.9840\n",
            "Epoch 43/45\n",
            "32/32 [==============================] - 3s 89ms/step - loss: 0.0332 - accuracy: 0.9985 - val_loss: 1.9072 - val_accuracy: 0.9800\n",
            "Epoch 44/45\n",
            "32/32 [==============================] - 3s 89ms/step - loss: 0.0129 - accuracy: 0.9985 - val_loss: 1.4728 - val_accuracy: 0.9830\n",
            "Epoch 45/45\n",
            "32/32 [==============================] - 3s 89ms/step - loss: 0.0539 - accuracy: 0.9980 - val_loss: 1.8015 - val_accuracy: 0.9820\n"
          ]
        }
      ],
      "source": [
        "model.compile(loss=\"binary_crossentropy\",\n",
        "              optimizer=keras.optimizers.RMSprop(learning_rate=1e-5),\n",
        "              metrics=[\"accuracy\"])\n",
        "\n",
        "callbacks = [\n",
        "    keras.callbacks.ModelCheckpoint(\n",
        "        filepath=\"fine_tuning.keras\",\n",
        "        save_best_only=True,\n",
        "        monitor=\"val_loss\")\n",
        "]\n",
        "history = model.fit(\n",
        "    train_dataset,\n",
        "    epochs=45,\n",
        "    validation_data=validation_dataset,\n",
        "    callbacks=callbacks)"
      ]
    },
    {
      "cell_type": "code",
      "execution_count": 392,
      "metadata": {
        "colab": {
          "base_uri": "https://localhost:8080/"
        },
        "id": "Fzpj3KINEI4o",
        "outputId": "fd7dbf1a-4555-4d82-adaf-703cb2323937"
      },
      "outputs": [
        {
          "output_type": "stream",
          "name": "stdout",
          "text": [
            "32/32 [==============================] - 2s 37ms/step - loss: 1.8240 - accuracy: 0.9805\n",
            "Test accuracy: 0.980\n"
          ]
        }
      ],
      "source": [
        "model = keras.models.load_model(\"fine_tuning.keras\")\n",
        "test_loss, test_acc = model.evaluate(test_dataset)\n",
        "print(f\"Test accuracy: {test_acc:.3f}\")"
      ]
    }
  ],
  "metadata": {
    "colab": {
      "collapsed_sections": [],
      "name": "chapter08_intro-to-dl-for-computer-vision.i",
      "provenance": [],
      "toc_visible": true,
      "machine_shape": "hm"
    },
    "kernelspec": {
      "display_name": "Python 3",
      "language": "python",
      "name": "python3"
    },
    "language_info": {
      "codemirror_mode": {
        "name": "ipython",
        "version": 3
      },
      "file_extension": ".py",
      "mimetype": "text/x-python",
      "name": "python",
      "nbconvert_exporter": "python",
      "pygments_lexer": "ipython3",
      "version": "3.7.0"
    },
    "accelerator": "GPU",
    "gpuClass": "premium"
  },
  "nbformat": 4,
  "nbformat_minor": 0
}