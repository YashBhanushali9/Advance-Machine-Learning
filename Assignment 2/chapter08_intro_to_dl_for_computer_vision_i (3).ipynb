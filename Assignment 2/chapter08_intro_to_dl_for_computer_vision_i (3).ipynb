{
  "cells": [
    {
      "cell_type": "markdown",
      "metadata": {
        "id": "wozxk6QEEI4Q"
      },
      "source": [
        "This is a companion notebook for the book [Deep Learning with Python, Second Edition](https://www.manning.com/books/deep-learning-with-python-second-edition?a_aid=keras&a_bid=76564dff). For readability, it only contains runnable code blocks and section titles, and omits everything else in the book: text paragraphs, figures, and pseudocode.\n",
        "\n",
        "**If you want to be able to follow what's going on, I recommend reading the notebook side by side with your copy of the book.**\n",
        "\n",
        "This notebook was generated for TensorFlow 2.6."
      ]
    },
    {
      "cell_type": "markdown",
      "metadata": {
        "id": "O8KI-8erEI4W"
      },
      "source": [
        "# Introduction to deep learning for computer vision"
      ]
    },
    {
      "cell_type": "markdown",
      "metadata": {
        "id": "e7p2OfIAEI4X"
      },
      "source": [
        "## Introduction to convnets"
      ]
    },
    {
      "cell_type": "markdown",
      "metadata": {
        "id": "rsry0p45EI4X"
      },
      "source": [
        "**Instantiating a small convnet**"
      ]
    },
    {
      "cell_type": "code",
      "execution_count": 14,
      "metadata": {
        "id": "7FNobmFaEI4Y"
      },
      "outputs": [],
      "source": [
        "from tensorflow import keras\n",
        "from tensorflow.keras import layers\n",
        "inputs = keras.Input(shape=(28, 28, 1))\n",
        "x = layers.Conv2D(filters=32, kernel_size=3, activation=\"relu\")(inputs)\n",
        "x = layers.MaxPooling2D(pool_size=2)(x)\n",
        "x = layers.Conv2D(filters=64, kernel_size=3, activation=\"relu\")(x)\n",
        "x = layers.MaxPooling2D(pool_size=2)(x)\n",
        "x = layers.Conv2D(filters=128, kernel_size=3, activation=\"relu\")(x)\n",
        "x = layers.Flatten()(x)\n",
        "outputs = layers.Dense(10, activation=\"softmax\")(x)\n",
        "model = keras.Model(inputs=inputs, outputs=outputs)"
      ]
    },
    {
      "cell_type": "markdown",
      "metadata": {
        "id": "vdhQrmeiEI4Z"
      },
      "source": [
        "**Displaying the model's summary**"
      ]
    },
    {
      "cell_type": "code",
      "execution_count": 2,
      "metadata": {
        "colab": {
          "base_uri": "https://localhost:8080/"
        },
        "id": "QxLvVpbzEI4a",
        "outputId": "1a1af77d-942d-4d71-ffe8-361823d2aea0"
      },
      "outputs": [
        {
          "output_type": "stream",
          "name": "stdout",
          "text": [
            "Model: \"model\"\n",
            "_________________________________________________________________\n",
            " Layer (type)                Output Shape              Param #   \n",
            "=================================================================\n",
            " input_1 (InputLayer)        [(None, 28, 28, 1)]       0         \n",
            "                                                                 \n",
            " conv2d (Conv2D)             (None, 26, 26, 32)        320       \n",
            "                                                                 \n",
            " max_pooling2d (MaxPooling2D  (None, 13, 13, 32)       0         \n",
            " )                                                               \n",
            "                                                                 \n",
            " conv2d_1 (Conv2D)           (None, 11, 11, 64)        18496     \n",
            "                                                                 \n",
            " max_pooling2d_1 (MaxPooling  (None, 5, 5, 64)         0         \n",
            " 2D)                                                             \n",
            "                                                                 \n",
            " conv2d_2 (Conv2D)           (None, 3, 3, 128)         73856     \n",
            "                                                                 \n",
            " flatten (Flatten)           (None, 1152)              0         \n",
            "                                                                 \n",
            " dense (Dense)               (None, 10)                11530     \n",
            "                                                                 \n",
            "=================================================================\n",
            "Total params: 104,202\n",
            "Trainable params: 104,202\n",
            "Non-trainable params: 0\n",
            "_________________________________________________________________\n"
          ]
        }
      ],
      "source": [
        "model.summary()"
      ]
    },
    {
      "cell_type": "markdown",
      "metadata": {
        "id": "QoiYHzRcEI4a"
      },
      "source": [
        "**Training the convnet on MNIST images**"
      ]
    },
    {
      "cell_type": "code",
      "execution_count": 15,
      "metadata": {
        "colab": {
          "base_uri": "https://localhost:8080/"
        },
        "id": "nKOqLP4BEI4b",
        "outputId": "f3b92df8-ba93-42e7-af4f-b2e3923d5742"
      },
      "outputs": [
        {
          "output_type": "stream",
          "name": "stdout",
          "text": [
            "Epoch 1/5\n",
            "938/938 [==============================] - 4s 4ms/step - loss: 0.1575 - accuracy: 0.9504\n",
            "Epoch 2/5\n",
            "938/938 [==============================] - 3s 4ms/step - loss: 0.0436 - accuracy: 0.9866\n",
            "Epoch 3/5\n",
            "938/938 [==============================] - 3s 4ms/step - loss: 0.0296 - accuracy: 0.9905\n",
            "Epoch 4/5\n",
            "938/938 [==============================] - 3s 4ms/step - loss: 0.0230 - accuracy: 0.9934\n",
            "Epoch 5/5\n",
            "938/938 [==============================] - 3s 4ms/step - loss: 0.0176 - accuracy: 0.9951\n"
          ]
        },
        {
          "output_type": "execute_result",
          "data": {
            "text/plain": [
              "<keras.callbacks.History at 0x7f47c7fe3790>"
            ]
          },
          "metadata": {},
          "execution_count": 15
        }
      ],
      "source": [
        "from tensorflow.keras.datasets import mnist\n",
        "\n",
        "(train_images, train_labels), (test_images, test_labels) = mnist.load_data()\n",
        "train_images = train_images.reshape((60000, 28, 28, 1))\n",
        "train_images = train_images.astype(\"float32\") / 255\n",
        "test_images = test_images.reshape((10000, 28, 28, 1))\n",
        "test_images = test_images.astype(\"float32\") / 255\n",
        "model.compile(optimizer=\"rmsprop\",\n",
        "    loss=\"sparse_categorical_crossentropy\",\n",
        "    metrics=[\"accuracy\"])\n",
        "model.fit(train_images, train_labels, epochs=5, batch_size=64)"
      ]
    },
    {
      "cell_type": "markdown",
      "metadata": {
        "id": "A-lAg-gCEI4c"
      },
      "source": [
        "**Evaluating the convnet**"
      ]
    },
    {
      "cell_type": "code",
      "execution_count": 16,
      "metadata": {
        "colab": {
          "base_uri": "https://localhost:8080/"
        },
        "id": "U-F2vu08EI4c",
        "outputId": "da29a93b-56d7-4376-ce81-c23623dbb3a8"
      },
      "outputs": [
        {
          "output_type": "stream",
          "name": "stdout",
          "text": [
            "313/313 [==============================] - 1s 2ms/step - loss: 0.0375 - accuracy: 0.9889\n",
            "Test accuracy: 0.989\n"
          ]
        }
      ],
      "source": [
        "test_loss, test_acc = model.evaluate(test_images, test_labels)\n",
        "print(f\"Test accuracy: {test_acc:.3f}\")"
      ]
    },
    {
      "cell_type": "markdown",
      "metadata": {
        "id": "eK02CmdjEI4c"
      },
      "source": [
        "### The convolution operation"
      ]
    },
    {
      "cell_type": "markdown",
      "metadata": {
        "id": "RmpS2UrZEI4d"
      },
      "source": [
        "#### Understanding border effects and padding"
      ]
    },
    {
      "cell_type": "markdown",
      "metadata": {
        "id": "a5ytwQdAEI4d"
      },
      "source": [
        "#### Understanding convolution strides"
      ]
    },
    {
      "cell_type": "markdown",
      "metadata": {
        "id": "GW6wZPy0EI4e"
      },
      "source": [
        "### The max-pooling operation"
      ]
    },
    {
      "cell_type": "markdown",
      "metadata": {
        "id": "a_tkSGBCEI4e"
      },
      "source": [
        "**An incorrectly structured convnet missing its max-pooling layers**"
      ]
    },
    {
      "cell_type": "code",
      "execution_count": 17,
      "metadata": {
        "id": "fyeFOlrIEI4e"
      },
      "outputs": [],
      "source": [
        "inputs = keras.Input(shape=(28, 28, 1))\n",
        "x = layers.Conv2D(filters=32, kernel_size=3, activation=\"relu\")(inputs)\n",
        "x = layers.Conv2D(filters=64, kernel_size=3, activation=\"relu\")(x)\n",
        "x = layers.Conv2D(filters=128, kernel_size=3, activation=\"relu\")(x)\n",
        "x = layers.Flatten()(x)\n",
        "outputs = layers.Dense(10, activation=\"softmax\")(x)\n",
        "model_no_max_pool = keras.Model(inputs=inputs, outputs=outputs)"
      ]
    },
    {
      "cell_type": "code",
      "execution_count": 18,
      "metadata": {
        "colab": {
          "base_uri": "https://localhost:8080/"
        },
        "id": "e_3nO34MEI4f",
        "outputId": "ecc37460-93b4-4bb9-8f29-196d5ad4d0a5"
      },
      "outputs": [
        {
          "output_type": "stream",
          "name": "stdout",
          "text": [
            "Model: \"model_3\"\n",
            "_________________________________________________________________\n",
            " Layer (type)                Output Shape              Param #   \n",
            "=================================================================\n",
            " input_4 (InputLayer)        [(None, 28, 28, 1)]       0         \n",
            "                                                                 \n",
            " conv2d_9 (Conv2D)           (None, 26, 26, 32)        320       \n",
            "                                                                 \n",
            " conv2d_10 (Conv2D)          (None, 24, 24, 64)        18496     \n",
            "                                                                 \n",
            " conv2d_11 (Conv2D)          (None, 22, 22, 128)       73856     \n",
            "                                                                 \n",
            " flatten_3 (Flatten)         (None, 61952)             0         \n",
            "                                                                 \n",
            " dense_3 (Dense)             (None, 10)                619530    \n",
            "                                                                 \n",
            "=================================================================\n",
            "Total params: 712,202\n",
            "Trainable params: 712,202\n",
            "Non-trainable params: 0\n",
            "_________________________________________________________________\n"
          ]
        }
      ],
      "source": [
        "model_no_max_pool.summary()"
      ]
    },
    {
      "cell_type": "markdown",
      "metadata": {
        "id": "KDLjFf-XEI4f"
      },
      "source": [
        "## Training a convnet from scratch on a small dataset"
      ]
    },
    {
      "cell_type": "markdown",
      "metadata": {
        "id": "tDCdHKfQEI4f"
      },
      "source": [
        "### The relevance of deep learning for small-data problems"
      ]
    },
    {
      "cell_type": "markdown",
      "metadata": {
        "id": "LlwppZy0EI4f"
      },
      "source": [
        "### Downloading the data"
      ]
    },
    {
      "cell_type": "code",
      "execution_count": 19,
      "metadata": {
        "colab": {
          "base_uri": "https://localhost:8080/",
          "height": 92
        },
        "id": "YqtT_RnVEI4g",
        "outputId": "17a2b963-36ce-4253-9a96-3cf57f74f89f"
      },
      "outputs": [
        {
          "output_type": "display_data",
          "data": {
            "text/plain": [
              "<IPython.core.display.HTML object>"
            ],
            "text/html": [
              "\n",
              "     <input type=\"file\" id=\"files-505c2fcd-d694-4f6c-8c3c-7cd72d716e87\" name=\"files[]\" multiple disabled\n",
              "        style=\"border:none\" />\n",
              "     <output id=\"result-505c2fcd-d694-4f6c-8c3c-7cd72d716e87\">\n",
              "      Upload widget is only available when the cell has been executed in the\n",
              "      current browser session. Please rerun this cell to enable.\n",
              "      </output>\n",
              "      <script>// Copyright 2017 Google LLC\n",
              "//\n",
              "// Licensed under the Apache License, Version 2.0 (the \"License\");\n",
              "// you may not use this file except in compliance with the License.\n",
              "// You may obtain a copy of the License at\n",
              "//\n",
              "//      http://www.apache.org/licenses/LICENSE-2.0\n",
              "//\n",
              "// Unless required by applicable law or agreed to in writing, software\n",
              "// distributed under the License is distributed on an \"AS IS\" BASIS,\n",
              "// WITHOUT WARRANTIES OR CONDITIONS OF ANY KIND, either express or implied.\n",
              "// See the License for the specific language governing permissions and\n",
              "// limitations under the License.\n",
              "\n",
              "/**\n",
              " * @fileoverview Helpers for google.colab Python module.\n",
              " */\n",
              "(function(scope) {\n",
              "function span(text, styleAttributes = {}) {\n",
              "  const element = document.createElement('span');\n",
              "  element.textContent = text;\n",
              "  for (const key of Object.keys(styleAttributes)) {\n",
              "    element.style[key] = styleAttributes[key];\n",
              "  }\n",
              "  return element;\n",
              "}\n",
              "\n",
              "// Max number of bytes which will be uploaded at a time.\n",
              "const MAX_PAYLOAD_SIZE = 100 * 1024;\n",
              "\n",
              "function _uploadFiles(inputId, outputId) {\n",
              "  const steps = uploadFilesStep(inputId, outputId);\n",
              "  const outputElement = document.getElementById(outputId);\n",
              "  // Cache steps on the outputElement to make it available for the next call\n",
              "  // to uploadFilesContinue from Python.\n",
              "  outputElement.steps = steps;\n",
              "\n",
              "  return _uploadFilesContinue(outputId);\n",
              "}\n",
              "\n",
              "// This is roughly an async generator (not supported in the browser yet),\n",
              "// where there are multiple asynchronous steps and the Python side is going\n",
              "// to poll for completion of each step.\n",
              "// This uses a Promise to block the python side on completion of each step,\n",
              "// then passes the result of the previous step as the input to the next step.\n",
              "function _uploadFilesContinue(outputId) {\n",
              "  const outputElement = document.getElementById(outputId);\n",
              "  const steps = outputElement.steps;\n",
              "\n",
              "  const next = steps.next(outputElement.lastPromiseValue);\n",
              "  return Promise.resolve(next.value.promise).then((value) => {\n",
              "    // Cache the last promise value to make it available to the next\n",
              "    // step of the generator.\n",
              "    outputElement.lastPromiseValue = value;\n",
              "    return next.value.response;\n",
              "  });\n",
              "}\n",
              "\n",
              "/**\n",
              " * Generator function which is called between each async step of the upload\n",
              " * process.\n",
              " * @param {string} inputId Element ID of the input file picker element.\n",
              " * @param {string} outputId Element ID of the output display.\n",
              " * @return {!Iterable<!Object>} Iterable of next steps.\n",
              " */\n",
              "function* uploadFilesStep(inputId, outputId) {\n",
              "  const inputElement = document.getElementById(inputId);\n",
              "  inputElement.disabled = false;\n",
              "\n",
              "  const outputElement = document.getElementById(outputId);\n",
              "  outputElement.innerHTML = '';\n",
              "\n",
              "  const pickedPromise = new Promise((resolve) => {\n",
              "    inputElement.addEventListener('change', (e) => {\n",
              "      resolve(e.target.files);\n",
              "    });\n",
              "  });\n",
              "\n",
              "  const cancel = document.createElement('button');\n",
              "  inputElement.parentElement.appendChild(cancel);\n",
              "  cancel.textContent = 'Cancel upload';\n",
              "  const cancelPromise = new Promise((resolve) => {\n",
              "    cancel.onclick = () => {\n",
              "      resolve(null);\n",
              "    };\n",
              "  });\n",
              "\n",
              "  // Wait for the user to pick the files.\n",
              "  const files = yield {\n",
              "    promise: Promise.race([pickedPromise, cancelPromise]),\n",
              "    response: {\n",
              "      action: 'starting',\n",
              "    }\n",
              "  };\n",
              "\n",
              "  cancel.remove();\n",
              "\n",
              "  // Disable the input element since further picks are not allowed.\n",
              "  inputElement.disabled = true;\n",
              "\n",
              "  if (!files) {\n",
              "    return {\n",
              "      response: {\n",
              "        action: 'complete',\n",
              "      }\n",
              "    };\n",
              "  }\n",
              "\n",
              "  for (const file of files) {\n",
              "    const li = document.createElement('li');\n",
              "    li.append(span(file.name, {fontWeight: 'bold'}));\n",
              "    li.append(span(\n",
              "        `(${file.type || 'n/a'}) - ${file.size} bytes, ` +\n",
              "        `last modified: ${\n",
              "            file.lastModifiedDate ? file.lastModifiedDate.toLocaleDateString() :\n",
              "                                    'n/a'} - `));\n",
              "    const percent = span('0% done');\n",
              "    li.appendChild(percent);\n",
              "\n",
              "    outputElement.appendChild(li);\n",
              "\n",
              "    const fileDataPromise = new Promise((resolve) => {\n",
              "      const reader = new FileReader();\n",
              "      reader.onload = (e) => {\n",
              "        resolve(e.target.result);\n",
              "      };\n",
              "      reader.readAsArrayBuffer(file);\n",
              "    });\n",
              "    // Wait for the data to be ready.\n",
              "    let fileData = yield {\n",
              "      promise: fileDataPromise,\n",
              "      response: {\n",
              "        action: 'continue',\n",
              "      }\n",
              "    };\n",
              "\n",
              "    // Use a chunked sending to avoid message size limits. See b/62115660.\n",
              "    let position = 0;\n",
              "    do {\n",
              "      const length = Math.min(fileData.byteLength - position, MAX_PAYLOAD_SIZE);\n",
              "      const chunk = new Uint8Array(fileData, position, length);\n",
              "      position += length;\n",
              "\n",
              "      const base64 = btoa(String.fromCharCode.apply(null, chunk));\n",
              "      yield {\n",
              "        response: {\n",
              "          action: 'append',\n",
              "          file: file.name,\n",
              "          data: base64,\n",
              "        },\n",
              "      };\n",
              "\n",
              "      let percentDone = fileData.byteLength === 0 ?\n",
              "          100 :\n",
              "          Math.round((position / fileData.byteLength) * 100);\n",
              "      percent.textContent = `${percentDone}% done`;\n",
              "\n",
              "    } while (position < fileData.byteLength);\n",
              "  }\n",
              "\n",
              "  // All done.\n",
              "  yield {\n",
              "    response: {\n",
              "      action: 'complete',\n",
              "    }\n",
              "  };\n",
              "}\n",
              "\n",
              "scope.google = scope.google || {};\n",
              "scope.google.colab = scope.google.colab || {};\n",
              "scope.google.colab._files = {\n",
              "  _uploadFiles,\n",
              "  _uploadFilesContinue,\n",
              "};\n",
              "})(self);\n",
              "</script> "
            ]
          },
          "metadata": {}
        },
        {
          "output_type": "stream",
          "name": "stdout",
          "text": [
            "Saving dogs-vs-cats.zip to dogs-vs-cats.zip\n"
          ]
        }
      ],
      "source": [
        "from google.colab import files\n",
        "files.upload()"
      ]
    },
    {
      "cell_type": "code",
      "execution_count": 63,
      "metadata": {
        "colab": {
          "base_uri": "https://localhost:8080/"
        },
        "id": "9fHORyRiEI4g",
        "outputId": "f4825e86-c298-4e9a-972a-88868f0c7693"
      },
      "outputs": [
        {
          "output_type": "stream",
          "name": "stdout",
          "text": [
            "replace sampleSubmission.csv? [y]es, [n]o, [A]ll, [N]one, [r]ename: replace train/cat.0.jpg? [y]es, [n]o, [A]ll, [N]one, [r]ename: replace test1/1.jpg? [y]es, [n]o, [A]ll, [N]one, [r]ename: "
          ]
        }
      ],
      "source": [
        "!unzip -qq dogs-vs-cats.zip\n",
        "!unzip -qq train.zip\n",
        "!unzip -qq test1.zip"
      ]
    },
    {
      "cell_type": "markdown",
      "metadata": {
        "id": "wH0bpDp4EI4g"
      },
      "source": [
        "**Copying images to training, validation, and test directories**"
      ]
    },
    {
      "cell_type": "code",
      "source": [
        "import os, shutil, pathlib\n",
        "\n",
        "original_dir = pathlib.Path(\"train\")\n",
        "new_base_dir = pathlib.Path(\"cats_vs_dogs_small\")\n",
        "\n",
        "def make_subset(subset_name, start_index, end_index):\n",
        "    for category in (\"cat\", \"dog\"):\n",
        "        dir = new_base_dir / subset_name / category\n",
        "\n",
        "        fnames = [f\"{category}.{i}.jpg\" for i in range(start_index, end_index)]\n",
        "        for fname in fnames:\n",
        "            shutil.copyfile(src=original_dir / fname,\n",
        "                            dst=dir / fname)\n",
        "\n",
        "make_subset(\"train\", start_index=0, end_index=1000)\n",
        "make_subset(\"validation\", start_index=1000, end_index=1500)\n",
        "make_subset(\"test\", start_index=1500, end_index=2500)"
      ],
      "metadata": {
        "id": "TkU35FRIqpxc"
      },
      "execution_count": 441,
      "outputs": []
    },
    {
      "cell_type": "markdown",
      "source": [
        "import os, shutil, pathlib\n",
        "\n",
        "original_dir = pathlib.Path(\"train\")\n",
        "new_base_dir = pathlib.Path(\"cats_vs_dogs_small\")\n",
        "\n",
        "def make_subset(subset_name, start_index, end_index):\n",
        "    for category in (\"cat\", \"dog\"):\n",
        "        dir = new_base_dir / subset_name / category\n",
        "\n",
        "        fnames = [f\"{category}.{i}.jpg\" for i in range(start_index, end_index)]\n",
        "        for fname in fnames:\n",
        "            shutil.copyfile(src=original_dir / fname,\n",
        "                            dst=dir / fname)\n",
        "\n",
        "make_subset(\"train\", start_index=0, end_index=1000)\n",
        "make_subset(\"validation\", start_index=1000, end_index=1500)\n",
        "make_subset(\"test\", start_index=1500, end_index=2500)"
      ],
      "metadata": {
        "id": "w77WPlkAEI4g"
      }
    },
    {
      "cell_type": "markdown",
      "metadata": {
        "id": "FmsUfnz9EI4h"
      },
      "source": [
        "### Building the model"
      ]
    },
    {
      "cell_type": "markdown",
      "metadata": {
        "id": "fwaZkv5rEI4h"
      },
      "source": [
        "**Instantiating a small convnet for dogs vs. cats classification**"
      ]
    },
    {
      "cell_type": "code",
      "execution_count": 398,
      "metadata": {
        "id": "6obpJltiEI4h"
      },
      "outputs": [],
      "source": [
        "from tensorflow import keras\n",
        "from tensorflow.keras import layers\n",
        "\n",
        "inputs = keras.Input(shape=(180, 180, 3))\n",
        "x = layers.Rescaling(1./255)(inputs)\n",
        "x = layers.Conv2D(filters=32, kernel_size=4, activation=\"sigmoid\")(x)\n",
        "x = layers.MaxPooling2D(pool_size=2)(x)\n",
        "x = layers.Conv2D(filters=32, kernel_size=4, activation=\"sigmoid\")(x)\n",
        "x = layers.MaxPooling2D(pool_size=2)(x)\n",
        "x = layers.Conv2D(filters=32, kernel_size=4, activation=\"sigmoid\")(x)\n",
        "x = layers.MaxPooling2D(pool_size=2)(x)\n",
        "x = layers.Conv2D(filters=32, kernel_size=4, activation=\"sigmoid\")(x)\n",
        "x = layers.MaxPooling2D(pool_size=2)(x)\n",
        "x = layers.Conv2D(filters=32, kernel_size=4, activation=\"sigmoid\")(x)\n",
        "x = layers.Flatten()(x)\n",
        "outputs = layers.Dense(1, activation=\"relu\")(x)\n",
        "model = keras.Model(inputs=inputs, outputs=outputs)"
      ]
    },
    {
      "cell_type": "code",
      "execution_count": 399,
      "metadata": {
        "colab": {
          "base_uri": "https://localhost:8080/"
        },
        "id": "_Is0ASvLEI4h",
        "outputId": "9a8e7605-5f51-4ded-b25d-557a3e7b518c"
      },
      "outputs": [
        {
          "output_type": "stream",
          "name": "stdout",
          "text": [
            "Model: \"model_53\"\n",
            "_________________________________________________________________\n",
            " Layer (type)                Output Shape              Param #   \n",
            "=================================================================\n",
            " input_74 (InputLayer)       [(None, 180, 180, 3)]     0         \n",
            "                                                                 \n",
            " rescaling_26 (Rescaling)    (None, 180, 180, 3)       0         \n",
            "                                                                 \n",
            " conv2d_142 (Conv2D)         (None, 177, 177, 32)      1568      \n",
            "                                                                 \n",
            " max_pooling2d_108 (MaxPooli  (None, 88, 88, 32)       0         \n",
            " ng2D)                                                           \n",
            "                                                                 \n",
            " conv2d_143 (Conv2D)         (None, 85, 85, 32)        16416     \n",
            "                                                                 \n",
            " max_pooling2d_109 (MaxPooli  (None, 42, 42, 32)       0         \n",
            " ng2D)                                                           \n",
            "                                                                 \n",
            " conv2d_144 (Conv2D)         (None, 39, 39, 32)        16416     \n",
            "                                                                 \n",
            " max_pooling2d_110 (MaxPooli  (None, 19, 19, 32)       0         \n",
            " ng2D)                                                           \n",
            "                                                                 \n",
            " conv2d_145 (Conv2D)         (None, 16, 16, 32)        16416     \n",
            "                                                                 \n",
            " max_pooling2d_111 (MaxPooli  (None, 8, 8, 32)         0         \n",
            " ng2D)                                                           \n",
            "                                                                 \n",
            " conv2d_146 (Conv2D)         (None, 5, 5, 32)          16416     \n",
            "                                                                 \n",
            " flatten_53 (Flatten)        (None, 800)               0         \n",
            "                                                                 \n",
            " dense_76 (Dense)            (None, 1)                 801       \n",
            "                                                                 \n",
            "=================================================================\n",
            "Total params: 68,033\n",
            "Trainable params: 68,033\n",
            "Non-trainable params: 0\n",
            "_________________________________________________________________\n"
          ]
        }
      ],
      "source": [
        "model.summary()"
      ]
    },
    {
      "cell_type": "markdown",
      "metadata": {
        "id": "LmLBsZiFEI4h"
      },
      "source": [
        "**Configuring the model for training**"
      ]
    },
    {
      "cell_type": "code",
      "execution_count": 400,
      "metadata": {
        "id": "KxVwOCTBEI4i"
      },
      "outputs": [],
      "source": [
        "model.compile(loss=\"binary_crossentropy\",\n",
        "              optimizer=\"rmsprop\",\n",
        "              metrics=[\"accuracy\"])"
      ]
    },
    {
      "cell_type": "markdown",
      "metadata": {
        "id": "zSMbQetgEI4i"
      },
      "source": [
        "### Data preprocessing"
      ]
    },
    {
      "cell_type": "markdown",
      "metadata": {
        "id": "vQD99lnrEI4i"
      },
      "source": [
        "**Using `image_dataset_from_directory` to read images**"
      ]
    },
    {
      "cell_type": "code",
      "execution_count": 401,
      "metadata": {
        "colab": {
          "base_uri": "https://localhost:8080/"
        },
        "id": "TGDvbQg9EI4i",
        "outputId": "ae742999-c52e-446d-f68a-b23433d10826"
      },
      "outputs": [
        {
          "output_type": "stream",
          "name": "stdout",
          "text": [
            "Found 2000 files belonging to 2 classes.\n",
            "Found 1000 files belonging to 2 classes.\n",
            "Found 2000 files belonging to 2 classes.\n"
          ]
        }
      ],
      "source": [
        "from tensorflow.keras.utils import image_dataset_from_directory\n",
        "\n",
        "train_dataset = image_dataset_from_directory(\n",
        "    new_base_dir / \"train\",\n",
        "    image_size=(180, 180),\n",
        "    batch_size=128)\n",
        "validation_dataset = image_dataset_from_directory(\n",
        "    new_base_dir / \"validation\",\n",
        "    image_size=(180, 180),\n",
        "    batch_size=128)\n",
        "test_dataset = image_dataset_from_directory(\n",
        "    new_base_dir / \"test\",\n",
        "    image_size=(180, 180),\n",
        "    batch_size=128)"
      ]
    },
    {
      "cell_type": "code",
      "execution_count": 402,
      "metadata": {
        "id": "KFalVzGdEI4i"
      },
      "outputs": [],
      "source": [
        "import numpy as np\n",
        "import tensorflow as tf\n",
        "random_numbers = np.random.normal(size=(1000, 16))\n",
        "dataset = tf.data.Dataset.from_tensor_slices(random_numbers)"
      ]
    },
    {
      "cell_type": "code",
      "execution_count": 403,
      "metadata": {
        "colab": {
          "base_uri": "https://localhost:8080/"
        },
        "id": "PM601YIbEI4i",
        "outputId": "90062bba-399d-4420-b7e9-cba0bea65448"
      },
      "outputs": [
        {
          "output_type": "stream",
          "name": "stdout",
          "text": [
            "(16,)\n",
            "(16,)\n",
            "(16,)\n"
          ]
        }
      ],
      "source": [
        "for i, element in enumerate(dataset):\n",
        "    print(element.shape)\n",
        "    if i >= 2:\n",
        "        break"
      ]
    },
    {
      "cell_type": "code",
      "execution_count": 404,
      "metadata": {
        "colab": {
          "base_uri": "https://localhost:8080/"
        },
        "id": "GBUF3PTCEI4j",
        "outputId": "9645c14d-93a4-4696-bf81-f639a6caedf6"
      },
      "outputs": [
        {
          "output_type": "stream",
          "name": "stdout",
          "text": [
            "(16, 16)\n",
            "(16, 16)\n",
            "(16, 16)\n"
          ]
        }
      ],
      "source": [
        "batched_dataset = dataset.batch(16)\n",
        "for i, element in enumerate(batched_dataset):\n",
        "    print(element.shape)\n",
        "    if i >= 2:\n",
        "        break"
      ]
    },
    {
      "cell_type": "code",
      "execution_count": 405,
      "metadata": {
        "colab": {
          "base_uri": "https://localhost:8080/"
        },
        "id": "jRboDJc9EI4j",
        "outputId": "43caff20-9e95-4485-f2b7-d830f6529b29"
      },
      "outputs": [
        {
          "output_type": "stream",
          "name": "stdout",
          "text": [
            "(4, 4)\n",
            "(4, 4)\n",
            "(4, 4)\n"
          ]
        }
      ],
      "source": [
        "reshaped_dataset = dataset.map(lambda x: tf.reshape(x, (4, 4)))\n",
        "for i, element in enumerate(reshaped_dataset):\n",
        "    print(element.shape)\n",
        "    if i >= 2:\n",
        "        break"
      ]
    },
    {
      "cell_type": "markdown",
      "metadata": {
        "id": "dcAHZKzVEI4j"
      },
      "source": [
        "**Displaying the shapes of the data and labels yielded by the `Dataset`**"
      ]
    },
    {
      "cell_type": "code",
      "execution_count": 406,
      "metadata": {
        "colab": {
          "base_uri": "https://localhost:8080/"
        },
        "id": "zetqdIP9EI4j",
        "outputId": "7c4d7107-791a-45e1-997a-5881e02c0f90"
      },
      "outputs": [
        {
          "output_type": "stream",
          "name": "stdout",
          "text": [
            "data batch shape: (128, 180, 180, 3)\n",
            "labels batch shape: (128,)\n"
          ]
        }
      ],
      "source": [
        "for data_batch, labels_batch in train_dataset:\n",
        "    print(\"data batch shape:\", data_batch.shape)\n",
        "    print(\"labels batch shape:\", labels_batch.shape)\n",
        "    break"
      ]
    },
    {
      "cell_type": "markdown",
      "metadata": {
        "id": "e5WMB5zsEI4j"
      },
      "source": [
        "**Fitting the model using a `Dataset`**"
      ]
    },
    {
      "cell_type": "code",
      "execution_count": 414,
      "metadata": {
        "colab": {
          "base_uri": "https://localhost:8080/"
        },
        "id": "TKynUCrxEI4j",
        "outputId": "0955ddb7-79a5-43fd-e6f0-e7ba8f3050d6"
      },
      "outputs": [
        {
          "output_type": "stream",
          "name": "stdout",
          "text": [
            "Epoch 1/100\n",
            "16/16 [==============================] - 1s 73ms/step - loss: 7.6246 - accuracy: 0.5000 - val_loss: 7.6246 - val_accuracy: 0.5000\n",
            "Epoch 2/100\n",
            "16/16 [==============================] - 1s 74ms/step - loss: 7.6246 - accuracy: 0.5000 - val_loss: 7.6246 - val_accuracy: 0.5000\n",
            "Epoch 3/100\n",
            "16/16 [==============================] - 1s 70ms/step - loss: 7.6246 - accuracy: 0.5000 - val_loss: 7.6246 - val_accuracy: 0.5000\n",
            "Epoch 4/100\n",
            "16/16 [==============================] - 1s 71ms/step - loss: 7.6246 - accuracy: 0.5000 - val_loss: 7.6246 - val_accuracy: 0.5000\n",
            "Epoch 5/100\n",
            "16/16 [==============================] - 1s 70ms/step - loss: 7.6246 - accuracy: 0.5000 - val_loss: 7.6246 - val_accuracy: 0.5000\n",
            "Epoch 6/100\n",
            "16/16 [==============================] - 1s 70ms/step - loss: 7.6246 - accuracy: 0.5000 - val_loss: 7.6246 - val_accuracy: 0.5000\n",
            "Epoch 7/100\n",
            "16/16 [==============================] - 1s 70ms/step - loss: 7.6246 - accuracy: 0.5000 - val_loss: 7.6246 - val_accuracy: 0.5000\n",
            "Epoch 8/100\n",
            "16/16 [==============================] - 1s 72ms/step - loss: 7.6246 - accuracy: 0.5000 - val_loss: 7.6246 - val_accuracy: 0.5000\n",
            "Epoch 9/100\n",
            "16/16 [==============================] - 1s 70ms/step - loss: 7.6246 - accuracy: 0.5000 - val_loss: 7.6246 - val_accuracy: 0.5000\n",
            "Epoch 10/100\n",
            "16/16 [==============================] - 1s 72ms/step - loss: 7.6246 - accuracy: 0.5000 - val_loss: 7.6246 - val_accuracy: 0.5000\n",
            "Epoch 11/100\n",
            "16/16 [==============================] - 1s 70ms/step - loss: 7.6246 - accuracy: 0.5000 - val_loss: 7.6246 - val_accuracy: 0.5000\n",
            "Epoch 12/100\n",
            "16/16 [==============================] - 1s 70ms/step - loss: 7.6246 - accuracy: 0.5000 - val_loss: 7.6246 - val_accuracy: 0.5000\n",
            "Epoch 13/100\n",
            "16/16 [==============================] - 1s 71ms/step - loss: 7.6246 - accuracy: 0.5000 - val_loss: 7.6246 - val_accuracy: 0.5000\n",
            "Epoch 14/100\n",
            "16/16 [==============================] - 1s 70ms/step - loss: 7.6246 - accuracy: 0.5000 - val_loss: 7.6246 - val_accuracy: 0.5000\n",
            "Epoch 15/100\n",
            "16/16 [==============================] - 1s 70ms/step - loss: 7.6246 - accuracy: 0.5000 - val_loss: 7.6246 - val_accuracy: 0.5000\n",
            "Epoch 16/100\n",
            "16/16 [==============================] - 1s 68ms/step - loss: 7.6246 - accuracy: 0.5000 - val_loss: 7.6246 - val_accuracy: 0.5000\n",
            "Epoch 17/100\n",
            "16/16 [==============================] - 1s 70ms/step - loss: 7.6246 - accuracy: 0.5000 - val_loss: 7.6246 - val_accuracy: 0.5000\n",
            "Epoch 18/100\n",
            "16/16 [==============================] - 1s 73ms/step - loss: 7.6246 - accuracy: 0.5000 - val_loss: 7.6246 - val_accuracy: 0.5000\n",
            "Epoch 19/100\n",
            "16/16 [==============================] - 1s 70ms/step - loss: 7.6246 - accuracy: 0.5000 - val_loss: 7.6246 - val_accuracy: 0.5000\n",
            "Epoch 20/100\n",
            "16/16 [==============================] - 1s 71ms/step - loss: 7.6246 - accuracy: 0.5000 - val_loss: 7.6246 - val_accuracy: 0.5000\n",
            "Epoch 21/100\n",
            "16/16 [==============================] - 1s 71ms/step - loss: 7.6246 - accuracy: 0.5000 - val_loss: 7.6246 - val_accuracy: 0.5000\n",
            "Epoch 22/100\n",
            "16/16 [==============================] - 1s 71ms/step - loss: 7.6246 - accuracy: 0.5000 - val_loss: 7.6246 - val_accuracy: 0.5000\n",
            "Epoch 23/100\n",
            "16/16 [==============================] - 1s 70ms/step - loss: 7.6246 - accuracy: 0.5000 - val_loss: 7.6246 - val_accuracy: 0.5000\n",
            "Epoch 24/100\n",
            "16/16 [==============================] - 1s 70ms/step - loss: 7.6246 - accuracy: 0.5000 - val_loss: 7.6246 - val_accuracy: 0.5000\n",
            "Epoch 25/100\n",
            "16/16 [==============================] - 1s 70ms/step - loss: 7.6246 - accuracy: 0.5000 - val_loss: 7.6246 - val_accuracy: 0.5000\n",
            "Epoch 26/100\n",
            "16/16 [==============================] - 1s 73ms/step - loss: 7.6246 - accuracy: 0.5000 - val_loss: 7.6246 - val_accuracy: 0.5000\n",
            "Epoch 27/100\n",
            "16/16 [==============================] - 1s 70ms/step - loss: 7.6246 - accuracy: 0.5000 - val_loss: 7.6246 - val_accuracy: 0.5000\n",
            "Epoch 28/100\n",
            "16/16 [==============================] - 1s 71ms/step - loss: 7.6246 - accuracy: 0.5000 - val_loss: 7.6246 - val_accuracy: 0.5000\n",
            "Epoch 29/100\n",
            "16/16 [==============================] - 1s 70ms/step - loss: 7.6246 - accuracy: 0.5000 - val_loss: 7.6246 - val_accuracy: 0.5000\n",
            "Epoch 30/100\n",
            "16/16 [==============================] - 1s 69ms/step - loss: 7.6246 - accuracy: 0.5000 - val_loss: 7.6246 - val_accuracy: 0.5000\n",
            "Epoch 31/100\n",
            "16/16 [==============================] - 1s 71ms/step - loss: 7.6246 - accuracy: 0.5000 - val_loss: 7.6246 - val_accuracy: 0.5000\n",
            "Epoch 32/100\n",
            "16/16 [==============================] - 1s 70ms/step - loss: 7.6246 - accuracy: 0.5000 - val_loss: 7.6246 - val_accuracy: 0.5000\n",
            "Epoch 33/100\n",
            "16/16 [==============================] - 1s 70ms/step - loss: 7.6246 - accuracy: 0.5000 - val_loss: 7.6246 - val_accuracy: 0.5000\n",
            "Epoch 34/100\n",
            "16/16 [==============================] - 1s 71ms/step - loss: 7.6246 - accuracy: 0.5000 - val_loss: 7.6246 - val_accuracy: 0.5000\n",
            "Epoch 35/100\n",
            "16/16 [==============================] - 1s 71ms/step - loss: 7.6246 - accuracy: 0.5000 - val_loss: 7.6246 - val_accuracy: 0.5000\n",
            "Epoch 36/100\n",
            "16/16 [==============================] - 1s 70ms/step - loss: 7.6246 - accuracy: 0.5000 - val_loss: 7.6246 - val_accuracy: 0.5000\n",
            "Epoch 37/100\n",
            "16/16 [==============================] - 1s 70ms/step - loss: 7.6246 - accuracy: 0.5000 - val_loss: 7.6246 - val_accuracy: 0.5000\n",
            "Epoch 38/100\n",
            "16/16 [==============================] - 1s 70ms/step - loss: 7.6246 - accuracy: 0.5000 - val_loss: 7.6246 - val_accuracy: 0.5000\n",
            "Epoch 39/100\n",
            "16/16 [==============================] - 1s 69ms/step - loss: 7.6246 - accuracy: 0.5000 - val_loss: 7.6246 - val_accuracy: 0.5000\n",
            "Epoch 40/100\n",
            "16/16 [==============================] - 1s 70ms/step - loss: 7.6246 - accuracy: 0.5000 - val_loss: 7.6246 - val_accuracy: 0.5000\n",
            "Epoch 41/100\n",
            "16/16 [==============================] - 1s 71ms/step - loss: 7.6246 - accuracy: 0.5000 - val_loss: 7.6246 - val_accuracy: 0.5000\n",
            "Epoch 42/100\n",
            "16/16 [==============================] - 1s 71ms/step - loss: 7.6246 - accuracy: 0.5000 - val_loss: 7.6246 - val_accuracy: 0.5000\n",
            "Epoch 43/100\n",
            "16/16 [==============================] - 1s 70ms/step - loss: 7.6246 - accuracy: 0.5000 - val_loss: 7.6246 - val_accuracy: 0.5000\n",
            "Epoch 44/100\n",
            "16/16 [==============================] - 1s 70ms/step - loss: 7.6246 - accuracy: 0.5000 - val_loss: 7.6246 - val_accuracy: 0.5000\n",
            "Epoch 45/100\n",
            "16/16 [==============================] - 1s 70ms/step - loss: 7.6246 - accuracy: 0.5000 - val_loss: 7.6246 - val_accuracy: 0.5000\n",
            "Epoch 46/100\n",
            "16/16 [==============================] - 1s 71ms/step - loss: 7.6246 - accuracy: 0.5000 - val_loss: 7.6246 - val_accuracy: 0.5000\n",
            "Epoch 47/100\n",
            "16/16 [==============================] - 1s 70ms/step - loss: 7.6246 - accuracy: 0.5000 - val_loss: 7.6246 - val_accuracy: 0.5000\n",
            "Epoch 48/100\n",
            "16/16 [==============================] - 1s 70ms/step - loss: 7.6246 - accuracy: 0.5000 - val_loss: 7.6246 - val_accuracy: 0.5000\n",
            "Epoch 49/100\n",
            "16/16 [==============================] - 1s 71ms/step - loss: 7.6246 - accuracy: 0.5000 - val_loss: 7.6246 - val_accuracy: 0.5000\n",
            "Epoch 50/100\n",
            "16/16 [==============================] - 1s 70ms/step - loss: 7.6246 - accuracy: 0.5000 - val_loss: 7.6246 - val_accuracy: 0.5000\n",
            "Epoch 51/100\n",
            "16/16 [==============================] - 1s 70ms/step - loss: 7.6246 - accuracy: 0.5000 - val_loss: 7.6246 - val_accuracy: 0.5000\n",
            "Epoch 52/100\n",
            "16/16 [==============================] - 1s 70ms/step - loss: 7.6246 - accuracy: 0.5000 - val_loss: 7.6246 - val_accuracy: 0.5000\n",
            "Epoch 53/100\n",
            "16/16 [==============================] - 1s 70ms/step - loss: 7.6246 - accuracy: 0.5000 - val_loss: 7.6246 - val_accuracy: 0.5000\n",
            "Epoch 54/100\n",
            "16/16 [==============================] - 1s 70ms/step - loss: 7.6246 - accuracy: 0.5000 - val_loss: 7.6246 - val_accuracy: 0.5000\n",
            "Epoch 55/100\n",
            "16/16 [==============================] - 1s 70ms/step - loss: 7.6246 - accuracy: 0.5000 - val_loss: 7.6246 - val_accuracy: 0.5000\n",
            "Epoch 56/100\n",
            "16/16 [==============================] - 1s 68ms/step - loss: 7.6246 - accuracy: 0.5000 - val_loss: 7.6246 - val_accuracy: 0.5000\n",
            "Epoch 57/100\n",
            "16/16 [==============================] - 1s 71ms/step - loss: 7.6246 - accuracy: 0.5000 - val_loss: 7.6246 - val_accuracy: 0.5000\n",
            "Epoch 58/100\n",
            "16/16 [==============================] - 1s 71ms/step - loss: 7.6246 - accuracy: 0.5000 - val_loss: 7.6246 - val_accuracy: 0.5000\n",
            "Epoch 59/100\n",
            "16/16 [==============================] - 1s 71ms/step - loss: 7.6246 - accuracy: 0.5000 - val_loss: 7.6246 - val_accuracy: 0.5000\n",
            "Epoch 60/100\n",
            "16/16 [==============================] - 1s 69ms/step - loss: 7.6246 - accuracy: 0.5000 - val_loss: 7.6246 - val_accuracy: 0.5000\n",
            "Epoch 61/100\n",
            "16/16 [==============================] - 1s 71ms/step - loss: 7.6246 - accuracy: 0.5000 - val_loss: 7.6246 - val_accuracy: 0.5000\n",
            "Epoch 62/100\n",
            "16/16 [==============================] - 1s 70ms/step - loss: 7.6246 - accuracy: 0.5000 - val_loss: 7.6246 - val_accuracy: 0.5000\n",
            "Epoch 63/100\n",
            "16/16 [==============================] - 1s 70ms/step - loss: 7.6246 - accuracy: 0.5000 - val_loss: 7.6246 - val_accuracy: 0.5000\n",
            "Epoch 64/100\n",
            "16/16 [==============================] - 1s 68ms/step - loss: 7.6246 - accuracy: 0.5000 - val_loss: 7.6246 - val_accuracy: 0.5000\n",
            "Epoch 65/100\n",
            "16/16 [==============================] - 1s 71ms/step - loss: 7.6246 - accuracy: 0.5000 - val_loss: 7.6246 - val_accuracy: 0.5000\n",
            "Epoch 66/100\n",
            "16/16 [==============================] - 1s 71ms/step - loss: 7.6246 - accuracy: 0.5000 - val_loss: 7.6246 - val_accuracy: 0.5000\n",
            "Epoch 67/100\n",
            "16/16 [==============================] - 1s 71ms/step - loss: 7.6246 - accuracy: 0.5000 - val_loss: 7.6246 - val_accuracy: 0.5000\n",
            "Epoch 68/100\n",
            "16/16 [==============================] - 1s 70ms/step - loss: 7.6246 - accuracy: 0.5000 - val_loss: 7.6246 - val_accuracy: 0.5000\n",
            "Epoch 69/100\n",
            "16/16 [==============================] - 1s 70ms/step - loss: 7.6246 - accuracy: 0.5000 - val_loss: 7.6246 - val_accuracy: 0.5000\n",
            "Epoch 70/100\n",
            "16/16 [==============================] - 1s 70ms/step - loss: 7.6246 - accuracy: 0.5000 - val_loss: 7.6246 - val_accuracy: 0.5000\n",
            "Epoch 71/100\n",
            "16/16 [==============================] - 1s 70ms/step - loss: 7.6246 - accuracy: 0.5000 - val_loss: 7.6246 - val_accuracy: 0.5000\n",
            "Epoch 72/100\n",
            "16/16 [==============================] - 1s 71ms/step - loss: 7.6246 - accuracy: 0.5000 - val_loss: 7.6246 - val_accuracy: 0.5000\n",
            "Epoch 73/100\n",
            "16/16 [==============================] - 1s 72ms/step - loss: 7.6246 - accuracy: 0.5000 - val_loss: 7.6246 - val_accuracy: 0.5000\n",
            "Epoch 74/100\n",
            "16/16 [==============================] - 1s 70ms/step - loss: 7.6246 - accuracy: 0.5000 - val_loss: 7.6246 - val_accuracy: 0.5000\n",
            "Epoch 75/100\n",
            "16/16 [==============================] - 1s 70ms/step - loss: 7.6246 - accuracy: 0.5000 - val_loss: 7.6246 - val_accuracy: 0.5000\n",
            "Epoch 76/100\n",
            "16/16 [==============================] - 1s 71ms/step - loss: 7.6246 - accuracy: 0.5000 - val_loss: 7.6246 - val_accuracy: 0.5000\n",
            "Epoch 77/100\n",
            "16/16 [==============================] - 1s 70ms/step - loss: 7.6246 - accuracy: 0.5000 - val_loss: 7.6246 - val_accuracy: 0.5000\n",
            "Epoch 78/100\n",
            "16/16 [==============================] - 1s 70ms/step - loss: 7.6246 - accuracy: 0.5000 - val_loss: 7.6246 - val_accuracy: 0.5000\n",
            "Epoch 79/100\n",
            "16/16 [==============================] - 1s 70ms/step - loss: 7.6246 - accuracy: 0.5000 - val_loss: 7.6246 - val_accuracy: 0.5000\n",
            "Epoch 80/100\n",
            "16/16 [==============================] - 1s 68ms/step - loss: 7.6246 - accuracy: 0.5000 - val_loss: 7.6246 - val_accuracy: 0.5000\n",
            "Epoch 81/100\n",
            "16/16 [==============================] - 1s 72ms/step - loss: 7.6246 - accuracy: 0.5000 - val_loss: 7.6246 - val_accuracy: 0.5000\n",
            "Epoch 82/100\n",
            "16/16 [==============================] - 1s 71ms/step - loss: 7.6246 - accuracy: 0.5000 - val_loss: 7.6246 - val_accuracy: 0.5000\n",
            "Epoch 83/100\n",
            "16/16 [==============================] - 1s 70ms/step - loss: 7.6246 - accuracy: 0.5000 - val_loss: 7.6246 - val_accuracy: 0.5000\n",
            "Epoch 84/100\n",
            "16/16 [==============================] - 1s 70ms/step - loss: 7.6246 - accuracy: 0.5000 - val_loss: 7.6246 - val_accuracy: 0.5000\n",
            "Epoch 85/100\n",
            "16/16 [==============================] - 1s 70ms/step - loss: 7.6246 - accuracy: 0.5000 - val_loss: 7.6246 - val_accuracy: 0.5000\n",
            "Epoch 86/100\n",
            "16/16 [==============================] - 1s 70ms/step - loss: 7.6246 - accuracy: 0.5000 - val_loss: 7.6246 - val_accuracy: 0.5000\n",
            "Epoch 87/100\n",
            "16/16 [==============================] - 1s 70ms/step - loss: 7.6246 - accuracy: 0.5000 - val_loss: 7.6246 - val_accuracy: 0.5000\n",
            "Epoch 88/100\n",
            "16/16 [==============================] - 1s 71ms/step - loss: 7.6246 - accuracy: 0.5000 - val_loss: 7.6246 - val_accuracy: 0.5000\n",
            "Epoch 89/100\n",
            "16/16 [==============================] - 1s 74ms/step - loss: 7.6246 - accuracy: 0.5000 - val_loss: 7.6246 - val_accuracy: 0.5000\n",
            "Epoch 90/100\n",
            "16/16 [==============================] - 1s 68ms/step - loss: 7.6246 - accuracy: 0.5000 - val_loss: 7.6246 - val_accuracy: 0.5000\n",
            "Epoch 91/100\n",
            "16/16 [==============================] - 1s 70ms/step - loss: 7.6246 - accuracy: 0.5000 - val_loss: 7.6246 - val_accuracy: 0.5000\n",
            "Epoch 92/100\n",
            "16/16 [==============================] - 1s 71ms/step - loss: 7.6246 - accuracy: 0.5000 - val_loss: 7.6246 - val_accuracy: 0.5000\n",
            "Epoch 93/100\n",
            "16/16 [==============================] - 1s 70ms/step - loss: 7.6246 - accuracy: 0.5000 - val_loss: 7.6246 - val_accuracy: 0.5000\n",
            "Epoch 94/100\n",
            "16/16 [==============================] - 1s 70ms/step - loss: 7.6246 - accuracy: 0.5000 - val_loss: 7.6246 - val_accuracy: 0.5000\n",
            "Epoch 95/100\n",
            "16/16 [==============================] - 1s 70ms/step - loss: 7.6246 - accuracy: 0.5000 - val_loss: 7.6246 - val_accuracy: 0.5000\n",
            "Epoch 96/100\n",
            "16/16 [==============================] - 1s 68ms/step - loss: 7.6246 - accuracy: 0.5000 - val_loss: 7.6246 - val_accuracy: 0.5000\n",
            "Epoch 97/100\n",
            "16/16 [==============================] - 1s 71ms/step - loss: 7.6246 - accuracy: 0.5000 - val_loss: 7.6246 - val_accuracy: 0.5000\n",
            "Epoch 98/100\n",
            "16/16 [==============================] - 1s 71ms/step - loss: 7.6246 - accuracy: 0.5000 - val_loss: 7.6246 - val_accuracy: 0.5000\n",
            "Epoch 99/100\n",
            "16/16 [==============================] - 1s 68ms/step - loss: 7.6246 - accuracy: 0.5000 - val_loss: 7.6246 - val_accuracy: 0.5000\n",
            "Epoch 100/100\n",
            "16/16 [==============================] - 1s 70ms/step - loss: 7.6246 - accuracy: 0.5000 - val_loss: 7.6246 - val_accuracy: 0.5000\n"
          ]
        }
      ],
      "source": [
        "callbacks = [\n",
        "    keras.callbacks.ModelCheckpoint(\n",
        "        filepath=\"convnet_from_scratch.keras\",\n",
        "        save_best_only=True,\n",
        "        monitor=\"val_loss\")\n",
        "]\n",
        "history = model.fit(\n",
        "    train_dataset,\n",
        "    epochs=100,\n",
        "    validation_data=validation_dataset,\n",
        "    callbacks=callbacks)"
      ]
    },
    {
      "cell_type": "markdown",
      "metadata": {
        "id": "s41FFIxMEI4j"
      },
      "source": [
        "**Displaying curves of loss and accuracy during training**"
      ]
    },
    {
      "cell_type": "code",
      "execution_count": 415,
      "metadata": {
        "colab": {
          "base_uri": "https://localhost:8080/",
          "height": 545
        },
        "id": "ZES_aykmEI4j",
        "outputId": "0b9c49fd-852a-4d8f-cf8c-6efb0591d1d6"
      },
      "outputs": [
        {
          "output_type": "display_data",
          "data": {
            "text/plain": [
              "<Figure size 432x288 with 1 Axes>"
            ],
            "image/png": "[encoded data removed]"
          },
          "metadata": {
            "needs_background": "light"
          }
        },
        {
          "output_type": "display_data",
          "data": {
            "text/plain": [
              "<Figure size 432x288 with 1 Axes>"
            ],
            "image/png": "[encoded data removed]"
          },
          "metadata": {
            "needs_background": "light"
          }
        }
      ],
      "source": [
        "import matplotlib.pyplot as plt\n",
        "accuracy = history.history[\"accuracy\"]\n",
        "val_accuracy = history.history[\"val_accuracy\"]\n",
        "loss = history.history[\"loss\"]\n",
        "val_loss = history.history[\"val_loss\"]\n",
        "epochs = range(1, len(accuracy) + 1)\n",
        "plt.plot(epochs, accuracy, \"bo\", label=\"Training accuracy\")\n",
        "plt.plot(epochs, val_accuracy, \"b\", label=\"Validation accuracy\")\n",
        "plt.title(\"Training and validation accuracy\")\n",
        "plt.legend()\n",
        "plt.figure()\n",
        "plt.plot(epochs, loss, \"bo\", label=\"Training loss\")\n",
        "plt.plot(epochs, val_loss, \"b\", label=\"Validation loss\")\n",
        "plt.title(\"Training and validation loss\")\n",
        "plt.legend()\n",
        "plt.show()"
      ]
    },
    {
      "cell_type": "markdown",
      "metadata": {
        "id": "AhXi919aEI4j"
      },
      "source": [
        "**Evaluating the model on the test set**"
      ]
    },
    {
      "cell_type": "code",
      "execution_count": 416,
      "metadata": {
        "colab": {
          "base_uri": "https://localhost:8080/"
        },
        "id": "eyJJlI_fEI4k",
        "outputId": "19498151-fda1-4add-de9d-486a049ac4df"
      },
      "outputs": [
        {
          "output_type": "stream",
          "name": "stdout",
          "text": [
            "16/16 [==============================] - 1s 33ms/step - loss: 7.6246 - accuracy: 0.5000\n",
            "Test accuracy: 0.500\n"
          ]
        }
      ],
      "source": [
        "test_model = keras.models.load_model(\"convnet_from_scratch.keras\")\n",
        "test_loss, test_acc = test_model.evaluate(test_dataset)\n",
        "print(f\"Test accuracy: {test_acc:.3f}\")"
      ]
    },
    {
      "cell_type": "markdown",
      "metadata": {
        "id": "KyLD2xQUEI4k"
      },
      "source": [
        "### Using data augmentation"
      ]
    },
    {
      "cell_type": "markdown",
      "metadata": {
        "id": "tt7LvopJEI4k"
      },
      "source": [
        "**Define a data augmentation stage to add to an image model**"
      ]
    },
    {
      "cell_type": "code",
      "execution_count": 417,
      "metadata": {
        "id": "bMEXEsoaEI4k"
      },
      "outputs": [],
      "source": [
        "data_augmentation = keras.Sequential(\n",
        "    [\n",
        "        layers.RandomFlip(\"horizontal\"),\n",
        "        layers.RandomRotation(0.1),\n",
        "        layers.RandomZoom(0.2),\n",
        "    ]\n",
        ")"
      ]
    },
    {
      "cell_type": "markdown",
      "metadata": {
        "id": "sFa55enNEI4k"
      },
      "source": [
        "**Displaying some randomly augmented training images**"
      ]
    },
    {
      "cell_type": "code",
      "execution_count": 418,
      "metadata": {
        "colab": {
          "base_uri": "https://localhost:8080/",
          "height": 575
        },
        "id": "RYbmZA-VEI4k",
        "outputId": "2976d8ce-15a6-4a6e-f9e4-e904fb1e3406"
      },
      "outputs": [
        {
          "output_type": "display_data",
          "data": {
            "text/plain": [
              "<Figure size 720x720 with 9 Axes>"
            ],
            "image/png": "[encoded data removed]"
          },
          "metadata": {
            "needs_background": "light"
          }
        }
      ],
      "source": [
        "plt.figure(figsize=(10, 10))\n",
        "for images, _ in train_dataset.take(1):\n",
        "    for i in range(9):\n",
        "        augmented_images = data_augmentation(images)\n",
        "        ax = plt.subplot(3, 3, i + 1)\n",
        "        plt.imshow(augmented_images[0].numpy().astype(\"uint8\"))\n",
        "        plt.axis(\"off\")"
      ]
    },
    {
      "cell_type": "markdown",
      "metadata": {
        "id": "8PfSOWybEI4k"
      },
      "source": [
        "**Defining a new convnet that includes image augmentation and dropout**"
      ]
    },
    {
      "cell_type": "code",
      "execution_count": 419,
      "metadata": {
        "id": "Du5HTObyEI4k"
      },
      "outputs": [],
      "source": [
        "inputs = keras.Input(shape=(180, 180, 3))\n",
        "x = data_augmentation(inputs)\n",
        "x = layers.Rescaling(1./255)(x)\n",
        "x = layers.Conv2D(filters=64, kernel_size=3, activation=\"relu\")(x)\n",
        "x = layers.MaxPooling2D(pool_size=2)(x)\n",
        "x = layers.Conv2D(filters=64, kernel_size=3, activation=\"relu\")(x)\n",
        "x = layers.MaxPooling2D(pool_size=2)(x)\n",
        "x = layers.Conv2D(filters=256, kernel_size=3, activation=\"relu\")(x)\n",
        "x = layers.MaxPooling2D(pool_size=2)(x)\n",
        "x = layers.Conv2D(filters=512, kernel_size=3, activation=\"relu\")(x)\n",
        "x = layers.MaxPooling2D(pool_size=2)(x)\n",
        "x = layers.Conv2D(filters=512, kernel_size=3, activation=\"relu\")(x)\n",
        "x = layers.Flatten()(x)\n",
        "x = layers.Dropout(0.5)(x)\n",
        "outputs = layers.Dense(1, activation=\"sigmoid\")(x)\n",
        "model = keras.Model(inputs=inputs, outputs=outputs)\n",
        "\n",
        "model.compile(loss=\"binary_crossentropy\",\n",
        "              optimizer=\"rmsprop\",\n",
        "              metrics=[\"accuracy\"])"
      ]
    },
    {
      "cell_type": "markdown",
      "metadata": {
        "id": "ZeiOFgtVEI4k"
      },
      "source": [
        "**Training the regularized convnet**"
      ]
    },
    {
      "cell_type": "code",
      "execution_count": 421,
      "metadata": {
        "colab": {
          "base_uri": "https://localhost:8080/"
        },
        "id": "90A_cvZiEI4l",
        "outputId": "8d8f60b0-84c9-4469-a696-0567c4340971"
      },
      "outputs": [
        {
          "output_type": "stream",
          "name": "stdout",
          "text": [
            "Epoch 1/100\n",
            "16/16 [==============================] - 3s 143ms/step - loss: 0.5438 - accuracy: 0.7225 - val_loss: 0.5513 - val_accuracy: 0.7160\n",
            "Epoch 2/100\n",
            "16/16 [==============================] - 2s 138ms/step - loss: 0.5382 - accuracy: 0.7320 - val_loss: 0.6069 - val_accuracy: 0.6790\n",
            "Epoch 3/100\n",
            "16/16 [==============================] - 2s 139ms/step - loss: 0.6321 - accuracy: 0.7005 - val_loss: 0.5599 - val_accuracy: 0.7140\n",
            "Epoch 4/100\n",
            "16/16 [==============================] - 2s 137ms/step - loss: 0.5561 - accuracy: 0.7255 - val_loss: 0.5849 - val_accuracy: 0.7080\n",
            "Epoch 5/100\n",
            "16/16 [==============================] - 2s 138ms/step - loss: 0.5298 - accuracy: 0.7335 - val_loss: 0.5610 - val_accuracy: 0.7560\n",
            "Epoch 6/100\n",
            "16/16 [==============================] - 3s 141ms/step - loss: 0.5338 - accuracy: 0.7270 - val_loss: 0.5091 - val_accuracy: 0.7450\n",
            "Epoch 7/100\n",
            "16/16 [==============================] - 2s 137ms/step - loss: 0.4929 - accuracy: 0.7525 - val_loss: 0.8846 - val_accuracy: 0.5700\n",
            "Epoch 8/100\n",
            "16/16 [==============================] - 2s 138ms/step - loss: 0.5130 - accuracy: 0.7515 - val_loss: 0.5369 - val_accuracy: 0.7360\n",
            "Epoch 9/100\n",
            "16/16 [==============================] - 3s 142ms/step - loss: 0.5060 - accuracy: 0.7565 - val_loss: 0.4877 - val_accuracy: 0.7720\n",
            "Epoch 10/100\n",
            "16/16 [==============================] - 2s 137ms/step - loss: 0.5453 - accuracy: 0.7620 - val_loss: 0.5410 - val_accuracy: 0.7290\n",
            "Epoch 11/100\n",
            "16/16 [==============================] - 3s 142ms/step - loss: 0.4596 - accuracy: 0.7835 - val_loss: 0.4866 - val_accuracy: 0.7680\n",
            "Epoch 12/100\n",
            "16/16 [==============================] - 3s 142ms/step - loss: 0.4711 - accuracy: 0.7790 - val_loss: 0.4664 - val_accuracy: 0.7960\n",
            "Epoch 13/100\n",
            "16/16 [==============================] - 2s 136ms/step - loss: 0.4450 - accuracy: 0.7885 - val_loss: 0.6491 - val_accuracy: 0.6700\n",
            "Epoch 14/100\n",
            "16/16 [==============================] - 2s 133ms/step - loss: 0.4546 - accuracy: 0.7860 - val_loss: 0.4996 - val_accuracy: 0.7520\n",
            "Epoch 15/100\n",
            "16/16 [==============================] - 2s 135ms/step - loss: 0.4514 - accuracy: 0.7940 - val_loss: 0.5111 - val_accuracy: 0.7690\n",
            "Epoch 16/100\n",
            "16/16 [==============================] - 3s 141ms/step - loss: 0.4416 - accuracy: 0.7970 - val_loss: 0.4606 - val_accuracy: 0.7950\n",
            "Epoch 17/100\n",
            "16/16 [==============================] - 2s 134ms/step - loss: 0.4293 - accuracy: 0.8050 - val_loss: 0.4797 - val_accuracy: 0.7680\n",
            "Epoch 18/100\n",
            "16/16 [==============================] - 3s 143ms/step - loss: 0.4453 - accuracy: 0.8045 - val_loss: 0.4565 - val_accuracy: 0.8000\n",
            "Epoch 19/100\n",
            "16/16 [==============================] - 2s 135ms/step - loss: 0.5617 - accuracy: 0.7760 - val_loss: 0.5955 - val_accuracy: 0.6900\n",
            "Epoch 20/100\n",
            "16/16 [==============================] - 2s 135ms/step - loss: 0.4361 - accuracy: 0.7845 - val_loss: 0.5635 - val_accuracy: 0.7520\n",
            "Epoch 21/100\n",
            "16/16 [==============================] - 2s 136ms/step - loss: 0.3865 - accuracy: 0.8250 - val_loss: 0.6164 - val_accuracy: 0.7020\n",
            "Epoch 22/100\n",
            "16/16 [==============================] - 2s 136ms/step - loss: 0.4278 - accuracy: 0.8010 - val_loss: 0.5427 - val_accuracy: 0.7310\n",
            "Epoch 23/100\n",
            "16/16 [==============================] - 2s 133ms/step - loss: 0.4350 - accuracy: 0.8100 - val_loss: 0.4618 - val_accuracy: 0.7890\n",
            "Epoch 24/100\n",
            "16/16 [==============================] - 3s 141ms/step - loss: 0.3723 - accuracy: 0.8360 - val_loss: 0.4223 - val_accuracy: 0.8160\n",
            "Epoch 25/100\n",
            "16/16 [==============================] - 2s 133ms/step - loss: 0.4301 - accuracy: 0.7970 - val_loss: 0.4939 - val_accuracy: 0.7820\n",
            "Epoch 26/100\n",
            "16/16 [==============================] - 2s 136ms/step - loss: 0.3801 - accuracy: 0.8235 - val_loss: 0.4664 - val_accuracy: 0.8080\n",
            "Epoch 27/100\n",
            "16/16 [==============================] - 2s 135ms/step - loss: 0.4047 - accuracy: 0.8170 - val_loss: 0.5270 - val_accuracy: 0.7600\n",
            "Epoch 28/100\n",
            "16/16 [==============================] - 2s 135ms/step - loss: 0.3550 - accuracy: 0.8425 - val_loss: 0.4443 - val_accuracy: 0.7900\n",
            "Epoch 29/100\n",
            "16/16 [==============================] - 2s 135ms/step - loss: 0.3781 - accuracy: 0.8290 - val_loss: 0.4329 - val_accuracy: 0.8130\n",
            "Epoch 30/100\n",
            "16/16 [==============================] - 2s 137ms/step - loss: 0.3472 - accuracy: 0.8455 - val_loss: 0.6047 - val_accuracy: 0.7350\n",
            "Epoch 31/100\n",
            "16/16 [==============================] - 2s 136ms/step - loss: 0.3840 - accuracy: 0.8240 - val_loss: 0.6049 - val_accuracy: 0.7610\n",
            "Epoch 32/100\n",
            "16/16 [==============================] - 2s 137ms/step - loss: 0.3410 - accuracy: 0.8480 - val_loss: 0.4319 - val_accuracy: 0.8100\n",
            "Epoch 33/100\n",
            "16/16 [==============================] - 2s 136ms/step - loss: 0.3487 - accuracy: 0.8550 - val_loss: 0.5794 - val_accuracy: 0.7790\n",
            "Epoch 34/100\n",
            "16/16 [==============================] - 2s 134ms/step - loss: 0.3245 - accuracy: 0.8600 - val_loss: 0.4726 - val_accuracy: 0.8170\n",
            "Epoch 35/100\n",
            "16/16 [==============================] - 2s 137ms/step - loss: 0.3232 - accuracy: 0.8640 - val_loss: 0.4876 - val_accuracy: 0.7890\n",
            "Epoch 36/100\n",
            "16/16 [==============================] - 2s 134ms/step - loss: 0.3338 - accuracy: 0.8555 - val_loss: 0.4320 - val_accuracy: 0.8250\n",
            "Epoch 37/100\n",
            "16/16 [==============================] - 2s 135ms/step - loss: 0.2950 - accuracy: 0.8745 - val_loss: 0.5396 - val_accuracy: 0.8220\n",
            "Epoch 38/100\n",
            "16/16 [==============================] - 2s 135ms/step - loss: 0.3005 - accuracy: 0.8705 - val_loss: 0.9554 - val_accuracy: 0.7380\n",
            "Epoch 39/100\n",
            "16/16 [==============================] - 2s 136ms/step - loss: 0.3462 - accuracy: 0.8550 - val_loss: 0.4915 - val_accuracy: 0.7950\n",
            "Epoch 40/100\n",
            "16/16 [==============================] - 2s 136ms/step - loss: 0.2897 - accuracy: 0.8730 - val_loss: 0.4674 - val_accuracy: 0.8040\n",
            "Epoch 41/100\n",
            "16/16 [==============================] - 2s 135ms/step - loss: 0.2491 - accuracy: 0.8940 - val_loss: 0.5482 - val_accuracy: 0.7940\n",
            "Epoch 42/100\n",
            "16/16 [==============================] - 2s 137ms/step - loss: 0.3489 - accuracy: 0.8450 - val_loss: 0.4386 - val_accuracy: 0.8140\n",
            "Epoch 43/100\n",
            "16/16 [==============================] - 2s 136ms/step - loss: 0.2680 - accuracy: 0.8920 - val_loss: 0.5672 - val_accuracy: 0.7870\n",
            "Epoch 44/100\n",
            "16/16 [==============================] - 2s 138ms/step - loss: 0.2579 - accuracy: 0.8915 - val_loss: 0.4855 - val_accuracy: 0.8040\n",
            "Epoch 45/100\n",
            "16/16 [==============================] - 2s 137ms/step - loss: 0.2757 - accuracy: 0.8760 - val_loss: 0.6052 - val_accuracy: 0.8080\n",
            "Epoch 46/100\n",
            "16/16 [==============================] - 2s 135ms/step - loss: 0.2717 - accuracy: 0.8825 - val_loss: 0.5293 - val_accuracy: 0.7790\n",
            "Epoch 47/100\n",
            "16/16 [==============================] - 2s 136ms/step - loss: 0.2725 - accuracy: 0.8795 - val_loss: 0.4968 - val_accuracy: 0.8170\n",
            "Epoch 48/100\n",
            "16/16 [==============================] - 2s 137ms/step - loss: 0.2479 - accuracy: 0.9015 - val_loss: 0.4553 - val_accuracy: 0.8220\n",
            "Epoch 49/100\n",
            "16/16 [==============================] - 2s 133ms/step - loss: 0.2926 - accuracy: 0.8865 - val_loss: 0.5583 - val_accuracy: 0.8070\n",
            "Epoch 50/100\n",
            "16/16 [==============================] - 2s 136ms/step - loss: 0.2598 - accuracy: 0.8930 - val_loss: 0.4925 - val_accuracy: 0.8310\n",
            "Epoch 51/100\n",
            "16/16 [==============================] - 2s 136ms/step - loss: 0.2384 - accuracy: 0.9050 - val_loss: 0.5681 - val_accuracy: 0.8110\n",
            "Epoch 52/100\n",
            "16/16 [==============================] - 2s 137ms/step - loss: 0.2356 - accuracy: 0.9005 - val_loss: 0.4986 - val_accuracy: 0.8120\n",
            "Epoch 53/100\n",
            "16/16 [==============================] - 2s 137ms/step - loss: 0.2174 - accuracy: 0.9130 - val_loss: 0.4455 - val_accuracy: 0.8390\n",
            "Epoch 54/100\n",
            "16/16 [==============================] - 2s 136ms/step - loss: 0.2327 - accuracy: 0.9010 - val_loss: 0.6015 - val_accuracy: 0.8210\n",
            "Epoch 55/100\n",
            "16/16 [==============================] - 2s 136ms/step - loss: 0.2352 - accuracy: 0.9060 - val_loss: 0.8408 - val_accuracy: 0.7810\n",
            "Epoch 56/100\n",
            "16/16 [==============================] - 2s 135ms/step - loss: 0.2139 - accuracy: 0.9110 - val_loss: 0.5722 - val_accuracy: 0.8180\n",
            "Epoch 57/100\n",
            "16/16 [==============================] - 2s 135ms/step - loss: 0.2266 - accuracy: 0.9030 - val_loss: 0.5901 - val_accuracy: 0.7910\n",
            "Epoch 58/100\n",
            "16/16 [==============================] - 2s 137ms/step - loss: 0.1935 - accuracy: 0.9200 - val_loss: 0.5904 - val_accuracy: 0.7980\n",
            "Epoch 59/100\n",
            "16/16 [==============================] - 2s 135ms/step - loss: 0.1909 - accuracy: 0.9205 - val_loss: 0.6059 - val_accuracy: 0.8240\n",
            "Epoch 60/100\n",
            "16/16 [==============================] - 2s 136ms/step - loss: 0.2009 - accuracy: 0.9215 - val_loss: 0.6355 - val_accuracy: 0.7940\n",
            "Epoch 61/100\n",
            "16/16 [==============================] - 2s 135ms/step - loss: 0.1824 - accuracy: 0.9295 - val_loss: 0.5113 - val_accuracy: 0.8260\n",
            "Epoch 62/100\n",
            "16/16 [==============================] - 2s 138ms/step - loss: 0.1828 - accuracy: 0.9220 - val_loss: 0.8172 - val_accuracy: 0.8240\n",
            "Epoch 63/100\n",
            "16/16 [==============================] - 2s 135ms/step - loss: 0.1929 - accuracy: 0.9280 - val_loss: 0.5411 - val_accuracy: 0.8120\n",
            "Epoch 64/100\n",
            "16/16 [==============================] - 2s 134ms/step - loss: 0.1824 - accuracy: 0.9265 - val_loss: 0.6306 - val_accuracy: 0.8110\n",
            "Epoch 65/100\n",
            "16/16 [==============================] - 2s 134ms/step - loss: 0.1720 - accuracy: 0.9305 - val_loss: 0.5030 - val_accuracy: 0.8390\n",
            "Epoch 66/100\n",
            "16/16 [==============================] - 2s 136ms/step - loss: 0.2212 - accuracy: 0.9140 - val_loss: 0.5551 - val_accuracy: 0.8260\n",
            "Epoch 67/100\n",
            "16/16 [==============================] - 2s 138ms/step - loss: 0.2042 - accuracy: 0.9270 - val_loss: 0.6478 - val_accuracy: 0.8120\n",
            "Epoch 68/100\n",
            "16/16 [==============================] - 2s 135ms/step - loss: 0.1571 - accuracy: 0.9350 - val_loss: 0.5584 - val_accuracy: 0.8300\n",
            "Epoch 69/100\n",
            "16/16 [==============================] - 2s 136ms/step - loss: 0.2028 - accuracy: 0.9190 - val_loss: 0.5982 - val_accuracy: 0.8090\n",
            "Epoch 70/100\n",
            "16/16 [==============================] - 2s 136ms/step - loss: 0.1428 - accuracy: 0.9415 - val_loss: 0.5015 - val_accuracy: 0.8280\n",
            "Epoch 71/100\n",
            "16/16 [==============================] - 2s 137ms/step - loss: 0.1644 - accuracy: 0.9380 - val_loss: 0.6840 - val_accuracy: 0.7750\n",
            "Epoch 72/100\n",
            "16/16 [==============================] - 2s 133ms/step - loss: 0.1481 - accuracy: 0.9425 - val_loss: 0.6509 - val_accuracy: 0.8010\n",
            "Epoch 73/100\n",
            "16/16 [==============================] - 2s 135ms/step - loss: 0.1165 - accuracy: 0.9595 - val_loss: 0.6529 - val_accuracy: 0.8300\n",
            "Epoch 74/100\n",
            "16/16 [==============================] - 2s 135ms/step - loss: 0.2282 - accuracy: 0.9195 - val_loss: 0.5268 - val_accuracy: 0.8470\n",
            "Epoch 75/100\n",
            "16/16 [==============================] - 2s 136ms/step - loss: 0.1318 - accuracy: 0.9540 - val_loss: 1.0081 - val_accuracy: 0.8130\n",
            "Epoch 76/100\n",
            "16/16 [==============================] - 2s 135ms/step - loss: 0.1873 - accuracy: 0.9285 - val_loss: 0.6028 - val_accuracy: 0.8300\n",
            "Epoch 77/100\n",
            "16/16 [==============================] - 2s 133ms/step - loss: 0.1037 - accuracy: 0.9610 - val_loss: 0.6493 - val_accuracy: 0.8110\n",
            "Epoch 78/100\n",
            "16/16 [==============================] - 2s 136ms/step - loss: 0.1810 - accuracy: 0.9335 - val_loss: 0.6855 - val_accuracy: 0.8200\n",
            "Epoch 79/100\n",
            "16/16 [==============================] - 2s 135ms/step - loss: 0.1496 - accuracy: 0.9450 - val_loss: 0.5214 - val_accuracy: 0.8490\n",
            "Epoch 80/100\n",
            "16/16 [==============================] - 2s 137ms/step - loss: 0.1223 - accuracy: 0.9515 - val_loss: 0.5413 - val_accuracy: 0.8380\n",
            "Epoch 81/100\n",
            "16/16 [==============================] - 2s 136ms/step - loss: 0.1147 - accuracy: 0.9615 - val_loss: 0.5799 - val_accuracy: 0.8380\n",
            "Epoch 82/100\n",
            "16/16 [==============================] - 2s 134ms/step - loss: 0.1628 - accuracy: 0.9370 - val_loss: 0.4854 - val_accuracy: 0.8480\n",
            "Epoch 83/100\n",
            "16/16 [==============================] - 2s 136ms/step - loss: 0.0940 - accuracy: 0.9615 - val_loss: 0.6090 - val_accuracy: 0.8380\n",
            "Epoch 84/100\n",
            "16/16 [==============================] - 2s 136ms/step - loss: 0.1591 - accuracy: 0.9380 - val_loss: 0.5993 - val_accuracy: 0.8390\n",
            "Epoch 85/100\n",
            "16/16 [==============================] - 2s 138ms/step - loss: 0.1378 - accuracy: 0.9500 - val_loss: 0.6914 - val_accuracy: 0.7900\n",
            "Epoch 86/100\n",
            "16/16 [==============================] - 2s 138ms/step - loss: 0.0953 - accuracy: 0.9650 - val_loss: 0.6131 - val_accuracy: 0.8170\n",
            "Epoch 87/100\n",
            "16/16 [==============================] - 2s 137ms/step - loss: 0.1142 - accuracy: 0.9530 - val_loss: 0.7836 - val_accuracy: 0.8270\n",
            "Epoch 88/100\n",
            "16/16 [==============================] - 2s 135ms/step - loss: 0.1166 - accuracy: 0.9580 - val_loss: 0.6985 - val_accuracy: 0.8220\n",
            "Epoch 89/100\n",
            "16/16 [==============================] - 2s 137ms/step - loss: 0.1293 - accuracy: 0.9485 - val_loss: 0.7420 - val_accuracy: 0.8140\n",
            "Epoch 90/100\n",
            "16/16 [==============================] - 2s 136ms/step - loss: 0.1300 - accuracy: 0.9465 - val_loss: 0.6618 - val_accuracy: 0.8260\n",
            "Epoch 91/100\n",
            "16/16 [==============================] - 2s 136ms/step - loss: 0.1081 - accuracy: 0.9580 - val_loss: 0.8519 - val_accuracy: 0.7800\n",
            "Epoch 92/100\n",
            "16/16 [==============================] - 2s 135ms/step - loss: 0.1122 - accuracy: 0.9560 - val_loss: 0.6324 - val_accuracy: 0.8290\n",
            "Epoch 93/100\n",
            "16/16 [==============================] - 2s 137ms/step - loss: 0.1206 - accuracy: 0.9520 - val_loss: 0.7215 - val_accuracy: 0.8090\n",
            "Epoch 94/100\n",
            "16/16 [==============================] - 3s 149ms/step - loss: 0.1057 - accuracy: 0.9655 - val_loss: 0.7170 - val_accuracy: 0.8180\n",
            "Epoch 95/100\n",
            "16/16 [==============================] - 2s 136ms/step - loss: 0.1314 - accuracy: 0.9475 - val_loss: 0.6173 - val_accuracy: 0.8460\n",
            "Epoch 96/100\n",
            "16/16 [==============================] - 2s 135ms/step - loss: 0.0862 - accuracy: 0.9650 - val_loss: 0.9361 - val_accuracy: 0.8160\n",
            "Epoch 97/100\n",
            "16/16 [==============================] - 2s 135ms/step - loss: 0.1195 - accuracy: 0.9530 - val_loss: 0.7537 - val_accuracy: 0.8340\n",
            "Epoch 98/100\n",
            "16/16 [==============================] - 2s 135ms/step - loss: 0.1545 - accuracy: 0.9420 - val_loss: 0.6701 - val_accuracy: 0.8370\n",
            "Epoch 99/100\n",
            "16/16 [==============================] - 2s 137ms/step - loss: 0.0865 - accuracy: 0.9665 - val_loss: 0.8913 - val_accuracy: 0.8090\n",
            "Epoch 100/100\n",
            "16/16 [==============================] - 2s 134ms/step - loss: 0.1233 - accuracy: 0.9510 - val_loss: 0.7445 - val_accuracy: 0.8280\n"
          ]
        }
      ],
      "source": [
        "callbacks = [\n",
        "    keras.callbacks.ModelCheckpoint(\n",
        "        filepath=\"convnet_from_scratch_with_augmentation.keras\",\n",
        "        save_best_only=True,\n",
        "        monitor=\"val_loss\")\n",
        "]\n",
        "history = model.fit(\n",
        "    train_dataset,\n",
        "    epochs=100,\n",
        "    validation_data=validation_dataset,\n",
        "    callbacks=callbacks)"
      ]
    },
    {
      "cell_type": "markdown",
      "metadata": {
        "id": "vhFMmsqpEI4l"
      },
      "source": [
        "**Evaluating the model on the test set**"
      ]
    },
    {
      "cell_type": "code",
      "execution_count": 422,
      "metadata": {
        "colab": {
          "base_uri": "https://localhost:8080/"
        },
        "id": "lHr3rssZEI4l",
        "outputId": "2ceb41d1-19c8-4ac2-9147-b87a7a63ff31"
      },
      "outputs": [
        {
          "output_type": "stream",
          "name": "stdout",
          "text": [
            "16/16 [==============================] - 1s 37ms/step - loss: 0.4753 - accuracy: 0.7970\n",
            "Test accuracy: 0.797\n"
          ]
        }
      ],
      "source": [
        "test_model = keras.models.load_model(\n",
        "    \"convnet_from_scratch_with_augmentation.keras\")\n",
        "test_loss, test_acc = test_model.evaluate(test_dataset)\n",
        "print(f\"Test accuracy: {test_acc:.3f}\")"
      ]
    },
    {
      "cell_type": "markdown",
      "metadata": {
        "id": "O477yb73EI4l"
      },
      "source": [
        "## Leveraging a pretrained model"
      ]
    },
    {
      "cell_type": "markdown",
      "metadata": {
        "id": "wYEw7o4WEI4l"
      },
      "source": [
        "### Feature extraction with a pretrained model"
      ]
    },
    {
      "cell_type": "markdown",
      "metadata": {
        "id": "_OOipWR5EI4l"
      },
      "source": [
        "**Instantiating the VGG16 convolutional base**"
      ]
    },
    {
      "cell_type": "code",
      "execution_count": 423,
      "metadata": {
        "id": "vNZuLahgEI4l"
      },
      "outputs": [],
      "source": [
        "conv_base = keras.applications.vgg16.VGG16(\n",
        "    weights=\"imagenet\",\n",
        "    include_top=False,\n",
        "    input_shape=(180, 180, 3))"
      ]
    },
    {
      "cell_type": "code",
      "execution_count": 424,
      "metadata": {
        "colab": {
          "base_uri": "https://localhost:8080/"
        },
        "id": "yeyjgXLoEI4l",
        "outputId": "388fbc2e-aff9-43d1-8eee-ddf2e5e57c19"
      },
      "outputs": [
        {
          "output_type": "stream",
          "name": "stdout",
          "text": [
            "Model: \"vgg16\"\n",
            "_________________________________________________________________\n",
            " Layer (type)                Output Shape              Param #   \n",
            "=================================================================\n",
            " input_76 (InputLayer)       [(None, 180, 180, 3)]     0         \n",
            "                                                                 \n",
            " block1_conv1 (Conv2D)       (None, 180, 180, 64)      1792      \n",
            "                                                                 \n",
            " block1_conv2 (Conv2D)       (None, 180, 180, 64)      36928     \n",
            "                                                                 \n",
            " block1_pool (MaxPooling2D)  (None, 90, 90, 64)        0         \n",
            "                                                                 \n",
            " block2_conv1 (Conv2D)       (None, 90, 90, 128)       73856     \n",
            "                                                                 \n",
            " block2_conv2 (Conv2D)       (None, 90, 90, 128)       147584    \n",
            "                                                                 \n",
            " block2_pool (MaxPooling2D)  (None, 45, 45, 128)       0         \n",
            "                                                                 \n",
            " block3_conv1 (Conv2D)       (None, 45, 45, 256)       295168    \n",
            "                                                                 \n",
            " block3_conv2 (Conv2D)       (None, 45, 45, 256)       590080    \n",
            "                                                                 \n",
            " block3_conv3 (Conv2D)       (None, 45, 45, 256)       590080    \n",
            "                                                                 \n",
            " block3_pool (MaxPooling2D)  (None, 22, 22, 256)       0         \n",
            "                                                                 \n",
            " block4_conv1 (Conv2D)       (None, 22, 22, 512)       1180160   \n",
            "                                                                 \n",
            " block4_conv2 (Conv2D)       (None, 22, 22, 512)       2359808   \n",
            "                                                                 \n",
            " block4_conv3 (Conv2D)       (None, 22, 22, 512)       2359808   \n",
            "                                                                 \n",
            " block4_pool (MaxPooling2D)  (None, 11, 11, 512)       0         \n",
            "                                                                 \n",
            " block5_conv1 (Conv2D)       (None, 11, 11, 512)       2359808   \n",
            "                                                                 \n",
            " block5_conv2 (Conv2D)       (None, 11, 11, 512)       2359808   \n",
            "                                                                 \n",
            " block5_conv3 (Conv2D)       (None, 11, 11, 512)       2359808   \n",
            "                                                                 \n",
            " block5_pool (MaxPooling2D)  (None, 5, 5, 512)         0         \n",
            "                                                                 \n",
            "=================================================================\n",
            "Total params: 14,714,688\n",
            "Trainable params: 14,714,688\n",
            "Non-trainable params: 0\n",
            "_________________________________________________________________\n"
          ]
        }
      ],
      "source": [
        "conv_base.summary()"
      ]
    },
    {
      "cell_type": "markdown",
      "metadata": {
        "id": "TV_PFY3_EI4l"
      },
      "source": [
        "#### Fast feature extraction without data augmentation"
      ]
    },
    {
      "cell_type": "markdown",
      "metadata": {
        "id": "A7TcUiroEI4l"
      },
      "source": [
        "**Extracting the VGG16 features and corresponding labels**"
      ]
    },
    {
      "cell_type": "code",
      "execution_count": 425,
      "metadata": {
        "colab": {
          "base_uri": "https://localhost:8080/"
        },
        "id": "LrZ1PZsWEI4m",
        "outputId": "6b0a492f-00dc-4aff-86e3-431286bfb760"
      },
      "outputs": [
        {
          "output_type": "stream",
          "name": "stdout",
          "text": [
            "4/4 [==============================] - 0s 17ms/step\n",
            "4/4 [==============================] - 0s 17ms/step\n",
            "4/4 [==============================] - 0s 17ms/step\n",
            "4/4 [==============================] - 0s 17ms/step\n",
            "4/4 [==============================] - 0s 17ms/step\n",
            "4/4 [==============================] - 0s 16ms/step\n",
            "4/4 [==============================] - 0s 16ms/step\n",
            "4/4 [==============================] - 0s 15ms/step\n",
            "4/4 [==============================] - 0s 15ms/step\n",
            "4/4 [==============================] - 0s 15ms/step\n",
            "4/4 [==============================] - 0s 15ms/step\n",
            "4/4 [==============================] - 0s 15ms/step\n",
            "4/4 [==============================] - 0s 15ms/step\n",
            "4/4 [==============================] - 0s 15ms/step\n",
            "4/4 [==============================] - 0s 15ms/step\n",
            "3/3 [==============================] - 0s 15ms/step\n",
            "4/4 [==============================] - 0s 15ms/step\n",
            "4/4 [==============================] - 0s 15ms/step\n",
            "4/4 [==============================] - 0s 15ms/step\n",
            "4/4 [==============================] - 0s 15ms/step\n",
            "4/4 [==============================] - 0s 15ms/step\n",
            "4/4 [==============================] - 0s 15ms/step\n",
            "4/4 [==============================] - 0s 15ms/step\n",
            "4/4 [==============================] - 0s 15ms/step\n",
            "4/4 [==============================] - 0s 15ms/step\n",
            "4/4 [==============================] - 0s 15ms/step\n",
            "4/4 [==============================] - 0s 15ms/step\n",
            "4/4 [==============================] - 0s 15ms/step\n",
            "4/4 [==============================] - 0s 15ms/step\n",
            "4/4 [==============================] - 0s 15ms/step\n",
            "4/4 [==============================] - 0s 15ms/step\n",
            "4/4 [==============================] - 0s 15ms/step\n",
            "4/4 [==============================] - 0s 15ms/step\n",
            "4/4 [==============================] - 0s 15ms/step\n",
            "4/4 [==============================] - 0s 15ms/step\n",
            "4/4 [==============================] - 0s 15ms/step\n",
            "4/4 [==============================] - 0s 15ms/step\n",
            "4/4 [==============================] - 0s 15ms/step\n",
            "4/4 [==============================] - 0s 15ms/step\n",
            "3/3 [==============================] - 0s 14ms/step\n"
          ]
        }
      ],
      "source": [
        "import numpy as np\n",
        "\n",
        "def get_features_and_labels(dataset):\n",
        "    all_features = []\n",
        "    all_labels = []\n",
        "    for images, labels in dataset:\n",
        "        preprocessed_images = keras.applications.vgg16.preprocess_input(images)\n",
        "        features = conv_base.predict(preprocessed_images)\n",
        "        all_features.append(features)\n",
        "        all_labels.append(labels)\n",
        "    return np.concatenate(all_features), np.concatenate(all_labels)\n",
        "\n",
        "train_features, train_labels =  get_features_and_labels(train_dataset)\n",
        "val_features, val_labels =  get_features_and_labels(validation_dataset)\n",
        "test_features, test_labels =  get_features_and_labels(test_dataset)"
      ]
    },
    {
      "cell_type": "code",
      "execution_count": 377,
      "metadata": {
        "colab": {
          "base_uri": "https://localhost:8080/"
        },
        "id": "NdBT3QBuEI4m",
        "outputId": "f371f9d8-667b-4f20-a223-76621fdc1af1"
      },
      "outputs": [
        {
          "output_type": "execute_result",
          "data": {
            "text/plain": [
              "(2000, 5, 5, 512)"
            ]
          },
          "metadata": {},
          "execution_count": 377
        }
      ],
      "source": [
        "train_features.shape"
      ]
    },
    {
      "cell_type": "markdown",
      "metadata": {
        "id": "OaA61lm0EI4m"
      },
      "source": [
        "**Defining and training the densely connected classifier**"
      ]
    },
    {
      "cell_type": "code",
      "execution_count": 427,
      "metadata": {
        "colab": {
          "base_uri": "https://localhost:8080/"
        },
        "id": "cUl_Gq5PEI4m",
        "outputId": "1484cf39-d47d-428b-d033-4302c396d1a5"
      },
      "outputs": [
        {
          "output_type": "stream",
          "name": "stdout",
          "text": [
            "Epoch 1/100\n",
            "63/63 [==============================] - 1s 8ms/step - loss: 11.3824 - accuracy: 0.9275 - val_loss: 3.3164 - val_accuracy: 0.9690\n",
            "Epoch 2/100\n",
            "63/63 [==============================] - 0s 4ms/step - loss: 3.4210 - accuracy: 0.9770 - val_loss: 5.5917 - val_accuracy: 0.9640\n",
            "Epoch 3/100\n",
            "63/63 [==============================] - 0s 4ms/step - loss: 2.2449 - accuracy: 0.9835 - val_loss: 6.0534 - val_accuracy: 0.9690\n",
            "Epoch 4/100\n",
            "63/63 [==============================] - 0s 4ms/step - loss: 1.3846 - accuracy: 0.9895 - val_loss: 4.7757 - val_accuracy: 0.9730\n",
            "Epoch 5/100\n",
            "63/63 [==============================] - 0s 4ms/step - loss: 0.9471 - accuracy: 0.9935 - val_loss: 6.1888 - val_accuracy: 0.9680\n",
            "Epoch 6/100\n",
            "63/63 [==============================] - 0s 4ms/step - loss: 0.8128 - accuracy: 0.9955 - val_loss: 5.1368 - val_accuracy: 0.9710\n",
            "Epoch 7/100\n",
            "63/63 [==============================] - 0s 5ms/step - loss: 0.5592 - accuracy: 0.9965 - val_loss: 4.7922 - val_accuracy: 0.9740\n",
            "Epoch 8/100\n",
            "63/63 [==============================] - 0s 4ms/step - loss: 0.8190 - accuracy: 0.9930 - val_loss: 4.5013 - val_accuracy: 0.9800\n",
            "Epoch 9/100\n",
            "63/63 [==============================] - 0s 4ms/step - loss: 0.6485 - accuracy: 0.9965 - val_loss: 6.9821 - val_accuracy: 0.9710\n",
            "Epoch 10/100\n",
            "63/63 [==============================] - 0s 4ms/step - loss: 0.5391 - accuracy: 0.9945 - val_loss: 5.3781 - val_accuracy: 0.9730\n",
            "Epoch 11/100\n",
            "63/63 [==============================] - 0s 4ms/step - loss: 1.2048e-20 - accuracy: 1.0000 - val_loss: 5.3781 - val_accuracy: 0.9730\n",
            "Epoch 12/100\n",
            "63/63 [==============================] - 0s 4ms/step - loss: 1.1498e-20 - accuracy: 1.0000 - val_loss: 5.3781 - val_accuracy: 0.9730\n",
            "Epoch 13/100\n",
            "63/63 [==============================] - 0s 4ms/step - loss: 3.5464e-09 - accuracy: 1.0000 - val_loss: 5.3699 - val_accuracy: 0.9740\n",
            "Epoch 14/100\n",
            "63/63 [==============================] - 0s 4ms/step - loss: 0.0878 - accuracy: 0.9980 - val_loss: 4.3734 - val_accuracy: 0.9780\n",
            "Epoch 15/100\n",
            "63/63 [==============================] - 0s 4ms/step - loss: 0.1261 - accuracy: 0.9980 - val_loss: 5.0825 - val_accuracy: 0.9740\n",
            "Epoch 16/100\n",
            "63/63 [==============================] - 0s 4ms/step - loss: 0.2130 - accuracy: 0.9980 - val_loss: 6.4590 - val_accuracy: 0.9730\n",
            "Epoch 17/100\n",
            "63/63 [==============================] - 0s 4ms/step - loss: 0.1708 - accuracy: 0.9955 - val_loss: 7.2415 - val_accuracy: 0.9660\n",
            "Epoch 18/100\n",
            "63/63 [==============================] - 0s 4ms/step - loss: 0.0305 - accuracy: 0.9995 - val_loss: 9.6195 - val_accuracy: 0.9730\n",
            "Epoch 19/100\n",
            "63/63 [==============================] - 0s 4ms/step - loss: 0.0578 - accuracy: 0.9985 - val_loss: 7.0665 - val_accuracy: 0.9690\n",
            "Epoch 20/100\n",
            "63/63 [==============================] - 0s 4ms/step - loss: 3.1387e-04 - accuracy: 1.0000 - val_loss: 6.9020 - val_accuracy: 0.9720\n",
            "Epoch 21/100\n",
            "63/63 [==============================] - 0s 4ms/step - loss: 0.0709 - accuracy: 0.9985 - val_loss: 6.2022 - val_accuracy: 0.9740\n",
            "Epoch 22/100\n",
            "63/63 [==============================] - 0s 5ms/step - loss: 0.0366 - accuracy: 0.9995 - val_loss: 8.2855 - val_accuracy: 0.9760\n",
            "Epoch 23/100\n",
            "63/63 [==============================] - 0s 4ms/step - loss: 0.1075 - accuracy: 0.9985 - val_loss: 6.0732 - val_accuracy: 0.9710\n",
            "Epoch 24/100\n",
            "63/63 [==============================] - 0s 4ms/step - loss: 0.0125 - accuracy: 0.9990 - val_loss: 6.3725 - val_accuracy: 0.9710\n",
            "Epoch 25/100\n",
            "63/63 [==============================] - 0s 5ms/step - loss: 0.2340 - accuracy: 0.9990 - val_loss: 6.9057 - val_accuracy: 0.9760\n",
            "Epoch 26/100\n",
            "63/63 [==============================] - 0s 4ms/step - loss: 0.1369 - accuracy: 0.9985 - val_loss: 8.0538 - val_accuracy: 0.9680\n",
            "Epoch 27/100\n",
            "63/63 [==============================] - 0s 4ms/step - loss: 0.2535 - accuracy: 0.9975 - val_loss: 7.1663 - val_accuracy: 0.9780\n",
            "Epoch 28/100\n",
            "63/63 [==============================] - 0s 4ms/step - loss: 0.0010 - accuracy: 0.9995 - val_loss: 15.3938 - val_accuracy: 0.9620\n",
            "Epoch 29/100\n",
            "63/63 [==============================] - 0s 4ms/step - loss: 0.2314 - accuracy: 0.9985 - val_loss: 6.0980 - val_accuracy: 0.9810\n",
            "Epoch 30/100\n",
            "63/63 [==============================] - 0s 4ms/step - loss: 0.0571 - accuracy: 0.9990 - val_loss: 8.5089 - val_accuracy: 0.9740\n",
            "Epoch 31/100\n",
            "63/63 [==============================] - 0s 4ms/step - loss: 0.0272 - accuracy: 0.9995 - val_loss: 6.4032 - val_accuracy: 0.9750\n",
            "Epoch 32/100\n",
            "63/63 [==============================] - 0s 4ms/step - loss: 0.1882 - accuracy: 0.9990 - val_loss: 5.9988 - val_accuracy: 0.9750\n",
            "Epoch 33/100\n",
            "63/63 [==============================] - 0s 4ms/step - loss: 0.0812 - accuracy: 0.9990 - val_loss: 6.2709 - val_accuracy: 0.9770\n",
            "Epoch 34/100\n",
            "63/63 [==============================] - 0s 4ms/step - loss: 0.0000e+00 - accuracy: 1.0000 - val_loss: 6.2709 - val_accuracy: 0.9770\n",
            "Epoch 35/100\n",
            "63/63 [==============================] - 0s 4ms/step - loss: 0.0000e+00 - accuracy: 1.0000 - val_loss: 6.2709 - val_accuracy: 0.9770\n",
            "Epoch 36/100\n",
            "63/63 [==============================] - 0s 4ms/step - loss: 0.0000e+00 - accuracy: 1.0000 - val_loss: 6.2709 - val_accuracy: 0.9770\n",
            "Epoch 37/100\n",
            "63/63 [==============================] - 0s 5ms/step - loss: 0.0000e+00 - accuracy: 1.0000 - val_loss: 6.2709 - val_accuracy: 0.9770\n",
            "Epoch 38/100\n",
            "63/63 [==============================] - 0s 4ms/step - loss: 4.2917e-30 - accuracy: 1.0000 - val_loss: 6.2709 - val_accuracy: 0.9770\n",
            "Epoch 39/100\n",
            "63/63 [==============================] - 0s 5ms/step - loss: 1.6901e-31 - accuracy: 1.0000 - val_loss: 6.2709 - val_accuracy: 0.9770\n",
            "Epoch 40/100\n",
            "63/63 [==============================] - 0s 4ms/step - loss: 8.5974e-28 - accuracy: 1.0000 - val_loss: 6.2709 - val_accuracy: 0.9770\n",
            "Epoch 41/100\n",
            "63/63 [==============================] - 0s 4ms/step - loss: 0.0276 - accuracy: 0.9990 - val_loss: 6.6173 - val_accuracy: 0.9750\n",
            "Epoch 42/100\n",
            "63/63 [==============================] - 0s 4ms/step - loss: 2.6193e-19 - accuracy: 1.0000 - val_loss: 6.6173 - val_accuracy: 0.9750\n",
            "Epoch 43/100\n",
            "63/63 [==============================] - 0s 4ms/step - loss: 4.5087e-19 - accuracy: 1.0000 - val_loss: 6.6173 - val_accuracy: 0.9750\n",
            "Epoch 44/100\n",
            "63/63 [==============================] - 0s 4ms/step - loss: 0.0000e+00 - accuracy: 1.0000 - val_loss: 6.6173 - val_accuracy: 0.9750\n",
            "Epoch 45/100\n",
            "63/63 [==============================] - 0s 4ms/step - loss: 0.0000e+00 - accuracy: 1.0000 - val_loss: 6.6173 - val_accuracy: 0.9750\n",
            "Epoch 46/100\n",
            "63/63 [==============================] - 0s 4ms/step - loss: 0.2300 - accuracy: 0.9980 - val_loss: 7.1432 - val_accuracy: 0.9690\n",
            "Epoch 47/100\n",
            "63/63 [==============================] - 0s 4ms/step - loss: 9.0652e-23 - accuracy: 1.0000 - val_loss: 7.1432 - val_accuracy: 0.9690\n",
            "Epoch 48/100\n",
            "63/63 [==============================] - 0s 4ms/step - loss: 0.0076 - accuracy: 0.9995 - val_loss: 8.0743 - val_accuracy: 0.9700\n",
            "Epoch 49/100\n",
            "63/63 [==============================] - 0s 4ms/step - loss: 0.0000e+00 - accuracy: 1.0000 - val_loss: 8.0743 - val_accuracy: 0.9700\n",
            "Epoch 50/100\n",
            "63/63 [==============================] - 0s 4ms/step - loss: 0.0534 - accuracy: 0.9995 - val_loss: 8.7623 - val_accuracy: 0.9710\n",
            "Epoch 51/100\n",
            "63/63 [==============================] - 0s 5ms/step - loss: 0.0093 - accuracy: 0.9995 - val_loss: 8.4616 - val_accuracy: 0.9710\n",
            "Epoch 52/100\n",
            "63/63 [==============================] - 0s 4ms/step - loss: 0.0000e+00 - accuracy: 1.0000 - val_loss: 8.4616 - val_accuracy: 0.9710\n",
            "Epoch 53/100\n",
            "63/63 [==============================] - 0s 5ms/step - loss: 8.2663e-31 - accuracy: 1.0000 - val_loss: 8.4616 - val_accuracy: 0.9710\n",
            "Epoch 54/100\n",
            "63/63 [==============================] - 0s 4ms/step - loss: 0.0263 - accuracy: 0.9995 - val_loss: 7.9006 - val_accuracy: 0.9720\n",
            "Epoch 55/100\n",
            "63/63 [==============================] - 0s 4ms/step - loss: 0.0000e+00 - accuracy: 1.0000 - val_loss: 7.9006 - val_accuracy: 0.9720\n",
            "Epoch 56/100\n",
            "63/63 [==============================] - 0s 4ms/step - loss: 0.0349 - accuracy: 0.9995 - val_loss: 7.6539 - val_accuracy: 0.9710\n",
            "Epoch 57/100\n",
            "63/63 [==============================] - 0s 5ms/step - loss: 0.0131 - accuracy: 0.9995 - val_loss: 8.5581 - val_accuracy: 0.9770\n",
            "Epoch 58/100\n",
            "63/63 [==============================] - 0s 4ms/step - loss: 0.0056 - accuracy: 0.9995 - val_loss: 7.5587 - val_accuracy: 0.9710\n",
            "Epoch 59/100\n",
            "63/63 [==============================] - 0s 4ms/step - loss: 0.0000e+00 - accuracy: 1.0000 - val_loss: 7.5587 - val_accuracy: 0.9710\n",
            "Epoch 60/100\n",
            "63/63 [==============================] - 0s 4ms/step - loss: 1.2888e-33 - accuracy: 1.0000 - val_loss: 7.5587 - val_accuracy: 0.9710\n",
            "Epoch 61/100\n",
            "63/63 [==============================] - 0s 4ms/step - loss: 0.0000e+00 - accuracy: 1.0000 - val_loss: 7.5587 - val_accuracy: 0.9710\n",
            "Epoch 62/100\n",
            "63/63 [==============================] - 0s 4ms/step - loss: 0.0259 - accuracy: 0.9990 - val_loss: 8.3901 - val_accuracy: 0.9660\n",
            "Epoch 63/100\n",
            "63/63 [==============================] - 0s 4ms/step - loss: 0.0000e+00 - accuracy: 1.0000 - val_loss: 8.3901 - val_accuracy: 0.9660\n",
            "Epoch 64/100\n",
            "63/63 [==============================] - 0s 5ms/step - loss: 0.0000e+00 - accuracy: 1.0000 - val_loss: 8.3901 - val_accuracy: 0.9660\n",
            "Epoch 65/100\n",
            "63/63 [==============================] - 0s 4ms/step - loss: 0.0327 - accuracy: 0.9990 - val_loss: 8.0367 - val_accuracy: 0.9670\n",
            "Epoch 66/100\n",
            "63/63 [==============================] - 0s 4ms/step - loss: 5.2468e-19 - accuracy: 1.0000 - val_loss: 8.0367 - val_accuracy: 0.9670\n",
            "Epoch 67/100\n",
            "63/63 [==============================] - 0s 4ms/step - loss: 0.0000e+00 - accuracy: 1.0000 - val_loss: 8.0367 - val_accuracy: 0.9670\n",
            "Epoch 68/100\n",
            "63/63 [==============================] - 0s 4ms/step - loss: 4.9516e-10 - accuracy: 1.0000 - val_loss: 7.8957 - val_accuracy: 0.9680\n",
            "Epoch 69/100\n",
            "63/63 [==============================] - 0s 4ms/step - loss: 0.0000e+00 - accuracy: 1.0000 - val_loss: 7.8957 - val_accuracy: 0.9680\n",
            "Epoch 70/100\n",
            "63/63 [==============================] - 0s 4ms/step - loss: 0.0000e+00 - accuracy: 1.0000 - val_loss: 7.8957 - val_accuracy: 0.9680\n",
            "Epoch 71/100\n",
            "63/63 [==============================] - 0s 4ms/step - loss: 0.0000e+00 - accuracy: 1.0000 - val_loss: 7.8957 - val_accuracy: 0.9680\n",
            "Epoch 72/100\n",
            "63/63 [==============================] - 0s 4ms/step - loss: 2.8145e-04 - accuracy: 1.0000 - val_loss: 9.5917 - val_accuracy: 0.9720\n",
            "Epoch 73/100\n",
            "63/63 [==============================] - 0s 4ms/step - loss: 0.1078 - accuracy: 0.9995 - val_loss: 7.3314 - val_accuracy: 0.9690\n",
            "Epoch 74/100\n",
            "63/63 [==============================] - 0s 4ms/step - loss: 1.9022e-36 - accuracy: 1.0000 - val_loss: 7.3314 - val_accuracy: 0.9690\n",
            "Epoch 75/100\n",
            "63/63 [==============================] - 0s 4ms/step - loss: 0.0000e+00 - accuracy: 1.0000 - val_loss: 7.3314 - val_accuracy: 0.9690\n",
            "Epoch 76/100\n",
            "63/63 [==============================] - 0s 4ms/step - loss: 0.0000e+00 - accuracy: 1.0000 - val_loss: 7.3314 - val_accuracy: 0.9690\n",
            "Epoch 77/100\n",
            "63/63 [==============================] - 1s 8ms/step - loss: 0.0428 - accuracy: 0.9995 - val_loss: 9.8449 - val_accuracy: 0.9720\n",
            "Epoch 78/100\n",
            "63/63 [==============================] - 0s 4ms/step - loss: 0.0090 - accuracy: 0.9995 - val_loss: 6.6963 - val_accuracy: 0.9730\n",
            "Epoch 79/100\n",
            "63/63 [==============================] - 0s 4ms/step - loss: 0.0553 - accuracy: 0.9990 - val_loss: 8.0403 - val_accuracy: 0.9770\n",
            "Epoch 80/100\n",
            "63/63 [==============================] - 0s 4ms/step - loss: 1.1263e-34 - accuracy: 1.0000 - val_loss: 8.0403 - val_accuracy: 0.9770\n",
            "Epoch 81/100\n",
            "63/63 [==============================] - 0s 4ms/step - loss: 0.0000e+00 - accuracy: 1.0000 - val_loss: 8.0403 - val_accuracy: 0.9770\n",
            "Epoch 82/100\n",
            "63/63 [==============================] - 0s 4ms/step - loss: 0.0107 - accuracy: 0.9995 - val_loss: 9.7556 - val_accuracy: 0.9660\n",
            "Epoch 83/100\n",
            "63/63 [==============================] - 0s 4ms/step - loss: 0.0347 - accuracy: 0.9995 - val_loss: 8.0330 - val_accuracy: 0.9740\n",
            "Epoch 84/100\n",
            "63/63 [==============================] - 0s 4ms/step - loss: 1.2454e-35 - accuracy: 1.0000 - val_loss: 8.0330 - val_accuracy: 0.9740\n",
            "Epoch 85/100\n",
            "63/63 [==============================] - 0s 4ms/step - loss: 0.0000e+00 - accuracy: 1.0000 - val_loss: 8.0330 - val_accuracy: 0.9740\n",
            "Epoch 86/100\n",
            "63/63 [==============================] - 0s 4ms/step - loss: 0.0000e+00 - accuracy: 1.0000 - val_loss: 8.0330 - val_accuracy: 0.9740\n",
            "Epoch 87/100\n",
            "63/63 [==============================] - 0s 4ms/step - loss: 0.0000e+00 - accuracy: 1.0000 - val_loss: 8.0330 - val_accuracy: 0.9740\n",
            "Epoch 88/100\n",
            "63/63 [==============================] - 0s 4ms/step - loss: 0.0000e+00 - accuracy: 1.0000 - val_loss: 8.0330 - val_accuracy: 0.9740\n",
            "Epoch 89/100\n",
            "63/63 [==============================] - 0s 4ms/step - loss: 0.0000e+00 - accuracy: 1.0000 - val_loss: 8.0330 - val_accuracy: 0.9740\n",
            "Epoch 90/100\n",
            "63/63 [==============================] - 0s 4ms/step - loss: 0.0000e+00 - accuracy: 1.0000 - val_loss: 8.0330 - val_accuracy: 0.9740\n",
            "Epoch 91/100\n",
            "63/63 [==============================] - 0s 4ms/step - loss: 0.0000e+00 - accuracy: 1.0000 - val_loss: 8.0330 - val_accuracy: 0.9740\n",
            "Epoch 92/100\n",
            "63/63 [==============================] - 0s 4ms/step - loss: 0.0000e+00 - accuracy: 1.0000 - val_loss: 8.0330 - val_accuracy: 0.9740\n",
            "Epoch 93/100\n",
            "63/63 [==============================] - 0s 4ms/step - loss: 0.0000e+00 - accuracy: 1.0000 - val_loss: 8.0330 - val_accuracy: 0.9740\n",
            "Epoch 94/100\n",
            "63/63 [==============================] - 0s 4ms/step - loss: 0.0000e+00 - accuracy: 1.0000 - val_loss: 8.0330 - val_accuracy: 0.9740\n",
            "Epoch 95/100\n",
            "63/63 [==============================] - 0s 4ms/step - loss: 0.0000e+00 - accuracy: 1.0000 - val_loss: 8.0330 - val_accuracy: 0.9740\n",
            "Epoch 96/100\n",
            "63/63 [==============================] - 0s 4ms/step - loss: 0.0000e+00 - accuracy: 1.0000 - val_loss: 8.0330 - val_accuracy: 0.9740\n",
            "Epoch 97/100\n",
            "63/63 [==============================] - 0s 4ms/step - loss: 0.0000e+00 - accuracy: 1.0000 - val_loss: 8.0330 - val_accuracy: 0.9740\n",
            "Epoch 98/100\n",
            "63/63 [==============================] - 0s 4ms/step - loss: 0.0000e+00 - accuracy: 1.0000 - val_loss: 8.0330 - val_accuracy: 0.9740\n",
            "Epoch 99/100\n",
            "63/63 [==============================] - 0s 4ms/step - loss: 0.0000e+00 - accuracy: 1.0000 - val_loss: 8.0330 - val_accuracy: 0.9740\n",
            "Epoch 100/100\n",
            "63/63 [==============================] - 0s 4ms/step - loss: 1.0593e-34 - accuracy: 1.0000 - val_loss: 8.0330 - val_accuracy: 0.9740\n"
          ]
        }
      ],
      "source": [
        "inputs = keras.Input(shape=(5, 5, 512))\n",
        "x = layers.Flatten()(inputs)\n",
        "x = layers.Dense(256)(x)\n",
        "x = layers.Dropout(0.5)(x)\n",
        "outputs = layers.Dense(1, activation=\"sigmoid\")(x)\n",
        "model = keras.Model(inputs, outputs)\n",
        "model.compile(loss=\"binary_crossentropy\",\n",
        "              optimizer=\"rmsprop\",\n",
        "              metrics=[\"accuracy\"])\n",
        "\n",
        "callbacks = [\n",
        "    keras.callbacks.ModelCheckpoint(\n",
        "      filepath=\"feature_extraction.keras\",\n",
        "      save_best_only=True,\n",
        "      monitor=\"val_loss\")\n",
        "]\n",
        "history = model.fit(\n",
        "    train_features, train_labels,\n",
        "    epochs=100,\n",
        "    validation_data=(val_features, val_labels),\n",
        "    callbacks=callbacks)"
      ]
    },
    {
      "cell_type": "markdown",
      "metadata": {
        "id": "lmClbOByEI4m"
      },
      "source": [
        "**Plotting the results**"
      ]
    },
    {
      "cell_type": "code",
      "execution_count": 428,
      "metadata": {
        "colab": {
          "base_uri": "https://localhost:8080/",
          "height": 545
        },
        "id": "B_eiPRV_EI4m",
        "outputId": "08721df6-44bb-4ea9-c786-8ee1845bd148"
      },
      "outputs": [
        {
          "output_type": "display_data",
          "data": {
            "text/plain": [
              "<Figure size 432x288 with 1 Axes>"
            ],
            "image/png": "[encoded data removed]"
          },
          "metadata": {
            "needs_background": "light"
          }
        },
        {
          "output_type": "display_data",
          "data": {
            "text/plain": [
              "<Figure size 432x288 with 1 Axes>"
            ],
            "image/png": "[encoded data removed]"
          },
          "metadata": {
            "needs_background": "light"
          }
        }
      ],
      "source": [
        "import matplotlib.pyplot as plt\n",
        "acc = history.history[\"accuracy\"]\n",
        "val_acc = history.history[\"val_accuracy\"]\n",
        "loss = history.history[\"loss\"]\n",
        "val_loss = history.history[\"val_loss\"]\n",
        "epochs = range(1, len(acc) + 1)\n",
        "plt.plot(epochs, acc, \"bo\", label=\"Training accuracy\")\n",
        "plt.plot(epochs, val_acc, \"b\", label=\"Validation accuracy\")\n",
        "plt.title(\"Training and validation accuracy\")\n",
        "plt.legend()\n",
        "plt.figure()\n",
        "plt.plot(epochs, loss, \"bo\", label=\"Training loss\")\n",
        "plt.plot(epochs, val_loss, \"b\", label=\"Validation loss\")\n",
        "plt.title(\"Training and validation loss\")\n",
        "plt.legend()\n",
        "plt.show()"
      ]
    },
    {
      "cell_type": "markdown",
      "metadata": {
        "id": "JLnJaDVAEI4m"
      },
      "source": [
        "#### Feature extraction together with data augmentation"
      ]
    },
    {
      "cell_type": "markdown",
      "metadata": {
        "id": "mlKv-VK8EI4m"
      },
      "source": [
        "**Instantiating and freezing the VGG16 convolutional base**"
      ]
    },
    {
      "cell_type": "code",
      "execution_count": 429,
      "metadata": {
        "id": "DVJ7VLujEI4m"
      },
      "outputs": [],
      "source": [
        "conv_base  = keras.applications.vgg16.VGG16(\n",
        "    weights=\"imagenet\",\n",
        "    include_top=False)\n",
        "conv_base.trainable = False"
      ]
    },
    {
      "cell_type": "markdown",
      "metadata": {
        "id": "aiaoMbHGEI4m"
      },
      "source": [
        "**Printing the list of trainable weights before and after freezing**"
      ]
    },
    {
      "cell_type": "code",
      "execution_count": 430,
      "metadata": {
        "colab": {
          "base_uri": "https://localhost:8080/"
        },
        "id": "XgZjlLJ7EI4n",
        "outputId": "b3937e24-f28b-492f-e5c8-a80354a13c6d"
      },
      "outputs": [
        {
          "output_type": "stream",
          "name": "stdout",
          "text": [
            "This is the number of trainable weights before freezing the conv base: 26\n"
          ]
        }
      ],
      "source": [
        "conv_base.trainable = True\n",
        "print(\"This is the number of trainable weights \"\n",
        "      \"before freezing the conv base:\", len(conv_base.trainable_weights))"
      ]
    },
    {
      "cell_type": "code",
      "execution_count": 431,
      "metadata": {
        "colab": {
          "base_uri": "https://localhost:8080/"
        },
        "id": "w8Z11UzqEI4n",
        "outputId": "e599345c-9d75-4c3a-9e8f-985576ba41ce"
      },
      "outputs": [
        {
          "output_type": "stream",
          "name": "stdout",
          "text": [
            "This is the number of trainable weights after freezing the conv base: 0\n"
          ]
        }
      ],
      "source": [
        "conv_base.trainable = False\n",
        "print(\"This is the number of trainable weights \"\n",
        "      \"after freezing the conv base:\", len(conv_base.trainable_weights))"
      ]
    },
    {
      "cell_type": "markdown",
      "metadata": {
        "id": "D-2C1kQfEI4n"
      },
      "source": [
        "**Adding a data augmentation stage and a classifier to the convolutional base**"
      ]
    },
    {
      "cell_type": "code",
      "execution_count": 433,
      "metadata": {
        "id": "e8jMxbZ0EI4n"
      },
      "outputs": [],
      "source": [
        "data_augmentation = keras.Sequential(\n",
        "    [\n",
        "        layers.RandomFlip(\"horizontal\"),\n",
        "        layers.RandomRotation(0.1),\n",
        "        layers.RandomZoom(0.2),\n",
        "    ]\n",
        ")\n",
        "\n",
        "inputs = keras.Input(shape=(180, 180, 3))\n",
        "x = data_augmentation(inputs)\n",
        "x = keras.applications.vgg16.preprocess_input(x)\n",
        "x = conv_base(x)\n",
        "x = layers.Flatten()(x)\n",
        "x = layers.Dense(256)(x)\n",
        "x = layers.Dropout(0.5)(x)\n",
        "outputs = layers.Dense(1, activation=\"sigmoid\")(x)\n",
        "model = keras.Model(inputs, outputs)\n",
        "model.compile(loss=\"binary_crossentropy\",\n",
        "              optimizer=\"rmsprop\",\n",
        "              metrics=[\"accuracy\"])"
      ]
    },
    {
      "cell_type": "code",
      "execution_count": 435,
      "metadata": {
        "colab": {
          "base_uri": "https://localhost:8080/"
        },
        "id": "d6jG54ouEI4n",
        "outputId": "dc506ffb-3a5b-4a5e-c4f7-6cea71e86932"
      },
      "outputs": [
        {
          "output_type": "stream",
          "name": "stdout",
          "text": [
            "Epoch 1/75\n",
            "16/16 [==============================] - 3s 178ms/step - loss: 5.2089 - accuracy: 0.9575 - val_loss: 5.4596 - val_accuracy: 0.9650\n",
            "Epoch 2/75\n",
            "16/16 [==============================] - 3s 165ms/step - loss: 6.7036 - accuracy: 0.9430 - val_loss: 12.1654 - val_accuracy: 0.9460\n",
            "Epoch 3/75\n",
            "16/16 [==============================] - 3s 164ms/step - loss: 6.5306 - accuracy: 0.9490 - val_loss: 9.3495 - val_accuracy: 0.9560\n",
            "Epoch 4/75\n",
            "16/16 [==============================] - 3s 176ms/step - loss: 2.5576 - accuracy: 0.9785 - val_loss: 2.5525 - val_accuracy: 0.9800\n",
            "Epoch 5/75\n",
            "16/16 [==============================] - 3s 163ms/step - loss: 15.7392 - accuracy: 0.9240 - val_loss: 4.6114 - val_accuracy: 0.9720\n",
            "Epoch 6/75\n",
            "16/16 [==============================] - 3s 163ms/step - loss: 2.2176 - accuracy: 0.9760 - val_loss: 2.8814 - val_accuracy: 0.9810\n",
            "Epoch 7/75\n",
            "16/16 [==============================] - 3s 181ms/step - loss: 1.9885 - accuracy: 0.9805 - val_loss: 2.3317 - val_accuracy: 0.9770\n",
            "Epoch 8/75\n",
            "16/16 [==============================] - 3s 163ms/step - loss: 5.0365 - accuracy: 0.9620 - val_loss: 3.0013 - val_accuracy: 0.9740\n",
            "Epoch 9/75\n",
            "16/16 [==============================] - 3s 181ms/step - loss: 2.2073 - accuracy: 0.9795 - val_loss: 2.2204 - val_accuracy: 0.9790\n",
            "Epoch 10/75\n",
            "16/16 [==============================] - 3s 167ms/step - loss: 1.2535 - accuracy: 0.9845 - val_loss: 3.2829 - val_accuracy: 0.9740\n",
            "Epoch 11/75\n",
            "16/16 [==============================] - 3s 164ms/step - loss: 1.7432 - accuracy: 0.9825 - val_loss: 3.0897 - val_accuracy: 0.9780\n",
            "Epoch 12/75\n",
            "16/16 [==============================] - 3s 164ms/step - loss: 1.3257 - accuracy: 0.9825 - val_loss: 3.7330 - val_accuracy: 0.9740\n",
            "Epoch 13/75\n",
            "16/16 [==============================] - 3s 164ms/step - loss: 1.1163 - accuracy: 0.9865 - val_loss: 3.3461 - val_accuracy: 0.9780\n",
            "Epoch 14/75\n",
            "16/16 [==============================] - 3s 166ms/step - loss: 1.9769 - accuracy: 0.9815 - val_loss: 3.8711 - val_accuracy: 0.9710\n",
            "Epoch 15/75\n",
            "16/16 [==============================] - 3s 165ms/step - loss: 2.7878 - accuracy: 0.9720 - val_loss: 6.2089 - val_accuracy: 0.9670\n",
            "Epoch 16/75\n",
            "16/16 [==============================] - 3s 163ms/step - loss: 1.4040 - accuracy: 0.9865 - val_loss: 2.9703 - val_accuracy: 0.9800\n",
            "Epoch 17/75\n",
            "16/16 [==============================] - 3s 163ms/step - loss: 1.3249 - accuracy: 0.9840 - val_loss: 3.3885 - val_accuracy: 0.9770\n",
            "Epoch 18/75\n",
            "16/16 [==============================] - 3s 166ms/step - loss: 2.2004 - accuracy: 0.9810 - val_loss: 4.2494 - val_accuracy: 0.9720\n",
            "Epoch 19/75\n",
            "16/16 [==============================] - 3s 166ms/step - loss: 1.3292 - accuracy: 0.9845 - val_loss: 4.7188 - val_accuracy: 0.9660\n",
            "Epoch 20/75\n",
            "16/16 [==============================] - 3s 163ms/step - loss: 1.5056 - accuracy: 0.9815 - val_loss: 3.3016 - val_accuracy: 0.9770\n",
            "Epoch 21/75\n",
            "16/16 [==============================] - 3s 166ms/step - loss: 1.0865 - accuracy: 0.9855 - val_loss: 3.1459 - val_accuracy: 0.9800\n",
            "Epoch 22/75\n",
            "16/16 [==============================] - 3s 165ms/step - loss: 0.6395 - accuracy: 0.9895 - val_loss: 4.3499 - val_accuracy: 0.9770\n",
            "Epoch 23/75\n",
            "16/16 [==============================] - 3s 177ms/step - loss: 0.9721 - accuracy: 0.9840 - val_loss: 1.9784 - val_accuracy: 0.9820\n",
            "Epoch 24/75\n",
            "16/16 [==============================] - 3s 164ms/step - loss: 1.0993 - accuracy: 0.9870 - val_loss: 3.5941 - val_accuracy: 0.9760\n",
            "Epoch 25/75\n",
            "16/16 [==============================] - 3s 165ms/step - loss: 1.1901 - accuracy: 0.9850 - val_loss: 3.0218 - val_accuracy: 0.9760\n",
            "Epoch 26/75\n",
            "16/16 [==============================] - 3s 167ms/step - loss: 1.1760 - accuracy: 0.9830 - val_loss: 3.9300 - val_accuracy: 0.9780\n",
            "Epoch 27/75\n",
            "16/16 [==============================] - 3s 166ms/step - loss: 1.4285 - accuracy: 0.9840 - val_loss: 2.5935 - val_accuracy: 0.9820\n",
            "Epoch 28/75\n",
            "16/16 [==============================] - 3s 165ms/step - loss: 0.9736 - accuracy: 0.9890 - val_loss: 2.7926 - val_accuracy: 0.9740\n",
            "Epoch 29/75\n",
            "16/16 [==============================] - 3s 163ms/step - loss: 1.0054 - accuracy: 0.9885 - val_loss: 2.3660 - val_accuracy: 0.9830\n",
            "Epoch 30/75\n",
            "16/16 [==============================] - 3s 166ms/step - loss: 0.6615 - accuracy: 0.9895 - val_loss: 2.0567 - val_accuracy: 0.9800\n",
            "Epoch 31/75\n",
            "16/16 [==============================] - 3s 166ms/step - loss: 0.5718 - accuracy: 0.9910 - val_loss: 4.2838 - val_accuracy: 0.9700\n",
            "Epoch 32/75\n",
            "16/16 [==============================] - 3s 165ms/step - loss: 1.2187 - accuracy: 0.9835 - val_loss: 3.0255 - val_accuracy: 0.9770\n",
            "Epoch 33/75\n",
            "16/16 [==============================] - 3s 164ms/step - loss: 0.8113 - accuracy: 0.9880 - val_loss: 2.7870 - val_accuracy: 0.9790\n",
            "Epoch 34/75\n",
            "16/16 [==============================] - 3s 163ms/step - loss: 0.5890 - accuracy: 0.9895 - val_loss: 5.7837 - val_accuracy: 0.9700\n",
            "Epoch 35/75\n",
            "16/16 [==============================] - 3s 163ms/step - loss: 1.3601 - accuracy: 0.9835 - val_loss: 8.6493 - val_accuracy: 0.9620\n",
            "Epoch 36/75\n",
            "16/16 [==============================] - 3s 164ms/step - loss: 0.7084 - accuracy: 0.9895 - val_loss: 2.6865 - val_accuracy: 0.9790\n",
            "Epoch 37/75\n",
            "16/16 [==============================] - 3s 167ms/step - loss: 0.3950 - accuracy: 0.9920 - val_loss: 3.1127 - val_accuracy: 0.9750\n",
            "Epoch 38/75\n",
            "16/16 [==============================] - 3s 163ms/step - loss: 0.5213 - accuracy: 0.9915 - val_loss: 3.1165 - val_accuracy: 0.9780\n",
            "Epoch 39/75\n",
            "16/16 [==============================] - 3s 165ms/step - loss: 0.7260 - accuracy: 0.9895 - val_loss: 2.5656 - val_accuracy: 0.9790\n",
            "Epoch 40/75\n",
            "16/16 [==============================] - 3s 164ms/step - loss: 1.4151 - accuracy: 0.9840 - val_loss: 3.0633 - val_accuracy: 0.9760\n",
            "Epoch 41/75\n",
            "16/16 [==============================] - 3s 168ms/step - loss: 0.4927 - accuracy: 0.9900 - val_loss: 2.9271 - val_accuracy: 0.9780\n",
            "Epoch 42/75\n",
            "16/16 [==============================] - 3s 163ms/step - loss: 0.7357 - accuracy: 0.9890 - val_loss: 5.8556 - val_accuracy: 0.9620\n",
            "Epoch 43/75\n",
            "16/16 [==============================] - 3s 161ms/step - loss: 1.2295 - accuracy: 0.9820 - val_loss: 2.5421 - val_accuracy: 0.9830\n",
            "Epoch 44/75\n",
            "16/16 [==============================] - 3s 165ms/step - loss: 0.5611 - accuracy: 0.9930 - val_loss: 2.7023 - val_accuracy: 0.9780\n",
            "Epoch 45/75\n",
            "16/16 [==============================] - 3s 166ms/step - loss: 0.4075 - accuracy: 0.9880 - val_loss: 2.7138 - val_accuracy: 0.9820\n",
            "Epoch 46/75\n",
            "16/16 [==============================] - 3s 163ms/step - loss: 0.8214 - accuracy: 0.9895 - val_loss: 2.9733 - val_accuracy: 0.9760\n",
            "Epoch 47/75\n",
            "16/16 [==============================] - 3s 164ms/step - loss: 0.4246 - accuracy: 0.9890 - val_loss: 2.6729 - val_accuracy: 0.9760\n",
            "Epoch 48/75\n",
            "16/16 [==============================] - 3s 164ms/step - loss: 0.4437 - accuracy: 0.9930 - val_loss: 2.2521 - val_accuracy: 0.9810\n",
            "Epoch 49/75\n",
            "16/16 [==============================] - 3s 163ms/step - loss: 0.4935 - accuracy: 0.9920 - val_loss: 2.7614 - val_accuracy: 0.9820\n",
            "Epoch 50/75\n",
            "16/16 [==============================] - 3s 163ms/step - loss: 0.4797 - accuracy: 0.9880 - val_loss: 2.1842 - val_accuracy: 0.9830\n",
            "Epoch 51/75\n",
            "16/16 [==============================] - 3s 164ms/step - loss: 0.8040 - accuracy: 0.9865 - val_loss: 5.1602 - val_accuracy: 0.9600\n",
            "Epoch 52/75\n",
            "16/16 [==============================] - 3s 166ms/step - loss: 0.4657 - accuracy: 0.9915 - val_loss: 2.8058 - val_accuracy: 0.9760\n",
            "Epoch 53/75\n",
            "16/16 [==============================] - 3s 165ms/step - loss: 0.4622 - accuracy: 0.9910 - val_loss: 2.6087 - val_accuracy: 0.9750\n",
            "Epoch 54/75\n",
            "16/16 [==============================] - 3s 178ms/step - loss: 0.6487 - accuracy: 0.9885 - val_loss: 1.9715 - val_accuracy: 0.9810\n",
            "Epoch 55/75\n",
            "16/16 [==============================] - 3s 165ms/step - loss: 0.3832 - accuracy: 0.9905 - val_loss: 3.9029 - val_accuracy: 0.9710\n",
            "Epoch 56/75\n",
            "16/16 [==============================] - 3s 165ms/step - loss: 0.2656 - accuracy: 0.9935 - val_loss: 2.3794 - val_accuracy: 0.9770\n",
            "Epoch 57/75\n",
            "16/16 [==============================] - 3s 165ms/step - loss: 0.2152 - accuracy: 0.9965 - val_loss: 2.3513 - val_accuracy: 0.9800\n",
            "Epoch 58/75\n",
            "16/16 [==============================] - 3s 165ms/step - loss: 0.4185 - accuracy: 0.9905 - val_loss: 2.9335 - val_accuracy: 0.9810\n",
            "Epoch 59/75\n",
            "16/16 [==============================] - 3s 179ms/step - loss: 0.3088 - accuracy: 0.9925 - val_loss: 1.7463 - val_accuracy: 0.9820\n",
            "Epoch 60/75\n",
            "16/16 [==============================] - 3s 181ms/step - loss: 0.0899 - accuracy: 0.9975 - val_loss: 1.5817 - val_accuracy: 0.9810\n",
            "Epoch 61/75\n",
            "16/16 [==============================] - 3s 163ms/step - loss: 0.5225 - accuracy: 0.9915 - val_loss: 2.6363 - val_accuracy: 0.9770\n",
            "Epoch 62/75\n",
            "16/16 [==============================] - 3s 166ms/step - loss: 0.4348 - accuracy: 0.9880 - val_loss: 2.2305 - val_accuracy: 0.9790\n",
            "Epoch 63/75\n",
            "16/16 [==============================] - 3s 166ms/step - loss: 0.6556 - accuracy: 0.9910 - val_loss: 5.6865 - val_accuracy: 0.9610\n",
            "Epoch 64/75\n",
            "16/16 [==============================] - 3s 169ms/step - loss: 0.5356 - accuracy: 0.9915 - val_loss: 2.1734 - val_accuracy: 0.9840\n",
            "Epoch 65/75\n",
            "16/16 [==============================] - 3s 166ms/step - loss: 0.4488 - accuracy: 0.9940 - val_loss: 2.2866 - val_accuracy: 0.9790\n",
            "Epoch 66/75\n",
            "16/16 [==============================] - 3s 164ms/step - loss: 0.5094 - accuracy: 0.9920 - val_loss: 1.9627 - val_accuracy: 0.9810\n",
            "Epoch 67/75\n",
            "16/16 [==============================] - 3s 165ms/step - loss: 0.1583 - accuracy: 0.9955 - val_loss: 1.9081 - val_accuracy: 0.9820\n",
            "Epoch 68/75\n",
            "16/16 [==============================] - 3s 167ms/step - loss: 0.2763 - accuracy: 0.9930 - val_loss: 1.8037 - val_accuracy: 0.9830\n",
            "Epoch 69/75\n",
            "16/16 [==============================] - 3s 166ms/step - loss: 0.1648 - accuracy: 0.9955 - val_loss: 1.7402 - val_accuracy: 0.9820\n",
            "Epoch 70/75\n",
            "16/16 [==============================] - 3s 166ms/step - loss: 0.3476 - accuracy: 0.9910 - val_loss: 1.9621 - val_accuracy: 0.9840\n",
            "Epoch 71/75\n",
            "16/16 [==============================] - 3s 166ms/step - loss: 0.2928 - accuracy: 0.9915 - val_loss: 2.4612 - val_accuracy: 0.9790\n",
            "Epoch 72/75\n",
            "16/16 [==============================] - 3s 166ms/step - loss: 0.6853 - accuracy: 0.9885 - val_loss: 1.9820 - val_accuracy: 0.9820\n",
            "Epoch 73/75\n",
            "16/16 [==============================] - 3s 168ms/step - loss: 0.1147 - accuracy: 0.9935 - val_loss: 2.0383 - val_accuracy: 0.9810\n",
            "Epoch 74/75\n",
            "16/16 [==============================] - 3s 169ms/step - loss: 0.1721 - accuracy: 0.9950 - val_loss: 3.0373 - val_accuracy: 0.9750\n",
            "Epoch 75/75\n",
            "16/16 [==============================] - 3s 170ms/step - loss: 0.3738 - accuracy: 0.9920 - val_loss: 1.9384 - val_accuracy: 0.9800\n"
          ]
        }
      ],
      "source": [
        "callbacks = [\n",
        "    keras.callbacks.ModelCheckpoint(\n",
        "        filepath=\"feature_extraction_with_data_augmentation.keras\",\n",
        "        save_best_only=True,\n",
        "        monitor=\"val_loss\")\n",
        "]\n",
        "history = model.fit(\n",
        "    train_dataset,\n",
        "    epochs=75,\n",
        "    validation_data=validation_dataset,\n",
        "    callbacks=callbacks)"
      ]
    },
    {
      "cell_type": "markdown",
      "metadata": {
        "id": "0Kul7fvZEI4n"
      },
      "source": [
        "**Evaluating the model on the test set**"
      ]
    },
    {
      "cell_type": "code",
      "execution_count": 436,
      "metadata": {
        "colab": {
          "base_uri": "https://localhost:8080/"
        },
        "id": "eGdCtoUjEI4n",
        "outputId": "b917ee5d-9750-4a00-db7f-a649e1c58815"
      },
      "outputs": [
        {
          "output_type": "stream",
          "name": "stdout",
          "text": [
            "16/16 [==============================] - 2s 71ms/step - loss: 2.5064 - accuracy: 0.9765\n",
            "Test accuracy: 0.976\n"
          ]
        }
      ],
      "source": [
        "test_model = keras.models.load_model(\n",
        "    \"feature_extraction_with_data_augmentation.keras\")\n",
        "test_loss, test_acc = test_model.evaluate(test_dataset)\n",
        "print(f\"Test accuracy: {test_acc:.3f}\")"
      ]
    },
    {
      "cell_type": "markdown",
      "metadata": {
        "id": "NfKzB7SlEI4o"
      },
      "source": [
        "### Fine-tuning a pretrained model"
      ]
    },
    {
      "cell_type": "code",
      "execution_count": 437,
      "metadata": {
        "colab": {
          "base_uri": "https://localhost:8080/"
        },
        "id": "0szo7Z5ZEI4o",
        "outputId": "6c3b45bd-a134-41e8-e7ac-a06e6ff4badb"
      },
      "outputs": [
        {
          "output_type": "stream",
          "name": "stdout",
          "text": [
            "Model: \"vgg16\"\n",
            "_________________________________________________________________\n",
            " Layer (type)                Output Shape              Param #   \n",
            "=================================================================\n",
            " input_79 (InputLayer)       [(None, None, None, 3)]   0         \n",
            "                                                                 \n",
            " block1_conv1 (Conv2D)       (None, None, None, 64)    1792      \n",
            "                                                                 \n",
            " block1_conv2 (Conv2D)       (None, None, None, 64)    36928     \n",
            "                                                                 \n",
            " block1_pool (MaxPooling2D)  (None, None, None, 64)    0         \n",
            "                                                                 \n",
            " block2_conv1 (Conv2D)       (None, None, None, 128)   73856     \n",
            "                                                                 \n",
            " block2_conv2 (Conv2D)       (None, None, None, 128)   147584    \n",
            "                                                                 \n",
            " block2_pool (MaxPooling2D)  (None, None, None, 128)   0         \n",
            "                                                                 \n",
            " block3_conv1 (Conv2D)       (None, None, None, 256)   295168    \n",
            "                                                                 \n",
            " block3_conv2 (Conv2D)       (None, None, None, 256)   590080    \n",
            "                                                                 \n",
            " block3_conv3 (Conv2D)       (None, None, None, 256)   590080    \n",
            "                                                                 \n",
            " block3_pool (MaxPooling2D)  (None, None, None, 256)   0         \n",
            "                                                                 \n",
            " block4_conv1 (Conv2D)       (None, None, None, 512)   1180160   \n",
            "                                                                 \n",
            " block4_conv2 (Conv2D)       (None, None, None, 512)   2359808   \n",
            "                                                                 \n",
            " block4_conv3 (Conv2D)       (None, None, None, 512)   2359808   \n",
            "                                                                 \n",
            " block4_pool (MaxPooling2D)  (None, None, None, 512)   0         \n",
            "                                                                 \n",
            " block5_conv1 (Conv2D)       (None, None, None, 512)   2359808   \n",
            "                                                                 \n",
            " block5_conv2 (Conv2D)       (None, None, None, 512)   2359808   \n",
            "                                                                 \n",
            " block5_conv3 (Conv2D)       (None, None, None, 512)   2359808   \n",
            "                                                                 \n",
            " block5_pool (MaxPooling2D)  (None, None, None, 512)   0         \n",
            "                                                                 \n",
            "=================================================================\n",
            "Total params: 14,714,688\n",
            "Trainable params: 0\n",
            "Non-trainable params: 14,714,688\n",
            "_________________________________________________________________\n"
          ]
        }
      ],
      "source": [
        "conv_base.summary()"
      ]
    },
    {
      "cell_type": "markdown",
      "metadata": {
        "id": "61MKYjL7EI4o"
      },
      "source": [
        "**Freezing all layers until the fourth from the last**"
      ]
    },
    {
      "cell_type": "code",
      "execution_count": 438,
      "metadata": {
        "id": "URh6xMYnEI4o"
      },
      "outputs": [],
      "source": [
        "conv_base.trainable = True\n",
        "for layer in conv_base.layers[:-4]:\n",
        "    layer.trainable = False"
      ]
    },
    {
      "cell_type": "markdown",
      "metadata": {
        "id": "kjelWYi0EI4o"
      },
      "source": [
        "**Fine-tuning the model**"
      ]
    },
    {
      "cell_type": "code",
      "execution_count": 439,
      "metadata": {
        "colab": {
          "base_uri": "https://localhost:8080/"
        },
        "id": "yBdjSbmFEI4o",
        "outputId": "a7393a57-6166-4337-9e7b-71c09a2593d7"
      },
      "outputs": [
        {
          "output_type": "stream",
          "name": "stdout",
          "text": [
            "Epoch 1/32\n",
            "16/16 [==============================] - 5s 208ms/step - loss: 0.2159 - accuracy: 0.9925 - val_loss: 2.0259 - val_accuracy: 0.9810\n",
            "Epoch 2/32\n",
            "16/16 [==============================] - 3s 189ms/step - loss: 0.2264 - accuracy: 0.9945 - val_loss: 1.9015 - val_accuracy: 0.9810\n",
            "Epoch 3/32\n",
            "16/16 [==============================] - 3s 189ms/step - loss: 0.1401 - accuracy: 0.9960 - val_loss: 1.8506 - val_accuracy: 0.9800\n",
            "Epoch 4/32\n",
            "16/16 [==============================] - 3s 189ms/step - loss: 0.0836 - accuracy: 0.9975 - val_loss: 1.5986 - val_accuracy: 0.9820\n",
            "Epoch 5/32\n",
            "16/16 [==============================] - 3s 169ms/step - loss: 0.1050 - accuracy: 0.9950 - val_loss: 1.7761 - val_accuracy: 0.9820\n",
            "Epoch 6/32\n",
            "16/16 [==============================] - 3s 171ms/step - loss: 0.2471 - accuracy: 0.9960 - val_loss: 1.6378 - val_accuracy: 0.9800\n",
            "Epoch 7/32\n",
            "16/16 [==============================] - 3s 169ms/step - loss: 0.1445 - accuracy: 0.9950 - val_loss: 1.9877 - val_accuracy: 0.9770\n",
            "Epoch 8/32\n",
            "16/16 [==============================] - 3s 172ms/step - loss: 0.1753 - accuracy: 0.9955 - val_loss: 1.6737 - val_accuracy: 0.9790\n",
            "Epoch 9/32\n",
            "16/16 [==============================] - 3s 172ms/step - loss: 0.0559 - accuracy: 0.9980 - val_loss: 1.9105 - val_accuracy: 0.9820\n",
            "Epoch 10/32\n",
            "16/16 [==============================] - 3s 171ms/step - loss: 0.1795 - accuracy: 0.9945 - val_loss: 2.3045 - val_accuracy: 0.9770\n",
            "Epoch 11/32\n",
            "16/16 [==============================] - 3s 171ms/step - loss: 0.1936 - accuracy: 0.9960 - val_loss: 1.8504 - val_accuracy: 0.9820\n",
            "Epoch 12/32\n",
            "16/16 [==============================] - 3s 171ms/step - loss: 0.2564 - accuracy: 0.9950 - val_loss: 1.8754 - val_accuracy: 0.9770\n",
            "Epoch 13/32\n",
            "16/16 [==============================] - 3s 171ms/step - loss: 0.2263 - accuracy: 0.9950 - val_loss: 1.8525 - val_accuracy: 0.9820\n",
            "Epoch 14/32\n",
            "16/16 [==============================] - 3s 169ms/step - loss: 0.1332 - accuracy: 0.9935 - val_loss: 1.7383 - val_accuracy: 0.9810\n",
            "Epoch 15/32\n",
            "16/16 [==============================] - 3s 172ms/step - loss: 0.0119 - accuracy: 0.9985 - val_loss: 1.8419 - val_accuracy: 0.9790\n",
            "Epoch 16/32\n",
            "16/16 [==============================] - 3s 169ms/step - loss: 0.1552 - accuracy: 0.9945 - val_loss: 1.7564 - val_accuracy: 0.9810\n",
            "Epoch 17/32\n",
            "16/16 [==============================] - 3s 170ms/step - loss: 0.0944 - accuracy: 0.9965 - val_loss: 1.7991 - val_accuracy: 0.9810\n",
            "Epoch 18/32\n",
            "16/16 [==============================] - 3s 187ms/step - loss: 0.0772 - accuracy: 0.9965 - val_loss: 1.5480 - val_accuracy: 0.9780\n",
            "Epoch 19/32\n",
            "16/16 [==============================] - 3s 172ms/step - loss: 0.1091 - accuracy: 0.9980 - val_loss: 1.8964 - val_accuracy: 0.9740\n",
            "Epoch 20/32\n",
            "16/16 [==============================] - 3s 172ms/step - loss: 0.1193 - accuracy: 0.9955 - val_loss: 1.8125 - val_accuracy: 0.9790\n",
            "Epoch 21/32\n",
            "16/16 [==============================] - 3s 170ms/step - loss: 0.3119 - accuracy: 0.9955 - val_loss: 1.8222 - val_accuracy: 0.9770\n",
            "Epoch 22/32\n",
            "16/16 [==============================] - 3s 170ms/step - loss: 0.1198 - accuracy: 0.9965 - val_loss: 1.7180 - val_accuracy: 0.9790\n",
            "Epoch 23/32\n",
            "16/16 [==============================] - 3s 171ms/step - loss: 0.0167 - accuracy: 0.9995 - val_loss: 1.5553 - val_accuracy: 0.9800\n",
            "Epoch 24/32\n",
            "16/16 [==============================] - 3s 172ms/step - loss: 0.0742 - accuracy: 0.9980 - val_loss: 1.6119 - val_accuracy: 0.9780\n",
            "Epoch 25/32\n",
            "16/16 [==============================] - 3s 171ms/step - loss: 0.2573 - accuracy: 0.9960 - val_loss: 1.8004 - val_accuracy: 0.9770\n",
            "Epoch 26/32\n",
            "16/16 [==============================] - 3s 171ms/step - loss: 0.1230 - accuracy: 0.9950 - val_loss: 1.7086 - val_accuracy: 0.9790\n",
            "Epoch 27/32\n",
            "16/16 [==============================] - 3s 171ms/step - loss: 0.1259 - accuracy: 0.9965 - val_loss: 1.7740 - val_accuracy: 0.9780\n",
            "Epoch 28/32\n",
            "16/16 [==============================] - 3s 173ms/step - loss: 0.0680 - accuracy: 0.9980 - val_loss: 1.5534 - val_accuracy: 0.9810\n",
            "Epoch 29/32\n",
            "16/16 [==============================] - 3s 171ms/step - loss: 0.0797 - accuracy: 0.9975 - val_loss: 2.3817 - val_accuracy: 0.9710\n",
            "Epoch 30/32\n",
            "16/16 [==============================] - 3s 173ms/step - loss: 0.0572 - accuracy: 0.9975 - val_loss: 1.5700 - val_accuracy: 0.9820\n",
            "Epoch 31/32\n",
            "16/16 [==============================] - 3s 170ms/step - loss: 0.0712 - accuracy: 0.9970 - val_loss: 1.6348 - val_accuracy: 0.9780\n",
            "Epoch 32/32\n",
            "16/16 [==============================] - 3s 171ms/step - loss: 0.0829 - accuracy: 0.9970 - val_loss: 1.7462 - val_accuracy: 0.9760\n"
          ]
        }
      ],
      "source": [
        "model.compile(loss=\"binary_crossentropy\",\n",
        "              optimizer=keras.optimizers.RMSprop(learning_rate=1e-5),\n",
        "              metrics=[\"accuracy\"])\n",
        "\n",
        "callbacks = [\n",
        "    keras.callbacks.ModelCheckpoint(\n",
        "        filepath=\"fine_tuning.keras\",\n",
        "        save_best_only=True,\n",
        "        monitor=\"val_loss\")\n",
        "]\n",
        "history = model.fit(\n",
        "    train_dataset,\n",
        "    epochs=32,\n",
        "    validation_data=validation_dataset,\n",
        "    callbacks=callbacks)"
      ]
    },
    {
      "cell_type": "code",
      "execution_count": 440,
      "metadata": {
        "colab": {
          "base_uri": "https://localhost:8080/"
        },
        "id": "Fzpj3KINEI4o",
        "outputId": "91026b99-03dd-489d-ba73-68c44bb4d3cf"
      },
      "outputs": [
        {
          "output_type": "stream",
          "name": "stdout",
          "text": [
            "16/16 [==============================] - 2s 70ms/step - loss: 1.8845 - accuracy: 0.9775\n",
            "Test accuracy: 0.978\n"
          ]
        }
      ],
      "source": [
        "model = keras.models.load_model(\"fine_tuning.keras\")\n",
        "test_loss, test_acc = model.evaluate(test_dataset)\n",
        "print(f\"Test accuracy: {test_acc:.3f}\")"
      ]
    }
  ],
  "metadata": {
    "colab": {
      "collapsed_sections": [],
      "name": "chapter08_intro-to-dl-for-computer-vision.i",
      "provenance": [],
      "toc_visible": true,
      "machine_shape": "hm"
    },
    "kernelspec": {
      "display_name": "Python 3",
      "language": "python",
      "name": "python3"
    },
    "language_info": {
      "codemirror_mode": {
        "name": "ipython",
        "version": 3
      },
      "file_extension": ".py",
      "mimetype": "text/x-python",
      "name": "python",
      "nbconvert_exporter": "python",
      "pygments_lexer": "ipython3",
      "version": "3.7.0"
    },
    "accelerator": "GPU",
    "gpuClass": "premium"
  },
  "nbformat": 4,
  "nbformat_minor": 0
}