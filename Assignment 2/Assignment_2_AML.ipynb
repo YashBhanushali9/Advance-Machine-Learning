{
  "nbformat": 4,
  "nbformat_minor": 0,
  "metadata": {
    "colab": {
      "provenance": [],
      "machine_shape": "hm"
    },
    "kernelspec": {
      "name": "python3",
      "display_name": "Python 3"
    },
    "language_info": {
      "name": "python"
    },
    "accelerator": "GPU",
    "gpuClass": "premium"
  },
  "cells": [
    {
      "cell_type": "markdown",
      "source": [],
      "metadata": {
        "id": "bu9XUyYDLJW3"
      }
    },
    {
      "cell_type": "markdown",
      "source": [
        "Assignment 2 - Convolution Networks to image data\n",
        "\n",
        "Downloading the data"
      ],
      "metadata": {
        "id": "2yU7du-PPN5U"
      }
    },
    {
      "cell_type": "code",
      "source": [
        "from google.colab import files\n",
        "files.upload()"
      ],
      "metadata": {
        "colab": {
          "base_uri": "https://localhost:8080/",
          "height": 74
        },
        "id": "mOtY_aGPLMAH",
        "outputId": "6b6fbe5f-40b7-4671-876a-ced0514b9b7c"
      },
      "execution_count": 1,
      "outputs": [
        {
          "output_type": "display_data",
          "data": {
            "text/plain": [
              "<IPython.core.display.HTML object>"
            ],
            "text/html": [
              "\n",
              "     <input type=\"file\" id=\"files-6d7b3fb1-dd8d-4b5f-baff-f23834f0bdc8\" name=\"files[]\" multiple disabled\n",
              "        style=\"border:none\" />\n",
              "     <output id=\"result-6d7b3fb1-dd8d-4b5f-baff-f23834f0bdc8\">\n",
              "      Upload widget is only available when the cell has been executed in the\n",
              "      current browser session. Please rerun this cell to enable.\n",
              "      </output>\n",
              "      <script>// Copyright 2017 Google LLC\n",
              "//\n",
              "// Licensed under the Apache License, Version 2.0 (the \"License\");\n",
              "// you may not use this file except in compliance with the License.\n",
              "// You may obtain a copy of the License at\n",
              "//\n",
              "//      http://www.apache.org/licenses/LICENSE-2.0\n",
              "//\n",
              "// Unless required by applicable law or agreed to in writing, software\n",
              "// distributed under the License is distributed on an \"AS IS\" BASIS,\n",
              "// WITHOUT WARRANTIES OR CONDITIONS OF ANY KIND, either express or implied.\n",
              "// See the License for the specific language governing permissions and\n",
              "// limitations under the License.\n",
              "\n",
              "/**\n",
              " * @fileoverview Helpers for google.colab Python module.\n",
              " */\n",
              "(function(scope) {\n",
              "function span(text, styleAttributes = {}) {\n",
              "  const element = document.createElement('span');\n",
              "  element.textContent = text;\n",
              "  for (const key of Object.keys(styleAttributes)) {\n",
              "    element.style[key] = styleAttributes[key];\n",
              "  }\n",
              "  return element;\n",
              "}\n",
              "\n",
              "// Max number of bytes which will be uploaded at a time.\n",
              "const MAX_PAYLOAD_SIZE = 100 * 1024;\n",
              "\n",
              "function _uploadFiles(inputId, outputId) {\n",
              "  const steps = uploadFilesStep(inputId, outputId);\n",
              "  const outputElement = document.getElementById(outputId);\n",
              "  // Cache steps on the outputElement to make it available for the next call\n",
              "  // to uploadFilesContinue from Python.\n",
              "  outputElement.steps = steps;\n",
              "\n",
              "  return _uploadFilesContinue(outputId);\n",
              "}\n",
              "\n",
              "// This is roughly an async generator (not supported in the browser yet),\n",
              "// where there are multiple asynchronous steps and the Python side is going\n",
              "// to poll for completion of each step.\n",
              "// This uses a Promise to block the python side on completion of each step,\n",
              "// then passes the result of the previous step as the input to the next step.\n",
              "function _uploadFilesContinue(outputId) {\n",
              "  const outputElement = document.getElementById(outputId);\n",
              "  const steps = outputElement.steps;\n",
              "\n",
              "  const next = steps.next(outputElement.lastPromiseValue);\n",
              "  return Promise.resolve(next.value.promise).then((value) => {\n",
              "    // Cache the last promise value to make it available to the next\n",
              "    // step of the generator.\n",
              "    outputElement.lastPromiseValue = value;\n",
              "    return next.value.response;\n",
              "  });\n",
              "}\n",
              "\n",
              "/**\n",
              " * Generator function which is called between each async step of the upload\n",
              " * process.\n",
              " * @param {string} inputId Element ID of the input file picker element.\n",
              " * @param {string} outputId Element ID of the output display.\n",
              " * @return {!Iterable<!Object>} Iterable of next steps.\n",
              " */\n",
              "function* uploadFilesStep(inputId, outputId) {\n",
              "  const inputElement = document.getElementById(inputId);\n",
              "  inputElement.disabled = false;\n",
              "\n",
              "  const outputElement = document.getElementById(outputId);\n",
              "  outputElement.innerHTML = '';\n",
              "\n",
              "  const pickedPromise = new Promise((resolve) => {\n",
              "    inputElement.addEventListener('change', (e) => {\n",
              "      resolve(e.target.files);\n",
              "    });\n",
              "  });\n",
              "\n",
              "  const cancel = document.createElement('button');\n",
              "  inputElement.parentElement.appendChild(cancel);\n",
              "  cancel.textContent = 'Cancel upload';\n",
              "  const cancelPromise = new Promise((resolve) => {\n",
              "    cancel.onclick = () => {\n",
              "      resolve(null);\n",
              "    };\n",
              "  });\n",
              "\n",
              "  // Wait for the user to pick the files.\n",
              "  const files = yield {\n",
              "    promise: Promise.race([pickedPromise, cancelPromise]),\n",
              "    response: {\n",
              "      action: 'starting',\n",
              "    }\n",
              "  };\n",
              "\n",
              "  cancel.remove();\n",
              "\n",
              "  // Disable the input element since further picks are not allowed.\n",
              "  inputElement.disabled = true;\n",
              "\n",
              "  if (!files) {\n",
              "    return {\n",
              "      response: {\n",
              "        action: 'complete',\n",
              "      }\n",
              "    };\n",
              "  }\n",
              "\n",
              "  for (const file of files) {\n",
              "    const li = document.createElement('li');\n",
              "    li.append(span(file.name, {fontWeight: 'bold'}));\n",
              "    li.append(span(\n",
              "        `(${file.type || 'n/a'}) - ${file.size} bytes, ` +\n",
              "        `last modified: ${\n",
              "            file.lastModifiedDate ? file.lastModifiedDate.toLocaleDateString() :\n",
              "                                    'n/a'} - `));\n",
              "    const percent = span('0% done');\n",
              "    li.appendChild(percent);\n",
              "\n",
              "    outputElement.appendChild(li);\n",
              "\n",
              "    const fileDataPromise = new Promise((resolve) => {\n",
              "      const reader = new FileReader();\n",
              "      reader.onload = (e) => {\n",
              "        resolve(e.target.result);\n",
              "      };\n",
              "      reader.readAsArrayBuffer(file);\n",
              "    });\n",
              "    // Wait for the data to be ready.\n",
              "    let fileData = yield {\n",
              "      promise: fileDataPromise,\n",
              "      response: {\n",
              "        action: 'continue',\n",
              "      }\n",
              "    };\n",
              "\n",
              "    // Use a chunked sending to avoid message size limits. See b/62115660.\n",
              "    let position = 0;\n",
              "    do {\n",
              "      const length = Math.min(fileData.byteLength - position, MAX_PAYLOAD_SIZE);\n",
              "      const chunk = new Uint8Array(fileData, position, length);\n",
              "      position += length;\n",
              "\n",
              "      const base64 = btoa(String.fromCharCode.apply(null, chunk));\n",
              "      yield {\n",
              "        response: {\n",
              "          action: 'append',\n",
              "          file: file.name,\n",
              "          data: base64,\n",
              "        },\n",
              "      };\n",
              "\n",
              "      let percentDone = fileData.byteLength === 0 ?\n",
              "          100 :\n",
              "          Math.round((position / fileData.byteLength) * 100);\n",
              "      percent.textContent = `${percentDone}% done`;\n",
              "\n",
              "    } while (position < fileData.byteLength);\n",
              "  }\n",
              "\n",
              "  // All done.\n",
              "  yield {\n",
              "    response: {\n",
              "      action: 'complete',\n",
              "    }\n",
              "  };\n",
              "}\n",
              "\n",
              "scope.google = scope.google || {};\n",
              "scope.google.colab = scope.google.colab || {};\n",
              "scope.google.colab._files = {\n",
              "  _uploadFiles,\n",
              "  _uploadFilesContinue,\n",
              "};\n",
              "})(self);\n",
              "</script> "
            ]
          },
          "metadata": {}
        },
        {
          "output_type": "stream",
          "name": "stdout",
          "text": [
            "Saving dogs-vs-cats.zip to dogs-vs-cats.zip\n"
          ]
        }
      ]
    },
    {
      "cell_type": "markdown",
      "source": [
        "Upload widget is only available when the cell has been executed in the current browser session. Please rerun this cell to enable.\n",
        "Saving dogs-vs-cats.zip to dogs-vs-cats.zip"
      ],
      "metadata": {
        "id": "6kUIncMtLOC1"
      }
    },
    {
      "cell_type": "code",
      "source": [
        "!unzip -qq dogs-vs-cats.zip\n",
        "!unzip -qq train.zip\n",
        "!unzip -qq test1.zip"
      ],
      "metadata": {
        "id": "3lkMD4fALcqP"
      },
      "execution_count": 2,
      "outputs": []
    },
    {
      "cell_type": "markdown",
      "source": [
        "1. Consider the Cats & Dogs example. Start initially with a training sample of 1000, a validation\n",
        "sample of 500, and a test sample of 500 (like in the text). Use any technique to reduce overfitting and improve performance in developing a network that you train from scratch. What performance did you achieve?\n",
        "\n"
      ],
      "metadata": {
        "id": "BdBgXEmqLemd"
      }
    },
    {
      "cell_type": "code",
      "source": [
        "import os, shutil, pathlib\n",
        "\n",
        "original_dir = pathlib.Path(\"train\")\n",
        "new_base_dir = pathlib.Path(\"cats_vs_dogs_small\")\n",
        "\n",
        "def make_subset(subset_name, start_index, end_index):\n",
        "    for category in (\"cat\", \"dog\"):\n",
        "        dir = new_base_dir / subset_name / category\n",
        "        os.makedirs(dir)\n",
        "        fnames = [f\"{category}.{i}.jpg\" for i in range(start_index, end_index)]\n",
        "        for fname in fnames:\n",
        "            shutil.copyfile(src=original_dir / fname,\n",
        "                            dst=dir / fname)\n",
        "\n",
        "\n",
        "# Training has 1000 samples, test has 500 samples and validation has 500 samples.\n",
        "\n",
        "make_subset(\"train\", start_index=0, end_index=1000)\n",
        "make_subset(\"validation\", start_index=1000, end_index=1500)\n",
        "make_subset(\"test\", start_index=1500, end_index=2000)"
      ],
      "metadata": {
        "id": "mrAK3nugLjpZ"
      },
      "execution_count": 3,
      "outputs": []
    },
    {
      "cell_type": "markdown",
      "source": [
        "Data Preprocessing\n",
        "\n",
        "Data Preprocessing An integral step in machine learning as the quality of the data and the useful information that can be derived from it directly affects the ability of our model to learn. 1.Read the pictures 2.Convert JPEG content into RGB grid of pixels\n",
        "\n",
        "Convert RGB grid of pixels into floating point tensors Resize them Make them into batches\n",
        "\n",
        "Using image_dataset_from_directory to read images"
      ],
      "metadata": {
        "id": "qLUE-qu7LoaX"
      }
    },
    {
      "cell_type": "code",
      "source": [
        "from tensorflow.keras.utils import image_dataset_from_directory\n",
        "\n",
        "train_dataset = image_dataset_from_directory(\n",
        "    new_base_dir / \"train\",\n",
        "    image_size=(180, 180),\n",
        "    batch_size=32)\n",
        "validation_dataset = image_dataset_from_directory(\n",
        "    new_base_dir / \"validation\",\n",
        "    image_size=(180, 180),\n",
        "    batch_size=32)\n",
        "test_dataset = image_dataset_from_directory(\n",
        "    new_base_dir / \"test\",\n",
        "    image_size=(180, 180),\n",
        "    batch_size=32)"
      ],
      "metadata": {
        "colab": {
          "base_uri": "https://localhost:8080/"
        },
        "id": "MjEJ5S48LpJ-",
        "outputId": "4d4fafa3-7387-4fbc-ebbb-ff3374cb7694"
      },
      "execution_count": 4,
      "outputs": [
        {
          "output_type": "stream",
          "name": "stdout",
          "text": [
            "Found 2000 files belonging to 2 classes.\n",
            "Found 1000 files belonging to 2 classes.\n",
            "Found 1000 files belonging to 2 classes.\n"
          ]
        }
      ]
    },
    {
      "cell_type": "markdown",
      "source": [
        "Found 2000 files belonging to 2 classes.\n",
        "Found 1000 files belonging to 2 classes.\n",
        "Found 1000 files belonging to 2 classes.\n",
        "Create a dataset instance from NumPy array of random numbers of 1000 samples and each sample of vector size 16"
      ],
      "metadata": {
        "id": "LF8D3-wMLrv4"
      }
    },
    {
      "cell_type": "code",
      "source": [
        "import numpy as np\n",
        "import tensorflow as tf\n",
        "random_numbers = np.random.normal(size=(1000, 16))\n",
        "dataset = tf.data.Dataset.from_tensor_slices(random_numbers)"
      ],
      "metadata": {
        "id": "deyCBEI3LvWE"
      },
      "execution_count": 5,
      "outputs": []
    },
    {
      "cell_type": "code",
      "source": [
        "for i, element in enumerate(dataset):\n",
        "    print(element.shape)\n",
        "    if i >= 2:\n",
        "        break"
      ],
      "metadata": {
        "colab": {
          "base_uri": "https://localhost:8080/"
        },
        "id": "DXnJWQLeL3QE",
        "outputId": "896a1556-5aec-4ec5-e0f7-d31a4b3a27f0"
      },
      "execution_count": 6,
      "outputs": [
        {
          "output_type": "stream",
          "name": "stdout",
          "text": [
            "(16,)\n",
            "(16,)\n",
            "(16,)\n"
          ]
        }
      ]
    },
    {
      "cell_type": "markdown",
      "source": [
        "(16,)\n",
        "(16,)\n",
        "(16,)\n",
        "Batch size of 32"
      ],
      "metadata": {
        "id": "kl9ZgR-6L6Sm"
      }
    },
    {
      "cell_type": "markdown",
      "source": [],
      "metadata": {
        "id": "_7-M6NMcLeiU"
      }
    },
    {
      "cell_type": "code",
      "source": [
        "reshaped_dataset = dataset.map(lambda x: tf.reshape(x, (4, 4)))\n",
        "for i, element in enumerate(reshaped_dataset):\n",
        "    print(element.shape)\n",
        "    if i >= 2:\n",
        "        break"
      ],
      "metadata": {
        "colab": {
          "base_uri": "https://localhost:8080/"
        },
        "id": "qmPV8Dv3L8si",
        "outputId": "0eb8c1e0-3eb8-4a00-f7b3-d835d8b3ec92"
      },
      "execution_count": 7,
      "outputs": [
        {
          "output_type": "stream",
          "name": "stdout",
          "text": [
            "(4, 4)\n",
            "(4, 4)\n",
            "(4, 4)\n"
          ]
        }
      ]
    },
    {
      "cell_type": "markdown",
      "source": [
        "(4, 4)\n",
        "(4, 4)\n",
        "(4, 4)\n",
        "Displaying the shapes of the data and labels yielded by the Dataset\n",
        "\n"
      ],
      "metadata": {
        "id": "Tc1dNDWEME9u"
      }
    },
    {
      "cell_type": "code",
      "source": [
        "for data_batch, labels_batch in train_dataset:\n",
        "    print(\"data batch shape:\", data_batch.shape)\n",
        "    print(\"labels batch shape:\", labels_batch.shape)\n",
        "    break"
      ],
      "metadata": {
        "colab": {
          "base_uri": "https://localhost:8080/"
        },
        "id": "u3xiv-GPMGrD",
        "outputId": "490c378e-5c34-4f10-f469-1643d1170bb6"
      },
      "execution_count": 8,
      "outputs": [
        {
          "output_type": "stream",
          "name": "stdout",
          "text": [
            "data batch shape: (32, 180, 180, 3)\n",
            "labels batch shape: (32,)\n"
          ]
        }
      ]
    },
    {
      "cell_type": "markdown",
      "source": [
        "data batch shape: (32, 180, 180, 3)\n",
        "labels batch shape: (32,)\n",
        "Building the model\n",
        "\n",
        "Instantiating a small convnet for dogs vs. cats classification"
      ],
      "metadata": {
        "id": "i2g_U32yMLS6"
      }
    },
    {
      "cell_type": "code",
      "source": [
        "from tensorflow import keras\n",
        "from tensorflow.keras import layers\n",
        "\n",
        "inputs = keras.Input(shape=(180, 180, 3))\n",
        "x = layers.Rescaling(1./255)(inputs)\n",
        "x = layers.Conv2D(filters=32, kernel_size=3, activation=\"relu\")(x)\n",
        "x = layers.MaxPooling2D(pool_size=2)(x)\n",
        "x = layers.Conv2D(filters=64, kernel_size=3, activation=\"relu\")(x)\n",
        "x = layers.MaxPooling2D(pool_size=2)(x)\n",
        "x = layers.Conv2D(filters=128, kernel_size=3, activation=\"relu\")(x)\n",
        "x = layers.MaxPooling2D(pool_size=2)(x)\n",
        "x = layers.Conv2D(filters=256, kernel_size=3, activation=\"relu\")(x)\n",
        "x = layers.MaxPooling2D(pool_size=2)(x)\n",
        "x = layers.Conv2D(filters=256, kernel_size=3, activation=\"relu\")(x)\n",
        "x = layers.Flatten()(x)\n",
        "x = layers.Dropout(0.5)(x)\n",
        "outputs = layers.Dense(1, activation=\"sigmoid\")(x)\n",
        "model = keras.Model(inputs=inputs, outputs=outputs)"
      ],
      "metadata": {
        "id": "fBRWuR8rML_L"
      },
      "execution_count": 9,
      "outputs": []
    },
    {
      "cell_type": "markdown",
      "source": [
        "Configuring the model for training"
      ],
      "metadata": {
        "id": "JYz2Me4DMQm_"
      }
    },
    {
      "cell_type": "code",
      "source": [
        "model.compile(loss=\"binary_crossentropy\",\n",
        "              optimizer=\"adam\",\n",
        "              metrics=[\"accuracy\"])"
      ],
      "metadata": {
        "id": "5LRcMOo9MRai"
      },
      "execution_count": 10,
      "outputs": []
    },
    {
      "cell_type": "markdown",
      "source": [
        "After compiling the model, we train it on the training dataset, validating the results at the end of each epoch with the validation dataset. I'm making use of GPU to reduce the amount of time each epoch takes in execution."
      ],
      "metadata": {
        "id": "tIJVbDZHMTRB"
      }
    },
    {
      "cell_type": "code",
      "source": [
        "model.summary()"
      ],
      "metadata": {
        "colab": {
          "base_uri": "https://localhost:8080/"
        },
        "id": "ap2GSsmwMVK5",
        "outputId": "2c2e2130-a3ab-4c71-cc47-f441ca85760c"
      },
      "execution_count": 11,
      "outputs": [
        {
          "output_type": "stream",
          "name": "stdout",
          "text": [
            "Model: \"model\"\n",
            "_________________________________________________________________\n",
            " Layer (type)                Output Shape              Param #   \n",
            "=================================================================\n",
            " input_1 (InputLayer)        [(None, 180, 180, 3)]     0         \n",
            "                                                                 \n",
            " rescaling (Rescaling)       (None, 180, 180, 3)       0         \n",
            "                                                                 \n",
            " conv2d (Conv2D)             (None, 178, 178, 32)      896       \n",
            "                                                                 \n",
            " max_pooling2d (MaxPooling2D  (None, 89, 89, 32)       0         \n",
            " )                                                               \n",
            "                                                                 \n",
            " conv2d_1 (Conv2D)           (None, 87, 87, 64)        18496     \n",
            "                                                                 \n",
            " max_pooling2d_1 (MaxPooling  (None, 43, 43, 64)       0         \n",
            " 2D)                                                             \n",
            "                                                                 \n",
            " conv2d_2 (Conv2D)           (None, 41, 41, 128)       73856     \n",
            "                                                                 \n",
            " max_pooling2d_2 (MaxPooling  (None, 20, 20, 128)      0         \n",
            " 2D)                                                             \n",
            "                                                                 \n",
            " conv2d_3 (Conv2D)           (None, 18, 18, 256)       295168    \n",
            "                                                                 \n",
            " max_pooling2d_3 (MaxPooling  (None, 9, 9, 256)        0         \n",
            " 2D)                                                             \n",
            "                                                                 \n",
            " conv2d_4 (Conv2D)           (None, 7, 7, 256)         590080    \n",
            "                                                                 \n",
            " flatten (Flatten)           (None, 12544)             0         \n",
            "                                                                 \n",
            " dropout (Dropout)           (None, 12544)             0         \n",
            "                                                                 \n",
            " dense (Dense)               (None, 1)                 12545     \n",
            "                                                                 \n",
            "=================================================================\n",
            "Total params: 991,041\n",
            "Trainable params: 991,041\n",
            "Non-trainable params: 0\n",
            "_________________________________________________________________\n"
          ]
        }
      ]
    },
    {
      "cell_type": "markdown",
      "source": [
        "Fitting the model using a Dataset"
      ],
      "metadata": {
        "id": "D1sRWcQTMa5D"
      }
    },
    {
      "cell_type": "code",
      "source": [
        "from keras.callbacks import ModelCheckpoint, EarlyStopping\n",
        "\n",
        "callbacks = [\n",
        "    keras.callbacks.ModelCheckpoint(\n",
        "        filepath=\"convnet_from_scratch.keras\",\n",
        "        save_best_only=True,\n",
        "        monitor=\"val_loss\")\n",
        "]\n",
        "history = model.fit(\n",
        "    train_dataset,\n",
        "    epochs=30,\n",
        "    validation_data=validation_dataset,\n",
        "    callbacks=callbacks)\n"
      ],
      "metadata": {
        "colab": {
          "base_uri": "https://localhost:8080/"
        },
        "id": "hZ1JnL4GMehV",
        "outputId": "c66b2f9a-b180-409d-864a-25062152c14d"
      },
      "execution_count": 13,
      "outputs": [
        {
          "output_type": "stream",
          "name": "stdout",
          "text": [
            "Epoch 1/30\n",
            "63/63 [==============================] - 6s 92ms/step - loss: 0.6725 - accuracy: 0.6030 - val_loss: 0.6656 - val_accuracy: 0.6010\n",
            "Epoch 2/30\n",
            "63/63 [==============================] - 3s 48ms/step - loss: 0.6421 - accuracy: 0.6540 - val_loss: 0.6609 - val_accuracy: 0.6240\n",
            "Epoch 3/30\n",
            "63/63 [==============================] - 4s 52ms/step - loss: 0.6330 - accuracy: 0.6550 - val_loss: 0.6536 - val_accuracy: 0.6240\n",
            "Epoch 4/30\n",
            "63/63 [==============================] - 3s 44ms/step - loss: 0.5999 - accuracy: 0.6870 - val_loss: 0.6037 - val_accuracy: 0.6720\n",
            "Epoch 5/30\n",
            "63/63 [==============================] - 3s 47ms/step - loss: 0.5674 - accuracy: 0.7035 - val_loss: 0.5846 - val_accuracy: 0.6900\n",
            "Epoch 6/30\n",
            "63/63 [==============================] - 3s 45ms/step - loss: 0.5219 - accuracy: 0.7305 - val_loss: 0.5873 - val_accuracy: 0.6980\n",
            "Epoch 7/30\n",
            "63/63 [==============================] - 3s 48ms/step - loss: 0.4826 - accuracy: 0.7635 - val_loss: 0.5663 - val_accuracy: 0.6990\n",
            "Epoch 8/30\n",
            "63/63 [==============================] - 4s 57ms/step - loss: 0.4457 - accuracy: 0.7985 - val_loss: 0.5557 - val_accuracy: 0.7160\n",
            "Epoch 9/30\n",
            "63/63 [==============================] - 4s 63ms/step - loss: 0.3926 - accuracy: 0.8180 - val_loss: 0.5836 - val_accuracy: 0.7190\n",
            "Epoch 10/30\n",
            "63/63 [==============================] - 4s 66ms/step - loss: 0.3495 - accuracy: 0.8410 - val_loss: 0.6247 - val_accuracy: 0.7230\n",
            "Epoch 11/30\n",
            "63/63 [==============================] - 6s 84ms/step - loss: 0.2884 - accuracy: 0.8760 - val_loss: 0.7979 - val_accuracy: 0.6900\n",
            "Epoch 12/30\n",
            "63/63 [==============================] - 6s 84ms/step - loss: 0.2526 - accuracy: 0.8950 - val_loss: 0.6357 - val_accuracy: 0.7210\n",
            "Epoch 13/30\n",
            "63/63 [==============================] - 5s 83ms/step - loss: 0.2162 - accuracy: 0.9105 - val_loss: 0.7542 - val_accuracy: 0.7140\n",
            "Epoch 14/30\n",
            "63/63 [==============================] - 6s 90ms/step - loss: 0.1634 - accuracy: 0.9305 - val_loss: 0.8210 - val_accuracy: 0.7190\n",
            "Epoch 15/30\n",
            "63/63 [==============================] - 6s 85ms/step - loss: 0.1431 - accuracy: 0.9390 - val_loss: 0.8881 - val_accuracy: 0.7390\n",
            "Epoch 16/30\n",
            "63/63 [==============================] - 6s 82ms/step - loss: 0.1253 - accuracy: 0.9515 - val_loss: 0.9016 - val_accuracy: 0.7540\n",
            "Epoch 17/30\n",
            "63/63 [==============================] - 6s 86ms/step - loss: 0.1013 - accuracy: 0.9635 - val_loss: 0.9078 - val_accuracy: 0.7530\n",
            "Epoch 18/30\n",
            "63/63 [==============================] - 6s 88ms/step - loss: 0.0922 - accuracy: 0.9660 - val_loss: 0.9332 - val_accuracy: 0.7410\n",
            "Epoch 19/30\n",
            "63/63 [==============================] - 6s 88ms/step - loss: 0.0684 - accuracy: 0.9755 - val_loss: 0.8998 - val_accuracy: 0.7380\n",
            "Epoch 20/30\n",
            "63/63 [==============================] - 6s 82ms/step - loss: 0.0534 - accuracy: 0.9790 - val_loss: 1.0297 - val_accuracy: 0.7480\n",
            "Epoch 21/30\n",
            "63/63 [==============================] - 6s 88ms/step - loss: 0.0478 - accuracy: 0.9835 - val_loss: 1.2600 - val_accuracy: 0.7220\n",
            "Epoch 22/30\n",
            "63/63 [==============================] - 6s 89ms/step - loss: 0.0321 - accuracy: 0.9885 - val_loss: 1.3410 - val_accuracy: 0.7350\n",
            "Epoch 23/30\n",
            "63/63 [==============================] - 6s 85ms/step - loss: 0.0763 - accuracy: 0.9740 - val_loss: 1.1802 - val_accuracy: 0.7470\n",
            "Epoch 24/30\n",
            "63/63 [==============================] - 5s 79ms/step - loss: 0.0385 - accuracy: 0.9870 - val_loss: 1.1752 - val_accuracy: 0.7600\n",
            "Epoch 25/30\n",
            "63/63 [==============================] - 5s 77ms/step - loss: 0.0199 - accuracy: 0.9935 - val_loss: 1.3603 - val_accuracy: 0.7550\n",
            "Epoch 26/30\n",
            "63/63 [==============================] - 6s 93ms/step - loss: 0.0208 - accuracy: 0.9915 - val_loss: 1.2712 - val_accuracy: 0.7550\n",
            "Epoch 27/30\n",
            "63/63 [==============================] - 6s 88ms/step - loss: 0.0374 - accuracy: 0.9825 - val_loss: 1.7251 - val_accuracy: 0.7180\n",
            "Epoch 28/30\n",
            "63/63 [==============================] - 6s 88ms/step - loss: 0.0493 - accuracy: 0.9830 - val_loss: 1.2657 - val_accuracy: 0.7460\n",
            "Epoch 29/30\n",
            "63/63 [==============================] - 6s 88ms/step - loss: 0.0370 - accuracy: 0.9890 - val_loss: 1.3533 - val_accuracy: 0.7430\n",
            "Epoch 30/30\n",
            "63/63 [==============================] - 6s 87ms/step - loss: 0.0297 - accuracy: 0.9895 - val_loss: 1.5034 - val_accuracy: 0.7270\n"
          ]
        }
      ]
    },
    {
      "cell_type": "markdown",
      "source": [
        "Evaluating the model on the test set"
      ],
      "metadata": {
        "id": "16KOd7yNMjcd"
      }
    },
    {
      "cell_type": "code",
      "source": [
        "import matplotlib.pyplot as plt\n",
        "\n",
        "plt.figure(figsize=(10, 10))\n",
        "accuracy = history.history[\"accuracy\"]\n",
        "val_accuracy = history.history[\"val_accuracy\"]\n",
        "loss = history.history[\"loss\"]\n",
        "val_loss = history.history[\"val_loss\"]\n",
        "epochs = range(1, len(accuracy) + 1)\n",
        "plt.plot(epochs, accuracy, \"bo\", label=\"Training accuracy\")\n",
        "plt.plot(epochs, val_accuracy, \"b\", label=\"Validation accuracy\")\n",
        "plt.title(\"Training and validation accuracy\")\n",
        "plt.legend()\n",
        "plt.figure()\n",
        "plt.figure(figsize=(10, 10))\n",
        "plt.plot(epochs, loss, \"bo\", label=\"Training loss\")\n",
        "plt.plot(epochs, val_loss, \"b\", label=\"Validation loss\")\n",
        "plt.title(\"Training and validation loss\")\n",
        "plt.legend()\n",
        "plt.show()"
      ],
      "metadata": {
        "colab": {
          "base_uri": "https://localhost:8080/",
          "height": 1000
        },
        "id": "lQtgnsIrNL63",
        "outputId": "a5d5e4c8-6a4c-4997-e7d9-c389550a8c41"
      },
      "execution_count": 18,
      "outputs": [
        {
          "output_type": "display_data",
          "data": {
            "text/plain": [
              "<Figure size 720x720 with 1 Axes>"
            ],
            "image/png": "[encoded data removed]"
          },
          "metadata": {
            "needs_background": "light"
          }
        },
        {
          "output_type": "display_data",
          "data": {
            "text/plain": [
              "<Figure size 432x288 with 0 Axes>"
            ]
          },
          "metadata": {}
        },
        {
          "output_type": "display_data",
          "data": {
            "text/plain": [
              "<Figure size 720x720 with 1 Axes>"
            ],
            "image/png": "[encoded data removed]"
          },
          "metadata": {
            "needs_background": "light"
          }
        }
      ]
    },
    {
      "cell_type": "code",
      "source": [
        "test_model = keras.models.load_model(\"convnet_from_scratch.keras\")\n",
        "test_loss, test_acc = test_model.evaluate(test_dataset)\n",
        "print(f\"Test accuracy: {test_acc:.3f}\")"
      ],
      "metadata": {
        "colab": {
          "base_uri": "https://localhost:8080/"
        },
        "id": "UDmZ-4WHMkHK",
        "outputId": "ce7e0327-55a9-4593-996b-95ba01d9687a"
      },
      "execution_count": 19,
      "outputs": [
        {
          "output_type": "stream",
          "name": "stdout",
          "text": [
            "32/32 [==============================] - 2s 56ms/step - loss: 0.5628 - accuracy: 0.7280\n",
            "Test accuracy: 0.728\n"
          ]
        }
      ]
    },
    {
      "cell_type": "markdown",
      "source": [
        "Increase your training sample size. You may pick any amount. Keep the validation and test\n",
        "samples the same as above. Optimize your network (again training from scratch). What performance did you achieve?\n",
        "\n",
        "Define a data augmentation stage to add to an image model"
      ],
      "metadata": {
        "id": "OUrD6mUBMsBZ"
      }
    },
    {
      "cell_type": "code",
      "source": [
        "import os, shutil, pathlib\n",
        "\n",
        "shutil.rmtree(\"./cats_vs_dogs_small_Q2\", ignore_errors=True)\n",
        "\n",
        "original_dir = pathlib.Path(\"train\")\n",
        "new_base_dir = pathlib.Path(\"cats_vs_dogs_small_Q2\")\n",
        "\n",
        "def make_subset(subset_name, start_index, end_index):\n",
        "    for category in (\"cat\", \"dog\"):\n",
        "        dir = new_base_dir / subset_name / category\n",
        "        os.makedirs(dir)\n",
        "        fnames = [f\"{category}.{i}.jpg\" for i in range(start_index, end_index)]\n",
        "        for fname in fnames:\n",
        "            shutil.copyfile(src=original_dir / fname,\n",
        "                            dst=dir / fname)\n",
        "#Creating training, Test and validation sets.\n",
        "#Training has 2000 samples, test has 500 samples and validation has 500 samples.\n",
        "make_subset(\"train\", start_index=0, end_index=1800)\n",
        "make_subset(\"validation\", start_index=1800, end_index=2300)\n",
        "make_subset(\"test\", start_index=2300, end_index=2800)"
      ],
      "metadata": {
        "id": "G9VIroMKMsgI"
      },
      "execution_count": 20,
      "outputs": []
    },
    {
      "cell_type": "code",
      "source": [
        "data_augmentation = keras.Sequential(\n",
        "    [\n",
        "        layers.RandomFlip(\"horizontal\"),\n",
        "        layers.RandomRotation(0.1),\n",
        "        layers.RandomZoom(0.2),\n",
        "    ]\n",
        ")"
      ],
      "metadata": {
        "id": "Eyl56hfPMux_"
      },
      "execution_count": 21,
      "outputs": []
    },
    {
      "cell_type": "markdown",
      "source": [
        "Displaying some randomly augmented training images"
      ],
      "metadata": {
        "id": "4YokneF_MzKb"
      }
    },
    {
      "cell_type": "code",
      "source": [
        "plt.figure(figsize=(10, 10))\n",
        "for images, _ in train_dataset.take(1):\n",
        "    for i in range(9):\n",
        "        augmented_images = data_augmentation(images)\n",
        "        ax = plt.subplot(3, 3, i + 1)\n",
        "        plt.imshow(augmented_images[0].numpy().astype(\"uint8\"))\n",
        "        plt.axis(\"off\")"
      ],
      "metadata": {
        "colab": {
          "base_uri": "https://localhost:8080/",
          "height": 575
        },
        "id": "mfd9-mrfMzsz",
        "outputId": "af036b3c-25aa-4c12-b1e3-a3e7b425089d"
      },
      "execution_count": 22,
      "outputs": [
        {
          "output_type": "display_data",
          "data": {
            "text/plain": [
              "<Figure size 720x720 with 9 Axes>"
            ],
            "image/png": "[encoded data removed]"
          },
          "metadata": {
            "needs_background": "light"
          }
        }
      ]
    },
    {
      "cell_type": "markdown",
      "source": [
        "Defining a new convnet that includes image augmentation and dropout"
      ],
      "metadata": {
        "id": "t27743l3M4G3"
      }
    },
    {
      "cell_type": "code",
      "source": [
        "inputs = keras.Input(shape=(180, 180, 3))\n",
        "x = data_augmentation(inputs)\n",
        "x = layers.Rescaling(1./255)(x)\n",
        "x = layers.Conv2D(filters=32, kernel_size=5, activation=\"relu\")(x)\n",
        "x = layers.MaxPooling2D(pool_size=2)(x)\n",
        "x = layers.Conv2D(filters=64, kernel_size=5, activation=\"relu\")(x)\n",
        "x = layers.MaxPooling2D(pool_size=2)(x)\n",
        "x = layers.Conv2D(filters=128, kernel_size=5, activation=\"relu\")(x)\n",
        "x = layers.MaxPooling2D(pool_size=2)(x)\n",
        "x = layers.Conv2D(filters=256, kernel_size=5, activation=\"relu\")(x)\n",
        "x = layers.MaxPooling2D(pool_size=2)(x)\n",
        "x = layers.Conv2D(filters=512, kernel_size=5, activation=\"relu\")(x)\n",
        "x = layers.Flatten()(x)\n",
        "x = layers.Dropout(0.5)(x)\n",
        "outputs = layers.Dense(1, activation=\"sigmoid\")(x)\n",
        "model = keras.Model(inputs=inputs, outputs=outputs)\n",
        "\n",
        "model.compile(loss=\"binary_crossentropy\",\n",
        "              optimizer=\"adam\",\n",
        "              metrics=[\"accuracy\"])"
      ],
      "metadata": {
        "id": "sxqyF0MfM4n6"
      },
      "execution_count": 23,
      "outputs": []
    },
    {
      "cell_type": "markdown",
      "source": [
        "Training the regularized convnet\n",
        "\n"
      ],
      "metadata": {
        "id": "BfKbmutfM6zh"
      }
    },
    {
      "cell_type": "code",
      "source": [
        "callbacks = [\n",
        "    keras.callbacks.ModelCheckpoint(\n",
        "        filepath=\"convnet_from_scratch_with_augmentation.keras\",\n",
        "        save_best_only=True,\n",
        "        monitor=\"val_loss\")\n",
        "]\n",
        "history = model.fit(\n",
        "    train_dataset,\n",
        "    epochs=50,\n",
        "    validation_data=validation_dataset,\n",
        "    callbacks=callbacks)"
      ],
      "metadata": {
        "colab": {
          "base_uri": "https://localhost:8080/"
        },
        "id": "0eruwM8tM8to",
        "outputId": "9eaf8bac-5eb0-43af-c7f4-d59c767f3989"
      },
      "execution_count": 24,
      "outputs": [
        {
          "output_type": "stream",
          "name": "stdout",
          "text": [
            "Epoch 1/50\n",
            "63/63 [==============================] - 11s 124ms/step - loss: 0.7100 - accuracy: 0.5165 - val_loss: 0.6931 - val_accuracy: 0.5000\n",
            "Epoch 2/50\n",
            "63/63 [==============================] - 12s 172ms/step - loss: 0.6938 - accuracy: 0.5020 - val_loss: 0.6928 - val_accuracy: 0.5000\n",
            "Epoch 3/50\n",
            "63/63 [==============================] - 11s 167ms/step - loss: 0.6915 - accuracy: 0.5025 - val_loss: 0.6822 - val_accuracy: 0.5700\n",
            "Epoch 4/50\n",
            "63/63 [==============================] - 13s 191ms/step - loss: 0.6886 - accuracy: 0.5425 - val_loss: 0.6925 - val_accuracy: 0.5070\n",
            "Epoch 5/50\n",
            "63/63 [==============================] - 9s 136ms/step - loss: 0.6877 - accuracy: 0.5415 - val_loss: 0.6871 - val_accuracy: 0.5470\n",
            "Epoch 6/50\n",
            "63/63 [==============================] - 10s 147ms/step - loss: 0.6913 - accuracy: 0.5000 - val_loss: 0.6931 - val_accuracy: 0.5010\n",
            "Epoch 7/50\n",
            "63/63 [==============================] - 9s 127ms/step - loss: 0.6940 - accuracy: 0.4910 - val_loss: 0.6931 - val_accuracy: 0.5010\n",
            "Epoch 8/50\n",
            "63/63 [==============================] - 10s 142ms/step - loss: 0.6937 - accuracy: 0.4800 - val_loss: 0.6931 - val_accuracy: 0.5000\n",
            "Epoch 9/50\n",
            "63/63 [==============================] - 11s 153ms/step - loss: 0.6932 - accuracy: 0.4950 - val_loss: 0.6930 - val_accuracy: 0.5040\n",
            "Epoch 10/50\n",
            "63/63 [==============================] - 12s 178ms/step - loss: 0.6927 - accuracy: 0.5005 - val_loss: 0.6884 - val_accuracy: 0.5170\n",
            "Epoch 11/50\n",
            "63/63 [==============================] - 13s 184ms/step - loss: 0.6855 - accuracy: 0.5265 - val_loss: 0.6908 - val_accuracy: 0.5100\n",
            "Epoch 12/50\n",
            "63/63 [==============================] - 16s 225ms/step - loss: 0.6936 - accuracy: 0.5250 - val_loss: 0.6903 - val_accuracy: 0.5110\n",
            "Epoch 13/50\n",
            "63/63 [==============================] - 15s 210ms/step - loss: 0.6862 - accuracy: 0.5085 - val_loss: 0.6916 - val_accuracy: 0.5060\n",
            "Epoch 14/50\n",
            "63/63 [==============================] - 15s 211ms/step - loss: 0.6943 - accuracy: 0.4845 - val_loss: 0.6923 - val_accuracy: 0.4990\n",
            "Epoch 15/50\n",
            "63/63 [==============================] - 15s 216ms/step - loss: 0.6921 - accuracy: 0.4850 - val_loss: 0.6894 - val_accuracy: 0.5100\n",
            "Epoch 16/50\n",
            "63/63 [==============================] - 14s 203ms/step - loss: 0.6893 - accuracy: 0.5040 - val_loss: 0.6860 - val_accuracy: 0.5180\n",
            "Epoch 17/50\n",
            "63/63 [==============================] - 10s 142ms/step - loss: 0.6921 - accuracy: 0.5020 - val_loss: 0.6875 - val_accuracy: 0.5000\n",
            "Epoch 18/50\n",
            "63/63 [==============================] - 9s 136ms/step - loss: 0.6903 - accuracy: 0.4840 - val_loss: 0.6874 - val_accuracy: 0.5190\n",
            "Epoch 19/50\n",
            "63/63 [==============================] - 9s 131ms/step - loss: 0.6882 - accuracy: 0.5035 - val_loss: 0.6898 - val_accuracy: 0.5100\n",
            "Epoch 20/50\n",
            "63/63 [==============================] - 9s 133ms/step - loss: 0.6919 - accuracy: 0.5180 - val_loss: 0.6839 - val_accuracy: 0.5320\n",
            "Epoch 21/50\n",
            "63/63 [==============================] - 9s 127ms/step - loss: 0.6900 - accuracy: 0.4995 - val_loss: 0.6866 - val_accuracy: 0.5270\n",
            "Epoch 22/50\n",
            "63/63 [==============================] - 10s 154ms/step - loss: 0.6885 - accuracy: 0.5275 - val_loss: 0.6864 - val_accuracy: 0.5270\n",
            "Epoch 23/50\n",
            "63/63 [==============================] - 10s 155ms/step - loss: 0.6864 - accuracy: 0.5145 - val_loss: 0.6848 - val_accuracy: 0.5300\n",
            "Epoch 24/50\n",
            "63/63 [==============================] - 7s 98ms/step - loss: 0.6857 - accuracy: 0.5070 - val_loss: 0.6832 - val_accuracy: 0.5280\n",
            "Epoch 25/50\n",
            "63/63 [==============================] - 4s 56ms/step - loss: 0.6889 - accuracy: 0.5025 - val_loss: 0.6816 - val_accuracy: 0.5380\n",
            "Epoch 26/50\n",
            "63/63 [==============================] - 5s 67ms/step - loss: 0.6891 - accuracy: 0.5105 - val_loss: 0.6790 - val_accuracy: 0.5300\n",
            "Epoch 27/50\n",
            "63/63 [==============================] - 4s 59ms/step - loss: 0.6866 - accuracy: 0.5285 - val_loss: 0.6816 - val_accuracy: 0.5330\n",
            "Epoch 28/50\n",
            "63/63 [==============================] - 5s 64ms/step - loss: 0.6882 - accuracy: 0.5300 - val_loss: 0.6781 - val_accuracy: 0.5710\n",
            "Epoch 29/50\n",
            "63/63 [==============================] - 5s 70ms/step - loss: 0.6983 - accuracy: 0.5440 - val_loss: 0.6893 - val_accuracy: 0.5280\n",
            "Epoch 30/50\n",
            "63/63 [==============================] - 5s 79ms/step - loss: 0.6913 - accuracy: 0.5035 - val_loss: 0.6916 - val_accuracy: 0.5080\n",
            "Epoch 31/50\n",
            "63/63 [==============================] - 5s 76ms/step - loss: 0.6935 - accuracy: 0.4975 - val_loss: 0.6879 - val_accuracy: 0.5270\n",
            "Epoch 32/50\n",
            "63/63 [==============================] - 6s 83ms/step - loss: 0.6926 - accuracy: 0.4965 - val_loss: 0.6886 - val_accuracy: 0.5240\n",
            "Epoch 33/50\n",
            "63/63 [==============================] - 6s 91ms/step - loss: 0.6897 - accuracy: 0.5090 - val_loss: 0.6866 - val_accuracy: 0.5340\n",
            "Epoch 34/50\n",
            "63/63 [==============================] - 6s 85ms/step - loss: 0.7208 - accuracy: 0.5235 - val_loss: 0.6910 - val_accuracy: 0.4990\n",
            "Epoch 35/50\n",
            "63/63 [==============================] - 6s 89ms/step - loss: 0.6959 - accuracy: 0.4945 - val_loss: 0.6866 - val_accuracy: 0.5220\n",
            "Epoch 36/50\n",
            "63/63 [==============================] - 5s 79ms/step - loss: 0.6872 - accuracy: 0.5010 - val_loss: 0.6876 - val_accuracy: 0.5100\n",
            "Epoch 37/50\n",
            "63/63 [==============================] - 5s 67ms/step - loss: 0.6995 - accuracy: 0.5105 - val_loss: 0.6918 - val_accuracy: 0.5020\n",
            "Epoch 38/50\n",
            "63/63 [==============================] - 5s 73ms/step - loss: 0.6946 - accuracy: 0.4970 - val_loss: 0.6931 - val_accuracy: 0.5000\n",
            "Epoch 39/50\n",
            "63/63 [==============================] - 5s 74ms/step - loss: 0.6936 - accuracy: 0.4980 - val_loss: 0.6931 - val_accuracy: 0.5000\n",
            "Epoch 40/50\n",
            "63/63 [==============================] - 5s 77ms/step - loss: 0.6938 - accuracy: 0.4810 - val_loss: 0.6931 - val_accuracy: 0.5000\n",
            "Epoch 41/50\n",
            "63/63 [==============================] - 6s 81ms/step - loss: 0.6931 - accuracy: 0.5015 - val_loss: 0.6932 - val_accuracy: 0.5000\n",
            "Epoch 42/50\n",
            "63/63 [==============================] - 5s 74ms/step - loss: 0.6935 - accuracy: 0.4930 - val_loss: 0.6932 - val_accuracy: 0.5000\n",
            "Epoch 43/50\n",
            "63/63 [==============================] - 6s 87ms/step - loss: 0.6935 - accuracy: 0.4960 - val_loss: 0.6932 - val_accuracy: 0.5000\n",
            "Epoch 44/50\n",
            "63/63 [==============================] - 7s 99ms/step - loss: 0.6937 - accuracy: 0.4815 - val_loss: 0.6931 - val_accuracy: 0.5000\n",
            "Epoch 45/50\n",
            "63/63 [==============================] - 6s 88ms/step - loss: 0.6933 - accuracy: 0.4950 - val_loss: 0.6931 - val_accuracy: 0.5000\n",
            "Epoch 46/50\n",
            "63/63 [==============================] - 7s 95ms/step - loss: 0.6940 - accuracy: 0.4785 - val_loss: 0.6932 - val_accuracy: 0.5000\n",
            "Epoch 47/50\n",
            "63/63 [==============================] - 7s 104ms/step - loss: 0.6935 - accuracy: 0.4850 - val_loss: 0.6931 - val_accuracy: 0.5000\n",
            "Epoch 48/50\n",
            "63/63 [==============================] - 7s 107ms/step - loss: 0.6929 - accuracy: 0.4945 - val_loss: 0.6931 - val_accuracy: 0.5000\n",
            "Epoch 49/50\n",
            "63/63 [==============================] - 7s 102ms/step - loss: 0.6932 - accuracy: 0.4835 - val_loss: 0.6931 - val_accuracy: 0.5000\n",
            "Epoch 50/50\n",
            "63/63 [==============================] - 8s 113ms/step - loss: 0.6935 - accuracy: 0.4815 - val_loss: 0.6931 - val_accuracy: 0.5000\n"
          ]
        }
      ]
    },
    {
      "cell_type": "markdown",
      "source": [
        "Evaluating the model on the test set"
      ],
      "metadata": {
        "id": "9Eh_m9G1NBga"
      }
    },
    {
      "cell_type": "code",
      "source": [
        "test_model = keras.models.load_model(\n",
        "    \"convnet_from_scratch_with_augmentation.keras\")\n",
        "test_loss, test_acc = test_model.evaluate(test_dataset)\n",
        "print(f\"Test accuracy: {test_acc:.3f}\")"
      ],
      "metadata": {
        "colab": {
          "base_uri": "https://localhost:8080/"
        },
        "id": "m1t6vnAjNE6o",
        "outputId": "93491c9d-24ac-48b3-8012-9d8ed9c44854"
      },
      "execution_count": 25,
      "outputs": [
        {
          "output_type": "stream",
          "name": "stdout",
          "text": [
            "32/32 [==============================] - 2s 50ms/step - loss: 0.6843 - accuracy: 0.5630\n",
            "Test accuracy: 0.563\n"
          ]
        }
      ]
    },
    {
      "cell_type": "markdown",
      "source": [
        "3. Now change your training sample so that you achieve better performance than those from Steps\n",
        "1 and 2. This sample size may be larger, or smaller than those in the previous steps. The objective is to find the ideal training sample size to get best prediction results."
      ],
      "metadata": {
        "id": "u3zK_byaNHwZ"
      }
    },
    {
      "cell_type": "code",
      "source": [
        "original_dir = pathlib.Path(\"train\")\n",
        "new_base_dir = pathlib.Path(\"cats_vs_dogs_small_Q3\")\n",
        "\n",
        "def make_subset(subset_name, start_index, end_index):\n",
        "    for category in (\"cat\", \"dog\"):\n",
        "        dir = new_base_dir / subset_name / category\n",
        "        os.makedirs(dir)\n",
        "        fnames = [f\"{category}.{i}.jpg\" for i in range(start_index, end_index)]\n",
        "        for fname in fnames:\n",
        "            shutil.copyfile(src=original_dir / fname,\n",
        "                            dst=dir / fname)\n",
        "#Creating training, Test and validation sets.\n",
        "#Training has 2000 samples, test has 500 samples and validation has 1500 samples.\n",
        "make_subset(\"train\", start_index=0, end_index=2500)\n",
        "make_subset(\"validation\", start_index=2500, end_index=3000)\n",
        "make_subset(\"test\", start_index=3000, end_index=3500)"
      ],
      "metadata": {
        "id": "DGAbwn7oNJWv"
      },
      "execution_count": 26,
      "outputs": []
    },
    {
      "cell_type": "markdown",
      "source": [
        "Defining a new convnet with increased training samples,image augmentation and dropout\n",
        "\n"
      ],
      "metadata": {
        "id": "Smn2NhkENN4U"
      }
    },
    {
      "cell_type": "code",
      "source": [
        "inputs = keras.Input(shape=(180, 180, 3))\n",
        "x = data_augmentation(inputs)\n",
        "x = layers.Rescaling(1./255)(x)\n",
        "x = layers.Conv2D(filters=32, kernel_size=3, activation=\"relu\")(x)\n",
        "x = layers.MaxPooling2D(pool_size=2)(x)\n",
        "x = layers.Conv2D(filters=64, kernel_size=3, activation=\"relu\")(x)\n",
        "x = layers.MaxPooling2D(pool_size=2)(x)\n",
        "x = layers.Conv2D(filters=128, kernel_size=3, activation=\"relu\")(x)\n",
        "x = layers.MaxPooling2D(pool_size=2)(x)\n",
        "x = layers.Conv2D(filters=256, kernel_size=3, activation=\"relu\")(x)\n",
        "x = layers.MaxPooling2D(pool_size=2)(x)\n",
        "x = layers.Conv2D(filters=256, kernel_size=3, activation=\"relu\")(x)\n",
        "x = layers.Flatten()(x)\n",
        "x = layers.Dropout(0.5)(x)\n",
        "outputs = layers.Dense(1, activation=\"sigmoid\")(x)\n",
        "model = keras.Model(inputs=inputs, outputs=outputs)\n",
        "\n",
        "model.compile(loss=\"binary_crossentropy\",\n",
        "              optimizer=\"adam\",\n",
        "              metrics=[\"accuracy\"])"
      ],
      "metadata": {
        "id": "WRDXcajpNOeW"
      },
      "execution_count": 27,
      "outputs": []
    },
    {
      "cell_type": "code",
      "source": [
        "callbacks = [\n",
        "    keras.callbacks.ModelCheckpoint(\n",
        "        filepath=\"convnet_from_scratch_with_augmentation1.keras\",\n",
        "        save_best_only=True,\n",
        "        monitor=\"val_loss\")\n",
        "]\n",
        "history = model.fit(\n",
        "    train_dataset,\n",
        "    epochs=30,\n",
        "    validation_data=validation_dataset,\n",
        "    callbacks=callbacks)\n"
      ],
      "metadata": {
        "colab": {
          "base_uri": "https://localhost:8080/"
        },
        "id": "MM5f7GPcNSqE",
        "outputId": "5b3a4974-14c3-4587-f55f-1e6efff9e6e5"
      },
      "execution_count": 28,
      "outputs": [
        {
          "output_type": "stream",
          "name": "stdout",
          "text": [
            "Epoch 1/30\n",
            "63/63 [==============================] - 10s 139ms/step - loss: 0.7039 - accuracy: 0.5160 - val_loss: 0.6947 - val_accuracy: 0.5000\n",
            "Epoch 2/30\n",
            "63/63 [==============================] - 8s 122ms/step - loss: 0.6893 - accuracy: 0.5245 - val_loss: 0.6900 - val_accuracy: 0.5170\n",
            "Epoch 3/30\n",
            "63/63 [==============================] - 9s 125ms/step - loss: 0.6883 - accuracy: 0.5470 - val_loss: 0.6929 - val_accuracy: 0.5090\n",
            "Epoch 4/30\n",
            "63/63 [==============================] - 10s 143ms/step - loss: 0.6877 - accuracy: 0.5385 - val_loss: 0.6923 - val_accuracy: 0.5160\n",
            "Epoch 5/30\n",
            "63/63 [==============================] - 12s 174ms/step - loss: 0.6881 - accuracy: 0.5395 - val_loss: 0.6862 - val_accuracy: 0.5510\n",
            "Epoch 6/30\n",
            "63/63 [==============================] - 12s 169ms/step - loss: 0.6872 - accuracy: 0.5310 - val_loss: 0.6719 - val_accuracy: 0.5790\n",
            "Epoch 7/30\n",
            "63/63 [==============================] - 11s 167ms/step - loss: 0.6712 - accuracy: 0.5930 - val_loss: 0.6618 - val_accuracy: 0.5870\n",
            "Epoch 8/30\n",
            "63/63 [==============================] - 11s 162ms/step - loss: 0.6666 - accuracy: 0.6055 - val_loss: 0.6715 - val_accuracy: 0.5760\n",
            "Epoch 9/30\n",
            "63/63 [==============================] - 11s 164ms/step - loss: 0.6537 - accuracy: 0.6355 - val_loss: 0.6512 - val_accuracy: 0.6170\n",
            "Epoch 10/30\n",
            "63/63 [==============================] - 12s 168ms/step - loss: 0.6541 - accuracy: 0.6135 - val_loss: 0.6469 - val_accuracy: 0.5930\n",
            "Epoch 11/30\n",
            "63/63 [==============================] - 11s 151ms/step - loss: 0.6441 - accuracy: 0.6470 - val_loss: 0.6595 - val_accuracy: 0.6140\n",
            "Epoch 12/30\n",
            "63/63 [==============================] - 11s 156ms/step - loss: 0.6438 - accuracy: 0.6355 - val_loss: 0.6598 - val_accuracy: 0.6080\n",
            "Epoch 13/30\n",
            "63/63 [==============================] - 11s 165ms/step - loss: 0.6199 - accuracy: 0.6660 - val_loss: 0.6414 - val_accuracy: 0.6280\n",
            "Epoch 14/30\n",
            "63/63 [==============================] - 11s 158ms/step - loss: 0.6109 - accuracy: 0.6790 - val_loss: 0.5997 - val_accuracy: 0.6750\n",
            "Epoch 15/30\n",
            "63/63 [==============================] - 11s 163ms/step - loss: 0.6139 - accuracy: 0.6720 - val_loss: 0.5897 - val_accuracy: 0.6780\n",
            "Epoch 16/30\n",
            "63/63 [==============================] - 10s 154ms/step - loss: 0.5851 - accuracy: 0.7080 - val_loss: 0.5575 - val_accuracy: 0.7130\n",
            "Epoch 17/30\n",
            "63/63 [==============================] - 11s 163ms/step - loss: 0.5743 - accuracy: 0.7055 - val_loss: 0.5531 - val_accuracy: 0.7060\n",
            "Epoch 18/30\n",
            "63/63 [==============================] - 11s 161ms/step - loss: 0.5417 - accuracy: 0.7170 - val_loss: 0.5705 - val_accuracy: 0.7050\n",
            "Epoch 19/30\n",
            "63/63 [==============================] - 10s 150ms/step - loss: 0.5574 - accuracy: 0.7160 - val_loss: 0.5222 - val_accuracy: 0.7610\n",
            "Epoch 20/30\n",
            "63/63 [==============================] - 11s 158ms/step - loss: 0.5458 - accuracy: 0.7135 - val_loss: 0.5290 - val_accuracy: 0.7390\n",
            "Epoch 21/30\n",
            "63/63 [==============================] - 12s 176ms/step - loss: 0.5052 - accuracy: 0.7580 - val_loss: 0.5372 - val_accuracy: 0.7160\n",
            "Epoch 22/30\n",
            "63/63 [==============================] - 11s 165ms/step - loss: 0.5196 - accuracy: 0.7455 - val_loss: 0.4889 - val_accuracy: 0.7610\n",
            "Epoch 23/30\n",
            "63/63 [==============================] - 11s 163ms/step - loss: 0.4921 - accuracy: 0.7670 - val_loss: 0.5544 - val_accuracy: 0.7300\n",
            "Epoch 24/30\n",
            "63/63 [==============================] - 11s 158ms/step - loss: 0.4765 - accuracy: 0.7830 - val_loss: 0.5249 - val_accuracy: 0.7460\n",
            "Epoch 25/30\n",
            "63/63 [==============================] - 11s 164ms/step - loss: 0.4495 - accuracy: 0.7965 - val_loss: 0.4747 - val_accuracy: 0.7800\n",
            "Epoch 26/30\n",
            "63/63 [==============================] - 11s 167ms/step - loss: 0.4627 - accuracy: 0.7850 - val_loss: 0.4906 - val_accuracy: 0.7730\n",
            "Epoch 27/30\n",
            "63/63 [==============================] - 12s 178ms/step - loss: 0.4479 - accuracy: 0.7955 - val_loss: 0.4587 - val_accuracy: 0.7860\n",
            "Epoch 28/30\n",
            "63/63 [==============================] - 12s 180ms/step - loss: 0.4525 - accuracy: 0.7805 - val_loss: 0.4818 - val_accuracy: 0.7820\n",
            "Epoch 29/30\n",
            "63/63 [==============================] - 12s 177ms/step - loss: 0.4252 - accuracy: 0.8010 - val_loss: 0.4403 - val_accuracy: 0.7880\n",
            "Epoch 30/30\n",
            "63/63 [==============================] - 12s 173ms/step - loss: 0.4154 - accuracy: 0.8070 - val_loss: 0.4476 - val_accuracy: 0.8010\n"
          ]
        }
      ]
    },
    {
      "cell_type": "code",
      "source": [
        "test_model = keras.models.load_model(\n",
        "    \"convnet_from_scratch_with_augmentation1.keras\")\n",
        "test_loss, test_acc = test_model.evaluate(test_dataset)\n",
        "print(f\"Test accuracy: {test_acc:.3f}\")"
      ],
      "metadata": {
        "colab": {
          "base_uri": "https://localhost:8080/"
        },
        "id": "uvmdE09_NXrq",
        "outputId": "15be052d-7b88-45e6-c2f7-2905be93a6a6"
      },
      "execution_count": 29,
      "outputs": [
        {
          "output_type": "stream",
          "name": "stdout",
          "text": [
            "32/32 [==============================] - 4s 92ms/step - loss: 0.5064 - accuracy: 0.7700\n",
            "Test accuracy: 0.770\n"
          ]
        }
      ]
    },
    {
      "cell_type": "markdown",
      "source": [
        "4. Repeat Steps 1-3, but now using a pretrained network. The sample sizes you use in Steps 2 and 3\n",
        "for the pretrained network may be the same or different from those using the network where you trained from scratch. Again, use any and all optimization techniques to get best performance.\n",
        "\n",
        "Instantiating the VGG16 convolutional base"
      ],
      "metadata": {
        "id": "4RSM8nHfNbNL"
      }
    },
    {
      "cell_type": "code",
      "source": [
        "conv_base = keras.applications.vgg16.VGG16(\n",
        "    weights=\"imagenet\",\n",
        "    include_top=False,\n",
        "    input_shape=(180, 180, 3))"
      ],
      "metadata": {
        "colab": {
          "base_uri": "https://localhost:8080/"
        },
        "id": "KnVEX8i_Nc1W",
        "outputId": "dc3bae2d-5504-4def-8567-df9dc2c9db85"
      },
      "execution_count": 30,
      "outputs": [
        {
          "output_type": "stream",
          "name": "stdout",
          "text": [
            "Downloading data from https://storage.googleapis.com/tensorflow/keras-applications/vgg16/vgg16_weights_tf_dim_ordering_tf_kernels_notop.h5\n",
            "58889256/58889256 [==============================] - 0s 0us/step\n"
          ]
        }
      ]
    },
    {
      "cell_type": "code",
      "source": [
        "conv_base.summary()"
      ],
      "metadata": {
        "colab": {
          "base_uri": "https://localhost:8080/"
        },
        "id": "7A8_EF8kNp64",
        "outputId": "1ac49289-c671-489d-f4dd-3e9af8fe3e2e"
      },
      "execution_count": 31,
      "outputs": [
        {
          "output_type": "stream",
          "name": "stdout",
          "text": [
            "Model: \"vgg16\"\n",
            "_________________________________________________________________\n",
            " Layer (type)                Output Shape              Param #   \n",
            "=================================================================\n",
            " input_4 (InputLayer)        [(None, 180, 180, 3)]     0         \n",
            "                                                                 \n",
            " block1_conv1 (Conv2D)       (None, 180, 180, 64)      1792      \n",
            "                                                                 \n",
            " block1_conv2 (Conv2D)       (None, 180, 180, 64)      36928     \n",
            "                                                                 \n",
            " block1_pool (MaxPooling2D)  (None, 90, 90, 64)        0         \n",
            "                                                                 \n",
            " block2_conv1 (Conv2D)       (None, 90, 90, 128)       73856     \n",
            "                                                                 \n",
            " block2_conv2 (Conv2D)       (None, 90, 90, 128)       147584    \n",
            "                                                                 \n",
            " block2_pool (MaxPooling2D)  (None, 45, 45, 128)       0         \n",
            "                                                                 \n",
            " block3_conv1 (Conv2D)       (None, 45, 45, 256)       295168    \n",
            "                                                                 \n",
            " block3_conv2 (Conv2D)       (None, 45, 45, 256)       590080    \n",
            "                                                                 \n",
            " block3_conv3 (Conv2D)       (None, 45, 45, 256)       590080    \n",
            "                                                                 \n",
            " block3_pool (MaxPooling2D)  (None, 22, 22, 256)       0         \n",
            "                                                                 \n",
            " block4_conv1 (Conv2D)       (None, 22, 22, 512)       1180160   \n",
            "                                                                 \n",
            " block4_conv2 (Conv2D)       (None, 22, 22, 512)       2359808   \n",
            "                                                                 \n",
            " block4_conv3 (Conv2D)       (None, 22, 22, 512)       2359808   \n",
            "                                                                 \n",
            " block4_pool (MaxPooling2D)  (None, 11, 11, 512)       0         \n",
            "                                                                 \n",
            " block5_conv1 (Conv2D)       (None, 11, 11, 512)       2359808   \n",
            "                                                                 \n",
            " block5_conv2 (Conv2D)       (None, 11, 11, 512)       2359808   \n",
            "                                                                 \n",
            " block5_conv3 (Conv2D)       (None, 11, 11, 512)       2359808   \n",
            "                                                                 \n",
            " block5_pool (MaxPooling2D)  (None, 5, 5, 512)         0         \n",
            "                                                                 \n",
            "=================================================================\n",
            "Total params: 14,714,688\n",
            "Trainable params: 14,714,688\n",
            "Non-trainable params: 0\n",
            "_________________________________________________________________\n"
          ]
        }
      ]
    },
    {
      "cell_type": "markdown",
      "source": [
        "Feature extraction without data augmentation using a pretrained model\n",
        "\n",
        "Extracting the VGG16 features and corresponding labels"
      ],
      "metadata": {
        "id": "Z1u312BDNwDj"
      }
    },
    {
      "cell_type": "code",
      "source": [
        "import numpy as np\n",
        "\n",
        "def get_features_and_labels(dataset):\n",
        "    all_features = []\n",
        "    all_labels = []\n",
        "    for images, labels in dataset:\n",
        "        preprocessed_images = keras.applications.vgg16.preprocess_input(images)\n",
        "        features = conv_base.predict(preprocessed_images)\n",
        "        all_features.append(features)\n",
        "        all_labels.append(labels)\n",
        "    return np.concatenate(all_features), np.concatenate(all_labels)\n",
        "\n",
        "train_features, train_labels =  get_features_and_labels(train_dataset)\n",
        "val_features, val_labels =  get_features_and_labels(validation_dataset)\n",
        "test_features, test_labels =  get_features_and_labels(test_dataset)"
      ],
      "metadata": {
        "colab": {
          "base_uri": "https://localhost:8080/"
        },
        "id": "kSlQwJkANwpm",
        "outputId": "f20808cb-2c7a-4b3c-9364-18357d6974ea"
      },
      "execution_count": 32,
      "outputs": [
        {
          "output_type": "stream",
          "name": "stdout",
          "text": [
            "1/1 [==============================] - 1s 668ms/step\n",
            "1/1 [==============================] - 0s 23ms/step\n",
            "1/1 [==============================] - 0s 64ms/step\n",
            "1/1 [==============================] - 0s 69ms/step\n",
            "1/1 [==============================] - 0s 102ms/step\n",
            "1/1 [==============================] - 0s 108ms/step\n",
            "1/1 [==============================] - 0s 41ms/step\n",
            "1/1 [==============================] - 0s 52ms/step\n",
            "1/1 [==============================] - 0s 87ms/step\n",
            "1/1 [==============================] - 0s 63ms/step\n",
            "1/1 [==============================] - 0s 70ms/step\n",
            "1/1 [==============================] - 0s 111ms/step\n",
            "1/1 [==============================] - 0s 88ms/step\n",
            "1/1 [==============================] - 0s 23ms/step\n",
            "1/1 [==============================] - 0s 72ms/step\n",
            "1/1 [==============================] - 0s 83ms/step\n",
            "1/1 [==============================] - 0s 29ms/step\n",
            "1/1 [==============================] - 0s 31ms/step\n",
            "1/1 [==============================] - 0s 69ms/step\n",
            "1/1 [==============================] - 0s 88ms/step\n",
            "1/1 [==============================] - 0s 55ms/step\n",
            "1/1 [==============================] - 0s 78ms/step\n",
            "1/1 [==============================] - 0s 75ms/step\n",
            "1/1 [==============================] - 0s 62ms/step\n",
            "1/1 [==============================] - 0s 23ms/step\n",
            "1/1 [==============================] - 0s 38ms/step\n",
            "1/1 [==============================] - 0s 44ms/step\n",
            "1/1 [==============================] - 0s 56ms/step\n",
            "1/1 [==============================] - 0s 53ms/step\n",
            "1/1 [==============================] - 0s 39ms/step\n",
            "1/1 [==============================] - 0s 84ms/step\n",
            "1/1 [==============================] - 0s 36ms/step\n",
            "1/1 [==============================] - 0s 27ms/step\n",
            "1/1 [==============================] - 0s 61ms/step\n",
            "1/1 [==============================] - 0s 74ms/step\n",
            "1/1 [==============================] - 0s 29ms/step\n",
            "1/1 [==============================] - 0s 38ms/step\n",
            "1/1 [==============================] - 0s 49ms/step\n",
            "1/1 [==============================] - 0s 49ms/step\n",
            "1/1 [==============================] - 0s 51ms/step\n",
            "1/1 [==============================] - 0s 24ms/step\n",
            "1/1 [==============================] - 0s 31ms/step\n",
            "1/1 [==============================] - 0s 46ms/step\n",
            "1/1 [==============================] - 0s 52ms/step\n",
            "1/1 [==============================] - 0s 41ms/step\n",
            "1/1 [==============================] - 0s 62ms/step\n",
            "1/1 [==============================] - 0s 22ms/step\n",
            "1/1 [==============================] - 0s 59ms/step\n",
            "1/1 [==============================] - 0s 83ms/step\n",
            "1/1 [==============================] - 0s 51ms/step\n",
            "1/1 [==============================] - 0s 42ms/step\n",
            "1/1 [==============================] - 0s 37ms/step\n",
            "1/1 [==============================] - 0s 57ms/step\n",
            "1/1 [==============================] - 0s 23ms/step\n",
            "1/1 [==============================] - 0s 23ms/step\n",
            "1/1 [==============================] - 0s 21ms/step\n",
            "1/1 [==============================] - 0s 24ms/step\n",
            "1/1 [==============================] - 0s 23ms/step\n",
            "1/1 [==============================] - 0s 23ms/step\n",
            "1/1 [==============================] - 0s 23ms/step\n",
            "1/1 [==============================] - 0s 21ms/step\n",
            "1/1 [==============================] - 0s 22ms/step\n",
            "1/1 [==============================] - 0s 403ms/step\n",
            "1/1 [==============================] - 0s 22ms/step\n",
            "1/1 [==============================] - 0s 22ms/step\n",
            "1/1 [==============================] - 0s 22ms/step\n",
            "1/1 [==============================] - 0s 23ms/step\n",
            "1/1 [==============================] - 0s 22ms/step\n",
            "1/1 [==============================] - 0s 23ms/step\n",
            "1/1 [==============================] - 0s 22ms/step\n",
            "1/1 [==============================] - 0s 21ms/step\n",
            "1/1 [==============================] - 0s 22ms/step\n",
            "1/1 [==============================] - 0s 21ms/step\n",
            "1/1 [==============================] - 0s 23ms/step\n",
            "1/1 [==============================] - 0s 26ms/step\n",
            "1/1 [==============================] - 0s 27ms/step\n",
            "1/1 [==============================] - 0s 25ms/step\n",
            "1/1 [==============================] - 0s 22ms/step\n",
            "1/1 [==============================] - 0s 23ms/step\n",
            "1/1 [==============================] - 0s 23ms/step\n",
            "1/1 [==============================] - 0s 23ms/step\n",
            "1/1 [==============================] - 0s 22ms/step\n",
            "1/1 [==============================] - 0s 23ms/step\n",
            "1/1 [==============================] - 0s 23ms/step\n",
            "1/1 [==============================] - 0s 24ms/step\n",
            "1/1 [==============================] - 0s 23ms/step\n",
            "1/1 [==============================] - 0s 22ms/step\n",
            "1/1 [==============================] - 0s 25ms/step\n",
            "1/1 [==============================] - 0s 22ms/step\n",
            "1/1 [==============================] - 0s 23ms/step\n",
            "1/1 [==============================] - 0s 22ms/step\n",
            "1/1 [==============================] - 0s 22ms/step\n",
            "1/1 [==============================] - 0s 22ms/step\n",
            "1/1 [==============================] - 0s 22ms/step\n",
            "1/1 [==============================] - 0s 237ms/step\n",
            "1/1 [==============================] - 0s 23ms/step\n",
            "1/1 [==============================] - 0s 23ms/step\n",
            "1/1 [==============================] - 0s 23ms/step\n",
            "1/1 [==============================] - 0s 23ms/step\n",
            "1/1 [==============================] - 0s 23ms/step\n",
            "1/1 [==============================] - 0s 23ms/step\n",
            "1/1 [==============================] - 0s 24ms/step\n",
            "1/1 [==============================] - 0s 23ms/step\n",
            "1/1 [==============================] - 0s 24ms/step\n",
            "1/1 [==============================] - 0s 23ms/step\n",
            "1/1 [==============================] - 0s 23ms/step\n",
            "1/1 [==============================] - 0s 23ms/step\n",
            "1/1 [==============================] - 0s 22ms/step\n",
            "1/1 [==============================] - 0s 25ms/step\n",
            "1/1 [==============================] - 0s 26ms/step\n",
            "1/1 [==============================] - 0s 24ms/step\n",
            "1/1 [==============================] - 0s 23ms/step\n",
            "1/1 [==============================] - 0s 23ms/step\n",
            "1/1 [==============================] - 0s 23ms/step\n",
            "1/1 [==============================] - 0s 23ms/step\n",
            "1/1 [==============================] - 0s 22ms/step\n",
            "1/1 [==============================] - 0s 22ms/step\n",
            "1/1 [==============================] - 0s 23ms/step\n",
            "1/1 [==============================] - 0s 22ms/step\n",
            "1/1 [==============================] - 0s 22ms/step\n",
            "1/1 [==============================] - 0s 24ms/step\n",
            "1/1 [==============================] - 0s 22ms/step\n",
            "1/1 [==============================] - 0s 23ms/step\n",
            "1/1 [==============================] - 0s 22ms/step\n",
            "1/1 [==============================] - 0s 22ms/step\n",
            "1/1 [==============================] - 0s 22ms/step\n",
            "1/1 [==============================] - 0s 19ms/step\n"
          ]
        }
      ]
    },
    {
      "cell_type": "code",
      "source": [
        "train_features.shape"
      ],
      "metadata": {
        "colab": {
          "base_uri": "https://localhost:8080/"
        },
        "id": "O8sdSTemN1vG",
        "outputId": "b574154a-49ff-4640-e2d4-1f09ebaf11aa"
      },
      "execution_count": 33,
      "outputs": [
        {
          "output_type": "execute_result",
          "data": {
            "text/plain": [
              "(2000, 5, 5, 512)"
            ]
          },
          "metadata": {},
          "execution_count": 33
        }
      ]
    },
    {
      "cell_type": "markdown",
      "source": [
        "Defining and training the densely connected classifier"
      ],
      "metadata": {
        "id": "INjLJML0N_Gl"
      }
    },
    {
      "cell_type": "code",
      "source": [
        "inputs = keras.Input(shape=(5, 5, 512))\n",
        "x = layers.Flatten()(inputs)\n",
        "x = layers.Dense(256)(x)\n",
        "x = layers.Dropout(0.5)(x)\n",
        "outputs = layers.Dense(1, activation=\"sigmoid\")(x)\n",
        "model = keras.Model(inputs, outputs)\n",
        "model.compile(loss=\"binary_crossentropy\",\n",
        "              optimizer=\"rmsprop\",\n",
        "              metrics=[\"accuracy\"])\n",
        "\n",
        "callbacks = [\n",
        "    keras.callbacks.ModelCheckpoint(\n",
        "      filepath=\"feature_extraction.keras\",\n",
        "      save_best_only=True,\n",
        "      monitor=\"val_loss\")\n",
        "]\n",
        "history = model.fit(\n",
        "    train_features, train_labels,\n",
        "    epochs=30,\n",
        "    validation_data=(val_features, val_labels),\n",
        "    callbacks=callbacks)"
      ],
      "metadata": {
        "colab": {
          "base_uri": "https://localhost:8080/"
        },
        "id": "7mg52zdCN_z4",
        "outputId": "dd429285-4c0c-4957-b304-ad4cb5df7771"
      },
      "execution_count": 34,
      "outputs": [
        {
          "output_type": "stream",
          "name": "stdout",
          "text": [
            "Epoch 1/30\n",
            "63/63 [==============================] - 1s 8ms/step - loss: 11.3083 - accuracy: 0.9290 - val_loss: 4.5797 - val_accuracy: 0.9610\n",
            "Epoch 2/30\n",
            "63/63 [==============================] - 0s 6ms/step - loss: 3.1163 - accuracy: 0.9775 - val_loss: 2.9685 - val_accuracy: 0.9780\n",
            "Epoch 3/30\n",
            "63/63 [==============================] - 0s 4ms/step - loss: 3.9856 - accuracy: 0.9740 - val_loss: 5.3290 - val_accuracy: 0.9700\n",
            "Epoch 4/30\n",
            "63/63 [==============================] - 0s 4ms/step - loss: 0.8816 - accuracy: 0.9920 - val_loss: 3.5406 - val_accuracy: 0.9750\n",
            "Epoch 5/30\n",
            "63/63 [==============================] - 0s 4ms/step - loss: 1.3326 - accuracy: 0.9920 - val_loss: 4.1497 - val_accuracy: 0.9720\n",
            "Epoch 6/30\n",
            "63/63 [==============================] - 0s 4ms/step - loss: 0.1936 - accuracy: 0.9970 - val_loss: 3.9076 - val_accuracy: 0.9780\n",
            "Epoch 7/30\n",
            "63/63 [==============================] - 0s 4ms/step - loss: 1.6469 - accuracy: 0.9905 - val_loss: 5.2217 - val_accuracy: 0.9770\n",
            "Epoch 8/30\n",
            "63/63 [==============================] - 0s 4ms/step - loss: 0.6769 - accuracy: 0.9955 - val_loss: 4.0202 - val_accuracy: 0.9760\n",
            "Epoch 9/30\n",
            "63/63 [==============================] - 0s 4ms/step - loss: 0.4089 - accuracy: 0.9965 - val_loss: 3.9612 - val_accuracy: 0.9760\n",
            "Epoch 10/30\n",
            "63/63 [==============================] - 0s 4ms/step - loss: 0.0222 - accuracy: 0.9990 - val_loss: 4.3961 - val_accuracy: 0.9770\n",
            "Epoch 11/30\n",
            "63/63 [==============================] - 0s 4ms/step - loss: 0.2014 - accuracy: 0.9975 - val_loss: 4.0803 - val_accuracy: 0.9780\n",
            "Epoch 12/30\n",
            "63/63 [==============================] - 0s 4ms/step - loss: 0.2662 - accuracy: 0.9970 - val_loss: 4.2832 - val_accuracy: 0.9780\n",
            "Epoch 13/30\n",
            "63/63 [==============================] - 0s 4ms/step - loss: 0.0631 - accuracy: 0.9990 - val_loss: 4.6103 - val_accuracy: 0.9770\n",
            "Epoch 14/30\n",
            "63/63 [==============================] - 0s 4ms/step - loss: 2.0425e-17 - accuracy: 1.0000 - val_loss: 4.6103 - val_accuracy: 0.9770\n",
            "Epoch 15/30\n",
            "63/63 [==============================] - 0s 4ms/step - loss: 1.0216e-04 - accuracy: 1.0000 - val_loss: 4.7476 - val_accuracy: 0.9830\n",
            "Epoch 16/30\n",
            "63/63 [==============================] - 0s 4ms/step - loss: 0.2313 - accuracy: 0.9985 - val_loss: 4.2890 - val_accuracy: 0.9810\n",
            "Epoch 17/30\n",
            "63/63 [==============================] - 0s 4ms/step - loss: 0.1889 - accuracy: 0.9990 - val_loss: 3.8876 - val_accuracy: 0.9820\n",
            "Epoch 18/30\n",
            "63/63 [==============================] - 0s 4ms/step - loss: 8.2645e-21 - accuracy: 1.0000 - val_loss: 3.8876 - val_accuracy: 0.9820\n",
            "Epoch 19/30\n",
            "63/63 [==============================] - 0s 4ms/step - loss: 0.0170 - accuracy: 0.9995 - val_loss: 3.4480 - val_accuracy: 0.9820\n",
            "Epoch 20/30\n",
            "63/63 [==============================] - 0s 4ms/step - loss: 0.2813 - accuracy: 0.9990 - val_loss: 3.9318 - val_accuracy: 0.9820\n",
            "Epoch 21/30\n",
            "63/63 [==============================] - 0s 5ms/step - loss: 8.1672e-15 - accuracy: 1.0000 - val_loss: 3.9317 - val_accuracy: 0.9820\n",
            "Epoch 22/30\n",
            "63/63 [==============================] - 0s 4ms/step - loss: 0.0122 - accuracy: 0.9995 - val_loss: 6.9121 - val_accuracy: 0.9690\n",
            "Epoch 23/30\n",
            "63/63 [==============================] - 0s 6ms/step - loss: 0.2281 - accuracy: 0.9985 - val_loss: 5.2754 - val_accuracy: 0.9800\n",
            "Epoch 24/30\n",
            "63/63 [==============================] - 0s 4ms/step - loss: 0.0431 - accuracy: 0.9990 - val_loss: 4.7630 - val_accuracy: 0.9760\n",
            "Epoch 25/30\n",
            "63/63 [==============================] - 0s 4ms/step - loss: 0.0000e+00 - accuracy: 1.0000 - val_loss: 4.7630 - val_accuracy: 0.9760\n",
            "Epoch 26/30\n",
            "63/63 [==============================] - 0s 4ms/step - loss: 0.2125 - accuracy: 0.9985 - val_loss: 4.6825 - val_accuracy: 0.9750\n",
            "Epoch 27/30\n",
            "63/63 [==============================] - 0s 4ms/step - loss: 0.0000e+00 - accuracy: 1.0000 - val_loss: 4.6825 - val_accuracy: 0.9750\n",
            "Epoch 28/30\n",
            "63/63 [==============================] - 0s 4ms/step - loss: 1.3789e-17 - accuracy: 1.0000 - val_loss: 4.6825 - val_accuracy: 0.9750\n",
            "Epoch 29/30\n",
            "63/63 [==============================] - 0s 4ms/step - loss: 3.3088e-18 - accuracy: 1.0000 - val_loss: 4.6825 - val_accuracy: 0.9750\n",
            "Epoch 30/30\n",
            "63/63 [==============================] - 0s 4ms/step - loss: 0.2133 - accuracy: 0.9990 - val_loss: 7.4379 - val_accuracy: 0.9760\n"
          ]
        }
      ]
    },
    {
      "cell_type": "markdown",
      "source": [
        "Plotting the results"
      ],
      "metadata": {
        "id": "mciog6OpOEC_"
      }
    },
    {
      "cell_type": "code",
      "source": [
        "import matplotlib.pyplot as plt\n",
        "acc = history.history[\"accuracy\"]\n",
        "val_acc = history.history[\"val_accuracy\"]\n",
        "loss = history.history[\"loss\"]\n",
        "val_loss = history.history[\"val_loss\"]\n",
        "epochs = range(1, len(acc) + 1)\n",
        "plt.plot(epochs, acc, \"bo\", label=\"Training accuracy\")\n",
        "plt.plot(epochs, val_acc, \"b\", label=\"Validation accuracy\")\n",
        "plt.title(\"Training and validation accuracy\")\n",
        "plt.legend()\n",
        "plt.figure()\n",
        "plt.plot(epochs, loss, \"bo\", label=\"Training loss\")\n",
        "plt.plot(epochs, val_loss, \"b\", label=\"Validation loss\")\n",
        "plt.title(\"Training and validation loss\")\n",
        "plt.legend()\n",
        "plt.show()"
      ],
      "metadata": {
        "colab": {
          "base_uri": "https://localhost:8080/",
          "height": 545
        },
        "id": "nM2Ut4QROF-8",
        "outputId": "1dad885a-3e8a-4082-d895-874162c738c4"
      },
      "execution_count": 35,
      "outputs": [
        {
          "output_type": "display_data",
          "data": {
            "text/plain": [
              "<Figure size 432x288 with 1 Axes>"
            ],
            "image/png": "[encoded data removed]"
          },
          "metadata": {
            "needs_background": "light"
          }
        },
        {
          "output_type": "display_data",
          "data": {
            "text/plain": [
              "<Figure size 432x288 with 1 Axes>"
            ],
            "image/png": "[encoded data removed]"
          },
          "metadata": {
            "needs_background": "light"
          }
        }
      ]
    },
    {
      "cell_type": "markdown",
      "source": [
        "Instantiating and freezing the VGG16 convolutional base"
      ],
      "metadata": {
        "id": "1ACh0S3DOG01"
      }
    },
    {
      "cell_type": "code",
      "source": [
        "conv_base  = keras.applications.vgg16.VGG16(\n",
        "    weights=\"imagenet\",\n",
        "    include_top=False)\n",
        "conv_base.trainable = False"
      ],
      "metadata": {
        "id": "1awX6DPQOKXI"
      },
      "execution_count": 36,
      "outputs": []
    },
    {
      "cell_type": "markdown",
      "source": [
        "Printing the list of trainable weights before and after freezing"
      ],
      "metadata": {
        "id": "dHXvH93FOcbJ"
      }
    },
    {
      "cell_type": "code",
      "source": [
        "conv_base.trainable = True\n",
        "print(\"This is the number of trainable weights \"\n",
        "      \"before freezing the conv base:\", len(conv_base.trainable_weights))"
      ],
      "metadata": {
        "colab": {
          "base_uri": "https://localhost:8080/"
        },
        "id": "iwmYOMQIOc07",
        "outputId": "efa78d7b-1221-4db5-dfa8-17b19fdac36a"
      },
      "execution_count": 37,
      "outputs": [
        {
          "output_type": "stream",
          "name": "stdout",
          "text": [
            "This is the number of trainable weights before freezing the conv base: 26\n"
          ]
        }
      ]
    },
    {
      "cell_type": "code",
      "source": [
        "conv_base.trainable = False\n",
        "print(\"This is the number of trainable weights \"\n",
        "      \"after freezing the conv base:\", len(conv_base.trainable_weights))"
      ],
      "metadata": {
        "colab": {
          "base_uri": "https://localhost:8080/"
        },
        "id": "nIT__cq3Og-B",
        "outputId": "981f836c-17f3-4ae9-fe3d-de1fd7a92bd5"
      },
      "execution_count": 38,
      "outputs": [
        {
          "output_type": "stream",
          "name": "stdout",
          "text": [
            "This is the number of trainable weights after freezing the conv base: 0\n"
          ]
        }
      ]
    },
    {
      "cell_type": "code",
      "source": [
        "data_augmentation = keras.Sequential(\n",
        "    [\n",
        "        layers.RandomFlip(\"horizontal\"),\n",
        "        layers.RandomRotation(0.1),\n",
        "        layers.RandomZoom(0.2),\n",
        "    ]\n",
        ")\n",
        "\n",
        "inputs = keras.Input(shape=(180, 180, 3))\n",
        "x = data_augmentation(inputs)\n",
        "x = keras.applications.vgg16.preprocess_input(x)\n",
        "x = conv_base(x)\n",
        "x = layers.Flatten()(x)\n",
        "x = layers.Dense(256)(x)\n",
        "x = layers.Dropout(0.5)(x)\n",
        "outputs = layers.Dense(1, activation=\"sigmoid\")(x)\n",
        "model = keras.Model(inputs, outputs)\n",
        "model.compile(loss=\"binary_crossentropy\",\n",
        "              optimizer=\"rmsprop\",\n",
        "              metrics=[\"accuracy\"])"
      ],
      "metadata": {
        "id": "1fhAnK5iOs1a"
      },
      "execution_count": 39,
      "outputs": []
    },
    {
      "cell_type": "code",
      "source": [
        "callbacks = [\n",
        "    keras.callbacks.ModelCheckpoint(\n",
        "        filepath=\"feature_extraction_with_data_augmentation.keras\",\n",
        "        save_best_only=True,\n",
        "        monitor=\"val_loss\")\n",
        "]\n",
        "history = model.fit(\n",
        "    train_dataset,\n",
        "    epochs=40,\n",
        "    validation_data=validation_dataset,\n",
        "    callbacks=callbacks)"
      ],
      "metadata": {
        "colab": {
          "base_uri": "https://localhost:8080/"
        },
        "id": "G19Lvu2zOwja",
        "outputId": "6bb0981a-7dc3-415c-fdf3-599720195ebd"
      },
      "execution_count": 40,
      "outputs": [
        {
          "output_type": "stream",
          "name": "stdout",
          "text": [
            "Epoch 1/40\n",
            "63/63 [==============================] - 5s 53ms/step - loss: 23.0098 - accuracy: 0.8900 - val_loss: 4.2878 - val_accuracy: 0.9680\n",
            "Epoch 2/40\n",
            "63/63 [==============================] - 3s 47ms/step - loss: 7.8582 - accuracy: 0.9440 - val_loss: 6.2896 - val_accuracy: 0.9640\n",
            "Epoch 3/40\n",
            "63/63 [==============================] - 3s 50ms/step - loss: 6.8141 - accuracy: 0.9480 - val_loss: 3.9332 - val_accuracy: 0.9770\n",
            "Epoch 4/40\n",
            "63/63 [==============================] - 3s 46ms/step - loss: 5.6601 - accuracy: 0.9610 - val_loss: 5.4059 - val_accuracy: 0.9680\n",
            "Epoch 5/40\n",
            "63/63 [==============================] - 3s 46ms/step - loss: 3.7532 - accuracy: 0.9685 - val_loss: 5.9474 - val_accuracy: 0.9710\n",
            "Epoch 6/40\n",
            "63/63 [==============================] - 3s 48ms/step - loss: 5.2500 - accuracy: 0.9635 - val_loss: 5.3759 - val_accuracy: 0.9680\n",
            "Epoch 7/40\n",
            "63/63 [==============================] - 3s 47ms/step - loss: 3.4744 - accuracy: 0.9705 - val_loss: 5.2945 - val_accuracy: 0.9680\n",
            "Epoch 8/40\n",
            "63/63 [==============================] - 3s 46ms/step - loss: 3.9934 - accuracy: 0.9715 - val_loss: 5.5206 - val_accuracy: 0.9720\n",
            "Epoch 9/40\n",
            "63/63 [==============================] - 3s 47ms/step - loss: 3.3814 - accuracy: 0.9710 - val_loss: 5.3554 - val_accuracy: 0.9740\n",
            "Epoch 10/40\n",
            "63/63 [==============================] - 3s 46ms/step - loss: 2.6633 - accuracy: 0.9740 - val_loss: 5.3006 - val_accuracy: 0.9700\n",
            "Epoch 11/40\n",
            "63/63 [==============================] - 3s 50ms/step - loss: 3.7026 - accuracy: 0.9700 - val_loss: 3.8061 - val_accuracy: 0.9780\n",
            "Epoch 12/40\n",
            "63/63 [==============================] - 3s 50ms/step - loss: 1.6347 - accuracy: 0.9770 - val_loss: 3.5684 - val_accuracy: 0.9800\n",
            "Epoch 13/40\n",
            "63/63 [==============================] - 3s 48ms/step - loss: 1.5404 - accuracy: 0.9835 - val_loss: 4.5227 - val_accuracy: 0.9710\n",
            "Epoch 14/40\n",
            "63/63 [==============================] - 3s 46ms/step - loss: 1.7367 - accuracy: 0.9825 - val_loss: 5.1757 - val_accuracy: 0.9730\n",
            "Epoch 15/40\n",
            "63/63 [==============================] - 3s 50ms/step - loss: 2.3389 - accuracy: 0.9745 - val_loss: 3.4465 - val_accuracy: 0.9760\n",
            "Epoch 16/40\n",
            "63/63 [==============================] - 3s 50ms/step - loss: 2.1601 - accuracy: 0.9795 - val_loss: 3.0799 - val_accuracy: 0.9740\n",
            "Epoch 17/40\n",
            "63/63 [==============================] - 3s 46ms/step - loss: 1.9287 - accuracy: 0.9790 - val_loss: 3.6093 - val_accuracy: 0.9720\n",
            "Epoch 18/40\n",
            "63/63 [==============================] - 3s 46ms/step - loss: 1.1191 - accuracy: 0.9870 - val_loss: 3.1539 - val_accuracy: 0.9750\n",
            "Epoch 19/40\n",
            "63/63 [==============================] - 3s 47ms/step - loss: 1.5472 - accuracy: 0.9805 - val_loss: 3.7405 - val_accuracy: 0.9750\n",
            "Epoch 20/40\n",
            "63/63 [==============================] - 3s 47ms/step - loss: 1.4568 - accuracy: 0.9815 - val_loss: 3.2056 - val_accuracy: 0.9740\n",
            "Epoch 21/40\n",
            "63/63 [==============================] - 3s 50ms/step - loss: 1.6041 - accuracy: 0.9795 - val_loss: 2.8167 - val_accuracy: 0.9740\n",
            "Epoch 22/40\n",
            "63/63 [==============================] - 3s 50ms/step - loss: 1.0737 - accuracy: 0.9810 - val_loss: 2.7731 - val_accuracy: 0.9750\n",
            "Epoch 23/40\n",
            "63/63 [==============================] - 3s 46ms/step - loss: 1.0013 - accuracy: 0.9845 - val_loss: 3.5100 - val_accuracy: 0.9690\n",
            "Epoch 24/40\n",
            "63/63 [==============================] - 3s 50ms/step - loss: 1.2789 - accuracy: 0.9820 - val_loss: 2.6970 - val_accuracy: 0.9760\n",
            "Epoch 25/40\n",
            "63/63 [==============================] - 3s 47ms/step - loss: 0.8932 - accuracy: 0.9835 - val_loss: 3.5955 - val_accuracy: 0.9710\n",
            "Epoch 26/40\n",
            "63/63 [==============================] - 3s 50ms/step - loss: 1.0752 - accuracy: 0.9840 - val_loss: 2.5317 - val_accuracy: 0.9750\n",
            "Epoch 27/40\n",
            "63/63 [==============================] - 3s 51ms/step - loss: 0.8194 - accuracy: 0.9840 - val_loss: 2.0088 - val_accuracy: 0.9800\n",
            "Epoch 28/40\n",
            "63/63 [==============================] - 3s 50ms/step - loss: 0.7923 - accuracy: 0.9880 - val_loss: 1.9177 - val_accuracy: 0.9820\n",
            "Epoch 29/40\n",
            "63/63 [==============================] - 3s 46ms/step - loss: 1.1499 - accuracy: 0.9825 - val_loss: 1.9669 - val_accuracy: 0.9800\n",
            "Epoch 30/40\n",
            "63/63 [==============================] - 3s 47ms/step - loss: 0.3788 - accuracy: 0.9885 - val_loss: 2.1771 - val_accuracy: 0.9780\n",
            "Epoch 31/40\n",
            "63/63 [==============================] - 3s 47ms/step - loss: 1.0818 - accuracy: 0.9815 - val_loss: 2.1146 - val_accuracy: 0.9770\n",
            "Epoch 32/40\n",
            "63/63 [==============================] - 3s 50ms/step - loss: 0.8065 - accuracy: 0.9875 - val_loss: 1.8430 - val_accuracy: 0.9800\n",
            "Epoch 33/40\n",
            "63/63 [==============================] - 3s 51ms/step - loss: 1.0364 - accuracy: 0.9870 - val_loss: 1.7289 - val_accuracy: 0.9810\n",
            "Epoch 34/40\n",
            "63/63 [==============================] - 3s 47ms/step - loss: 0.6928 - accuracy: 0.9845 - val_loss: 2.4297 - val_accuracy: 0.9750\n",
            "Epoch 35/40\n",
            "63/63 [==============================] - 3s 47ms/step - loss: 0.5119 - accuracy: 0.9880 - val_loss: 1.9502 - val_accuracy: 0.9800\n",
            "Epoch 36/40\n",
            "63/63 [==============================] - 3s 50ms/step - loss: 0.4980 - accuracy: 0.9885 - val_loss: 1.3376 - val_accuracy: 0.9820\n",
            "Epoch 37/40\n",
            "63/63 [==============================] - 3s 47ms/step - loss: 0.5075 - accuracy: 0.9900 - val_loss: 3.4584 - val_accuracy: 0.9640\n",
            "Epoch 38/40\n",
            "63/63 [==============================] - 3s 47ms/step - loss: 0.5040 - accuracy: 0.9900 - val_loss: 2.0018 - val_accuracy: 0.9770\n",
            "Epoch 39/40\n",
            "63/63 [==============================] - 3s 46ms/step - loss: 0.6190 - accuracy: 0.9870 - val_loss: 1.4699 - val_accuracy: 0.9810\n",
            "Epoch 40/40\n",
            "63/63 [==============================] - 3s 47ms/step - loss: 0.8808 - accuracy: 0.9845 - val_loss: 1.9160 - val_accuracy: 0.9760\n"
          ]
        }
      ]
    },
    {
      "cell_type": "markdown",
      "source": [
        "Evaluating the model on the test set\n",
        "\n"
      ],
      "metadata": {
        "id": "qWqjzAP9Oy9F"
      }
    },
    {
      "cell_type": "code",
      "source": [
        "test_model = keras.models.load_model(\n",
        "    \"feature_extraction_with_data_augmentation.keras\")\n",
        "test_loss, test_acc = test_model.evaluate(test_dataset)\n",
        "print(f\"Test accuracy: {test_acc:.3f}\")"
      ],
      "metadata": {
        "colab": {
          "base_uri": "https://localhost:8080/"
        },
        "id": "4UuVuLHpOzc0",
        "outputId": "37815f82-08ab-41da-e211-5c19c9521fe9"
      },
      "execution_count": 41,
      "outputs": [
        {
          "output_type": "stream",
          "name": "stdout",
          "text": [
            "32/32 [==============================] - 1s 21ms/step - loss: 2.0549 - accuracy: 0.9770\n",
            "Test accuracy: 0.977\n"
          ]
        }
      ]
    },
    {
      "cell_type": "code",
      "source": [
        "conv_base.summary()"
      ],
      "metadata": {
        "colab": {
          "base_uri": "https://localhost:8080/"
        },
        "id": "BNU92zYLO3Zs",
        "outputId": "236e078b-0d72-47e1-ccc8-5eca695c8a8a"
      },
      "execution_count": 42,
      "outputs": [
        {
          "output_type": "stream",
          "name": "stdout",
          "text": [
            "Model: \"vgg16\"\n",
            "_________________________________________________________________\n",
            " Layer (type)                Output Shape              Param #   \n",
            "=================================================================\n",
            " input_6 (InputLayer)        [(None, None, None, 3)]   0         \n",
            "                                                                 \n",
            " block1_conv1 (Conv2D)       (None, None, None, 64)    1792      \n",
            "                                                                 \n",
            " block1_conv2 (Conv2D)       (None, None, None, 64)    36928     \n",
            "                                                                 \n",
            " block1_pool (MaxPooling2D)  (None, None, None, 64)    0         \n",
            "                                                                 \n",
            " block2_conv1 (Conv2D)       (None, None, None, 128)   73856     \n",
            "                                                                 \n",
            " block2_conv2 (Conv2D)       (None, None, None, 128)   147584    \n",
            "                                                                 \n",
            " block2_pool (MaxPooling2D)  (None, None, None, 128)   0         \n",
            "                                                                 \n",
            " block3_conv1 (Conv2D)       (None, None, None, 256)   295168    \n",
            "                                                                 \n",
            " block3_conv2 (Conv2D)       (None, None, None, 256)   590080    \n",
            "                                                                 \n",
            " block3_conv3 (Conv2D)       (None, None, None, 256)   590080    \n",
            "                                                                 \n",
            " block3_pool (MaxPooling2D)  (None, None, None, 256)   0         \n",
            "                                                                 \n",
            " block4_conv1 (Conv2D)       (None, None, None, 512)   1180160   \n",
            "                                                                 \n",
            " block4_conv2 (Conv2D)       (None, None, None, 512)   2359808   \n",
            "                                                                 \n",
            " block4_conv3 (Conv2D)       (None, None, None, 512)   2359808   \n",
            "                                                                 \n",
            " block4_pool (MaxPooling2D)  (None, None, None, 512)   0         \n",
            "                                                                 \n",
            " block5_conv1 (Conv2D)       (None, None, None, 512)   2359808   \n",
            "                                                                 \n",
            " block5_conv2 (Conv2D)       (None, None, None, 512)   2359808   \n",
            "                                                                 \n",
            " block5_conv3 (Conv2D)       (None, None, None, 512)   2359808   \n",
            "                                                                 \n",
            " block5_pool (MaxPooling2D)  (None, None, None, 512)   0         \n",
            "                                                                 \n",
            "=================================================================\n",
            "Total params: 14,714,688\n",
            "Trainable params: 0\n",
            "Non-trainable params: 14,714,688\n",
            "_________________________________________________________________\n"
          ]
        }
      ]
    },
    {
      "cell_type": "markdown",
      "source": [
        "Freezing all layers until the fourth from the last"
      ],
      "metadata": {
        "id": "jaSd10iCO-Uq"
      }
    },
    {
      "cell_type": "code",
      "source": [
        "conv_base.trainable = True\n",
        "for layer in conv_base.layers[:-4]:\n",
        "    layer.trainable = False"
      ],
      "metadata": {
        "id": "IBUOdTIhPAe9"
      },
      "execution_count": 43,
      "outputs": []
    },
    {
      "cell_type": "markdown",
      "source": [
        "Fine-tuning the model"
      ],
      "metadata": {
        "id": "cPBzpGK_PCJd"
      }
    },
    {
      "cell_type": "code",
      "source": [
        "model.compile(loss=\"binary_crossentropy\",\n",
        "              optimizer=keras.optimizers.RMSprop(learning_rate=1e-5),\n",
        "              metrics=[\"accuracy\"])\n",
        "\n",
        "callbacks = [\n",
        "    keras.callbacks.ModelCheckpoint(\n",
        "        filepath=\"fine_tuning.keras\",\n",
        "        save_best_only=True,\n",
        "        monitor=\"val_loss\")\n",
        "]\n",
        "history = model.fit(\n",
        "    train_dataset,\n",
        "    epochs=20,\n",
        "    validation_data=validation_dataset,\n",
        "    callbacks=callbacks)"
      ],
      "metadata": {
        "colab": {
          "base_uri": "https://localhost:8080/"
        },
        "id": "YnwV1uHSPC4W",
        "outputId": "07523e86-8e54-4b61-93e3-2392c33d7564"
      },
      "execution_count": 44,
      "outputs": [
        {
          "output_type": "stream",
          "name": "stdout",
          "text": [
            "Epoch 1/20\n",
            "63/63 [==============================] - 5s 55ms/step - loss: 0.5471 - accuracy: 0.9870 - val_loss: 2.0723 - val_accuracy: 0.9740\n",
            "Epoch 2/20\n",
            "63/63 [==============================] - 3s 49ms/step - loss: 0.3382 - accuracy: 0.9880 - val_loss: 2.0984 - val_accuracy: 0.9730\n",
            "Epoch 3/20\n",
            "63/63 [==============================] - 3s 53ms/step - loss: 0.2702 - accuracy: 0.9890 - val_loss: 1.3227 - val_accuracy: 0.9800\n",
            "Epoch 4/20\n",
            "63/63 [==============================] - 3s 49ms/step - loss: 0.3837 - accuracy: 0.9915 - val_loss: 1.6705 - val_accuracy: 0.9740\n",
            "Epoch 5/20\n",
            "63/63 [==============================] - 3s 53ms/step - loss: 0.2322 - accuracy: 0.9920 - val_loss: 1.2209 - val_accuracy: 0.9800\n",
            "Epoch 6/20\n",
            "63/63 [==============================] - 3s 49ms/step - loss: 0.1948 - accuracy: 0.9920 - val_loss: 1.4404 - val_accuracy: 0.9800\n",
            "Epoch 7/20\n",
            "63/63 [==============================] - 3s 50ms/step - loss: 0.4563 - accuracy: 0.9900 - val_loss: 1.2940 - val_accuracy: 0.9750\n",
            "Epoch 8/20\n",
            "63/63 [==============================] - 3s 53ms/step - loss: 0.1648 - accuracy: 0.9960 - val_loss: 1.1807 - val_accuracy: 0.9770\n",
            "Epoch 9/20\n",
            "63/63 [==============================] - 3s 49ms/step - loss: 0.2080 - accuracy: 0.9925 - val_loss: 1.2144 - val_accuracy: 0.9820\n",
            "Epoch 10/20\n",
            "63/63 [==============================] - 3s 49ms/step - loss: 0.0802 - accuracy: 0.9955 - val_loss: 2.3655 - val_accuracy: 0.9700\n",
            "Epoch 11/20\n",
            "63/63 [==============================] - 3s 48ms/step - loss: 0.3509 - accuracy: 0.9915 - val_loss: 2.4458 - val_accuracy: 0.9650\n",
            "Epoch 12/20\n",
            "63/63 [==============================] - 3s 49ms/step - loss: 0.1535 - accuracy: 0.9940 - val_loss: 1.4417 - val_accuracy: 0.9660\n",
            "Epoch 13/20\n",
            "63/63 [==============================] - 3s 49ms/step - loss: 0.1854 - accuracy: 0.9925 - val_loss: 1.4786 - val_accuracy: 0.9710\n",
            "Epoch 14/20\n",
            "63/63 [==============================] - 3s 49ms/step - loss: 0.2220 - accuracy: 0.9930 - val_loss: 1.7263 - val_accuracy: 0.9700\n",
            "Epoch 15/20\n",
            "63/63 [==============================] - 3s 48ms/step - loss: 0.1113 - accuracy: 0.9930 - val_loss: 1.5373 - val_accuracy: 0.9800\n",
            "Epoch 16/20\n",
            "63/63 [==============================] - 3s 49ms/step - loss: 0.1484 - accuracy: 0.9935 - val_loss: 1.3894 - val_accuracy: 0.9740\n",
            "Epoch 17/20\n",
            "63/63 [==============================] - 3s 49ms/step - loss: 0.0610 - accuracy: 0.9950 - val_loss: 1.3777 - val_accuracy: 0.9830\n",
            "Epoch 18/20\n",
            "63/63 [==============================] - 3s 49ms/step - loss: 0.1677 - accuracy: 0.9945 - val_loss: 1.2863 - val_accuracy: 0.9740\n",
            "Epoch 19/20\n",
            "63/63 [==============================] - 3s 53ms/step - loss: 0.1037 - accuracy: 0.9950 - val_loss: 0.9234 - val_accuracy: 0.9850\n",
            "Epoch 20/20\n",
            "63/63 [==============================] - 3s 49ms/step - loss: 0.0659 - accuracy: 0.9985 - val_loss: 1.0379 - val_accuracy: 0.9840\n"
          ]
        }
      ]
    },
    {
      "cell_type": "code",
      "source": [
        "model = keras.models.load_model(\"fine_tuning.keras\")\n",
        "test_loss, test_acc = model.evaluate(test_dataset)\n",
        "print(f\"Test accuracy: {test_acc:.3f}\")"
      ],
      "metadata": {
        "colab": {
          "base_uri": "https://localhost:8080/"
        },
        "id": "KmOtdzFVPHdU",
        "outputId": "42d0bd35-3799-4390-c8c5-d595ecc2defc"
      },
      "execution_count": 45,
      "outputs": [
        {
          "output_type": "stream",
          "name": "stdout",
          "text": [
            "32/32 [==============================] - 1s 20ms/step - loss: 1.5499 - accuracy: 0.9810\n",
            "Test accuracy: 0.981\n"
          ]
        }
      ]
    }
  ]
}